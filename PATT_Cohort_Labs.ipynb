{
 "cells": [
  {
   "cell_type": "markdown",
   "metadata": {
    "application/vnd.databricks.v1+cell": {
     "cellMetadata": {},
     "inputWidgets": {},
     "nuid": "b1f9b9a3-7035-446b-b0f1-419b205f0732",
     "showTitle": false,
     "title": ""
    }
   },
   "source": [
    "_Author_ = \"Sevda Molani\"\n",
    "\n",
    "_copyright_ = \"2022 Sevda Molani\"\n",
    "\n",
    "_License_ = \"Institute for Systems Biology\"\n",
    "\n",
    "_Version_ = \"1.0\"\n"
   ]
  },
  {
   "cell_type": "code",
   "execution_count": 0,
   "metadata": {
    "application/vnd.databricks.v1+cell": {
     "cellMetadata": {},
     "inputWidgets": {},
     "nuid": "48a64d29-cb72-4255-8f58-708e307c6de7",
     "showTitle": false,
     "title": ""
    }
   },
   "outputs": [],
   "source": [
    "from pyspark.sql.types import *\n",
    "from pyspark.sql.functions import *\n",
    "import pyspark.sql.functions as F\n",
    "import numpy as np\n",
    "from pyspark.sql.window import Window\n",
    "\n",
    "import pandas as pd\n",
    "pd.set_option(\"display.max_colwidth\", 0)\n",
    "pd.set_option('display.max_rows', None)"
   ]
  },
  {
   "cell_type": "code",
   "execution_count": 0,
   "metadata": {
    "application/vnd.databricks.v1+cell": {
     "cellMetadata": {},
     "inputWidgets": {},
     "nuid": "1cc121e3-dea1-41c8-b950-f4b084e252c5",
     "showTitle": false,
     "title": ""
    }
   },
   "outputs": [],
   "source": [
    "initial = spark.sql(\"\"\"SELECT * FROM rdp_phi_sandbox.sm_initial_delta_table_feb\"\"\") #### Go to this notebook for this table: /Users/sevda.molani@providence.org/Sevda_Codes (1)/Covid/PATT/Initial_table_for_labs"
   ]
  },
  {
   "cell_type": "code",
   "execution_count": 0,
   "metadata": {
    "application/vnd.databricks.v1+cell": {
     "cellMetadata": {},
     "inputWidgets": {},
     "nuid": "b8fb0b74-3d5e-41c0-984a-288c1712baf5",
     "showTitle": true,
     "title": "D-Dimer (ng/ml to ug/ml --> *0.001)"
    }
   },
   "outputs": [],
   "source": [
    "dataframe_ddimer = initial.where((lower(col(\"resultname\")).contains(\"d-dimer\")) | (lower(col(\"resultname\")).contains('ddimer')) | (lower(col(\"resultname\")).contains('dimer')) | (lower(col(\"resultname\")).contains('disseminated intravascular coagulation')) | (lower(col(\"resultname\")).contains('intravascular coagulation')))\n",
    "\n",
    "dataframe_ddimer = dataframe_ddimer.withColumn('unit_cleaned',\n",
    "                                               when(lower(dataframe_ddimer.unit).contains(\"ug/ml\"),\"standard\").\\\n",
    "                                               when(lower(dataframe_ddimer.unit).contains(\"ug/mlfeu\"),\"standard\").\\\n",
    "                                               when(lower(dataframe_ddimer.unit).contains(\"ng/ml\"),\"standard\").\\\n",
    "                                               otherwise(col(\"unit\")))\n",
    "\n",
    "dataframe_ddimer = dataframe_ddimer.withColumn('resultname_cleaned', \n",
    "                                         when(dataframe_ddimer.unit_cleaned.contains(\"standard\"),\"ddimer_cleaned\").\\\n",
    "                                         otherwise(col(\"resultname\")))\n",
    "\n",
    "\n",
    "ddimer_df = dataframe_ddimer.filter(dataframe_ddimer.resultname_cleaned ==\"ddimer_cleaned\")\n",
    "ddimer_df = ddimer_df.withColumn('resultvalue',when(lower(dataframe_ddimer.unit).contains(\"ng/ml\"),col(\"resultvalue\")*0.001).\\\n",
    "                                               otherwise(col(\"resultvalue\")))\n",
    "\n",
    "\n",
    "w=Window.partitionBy(\"pat_id\",\"instance\",\"pat_enc_csn_id\").orderBy(\"observationdatetime\").rowsBetween(Window.unboundedPreceding, Window.unboundedFollowing)\n",
    "final_ddimer_1 = ddimer_df.withColumn('resultvalue_ddimer', F.mean('resultvalue').over(w))\n",
    "final_ddimer_2 = final_ddimer_1.withColumn('Last_ddimer', F.last('resultvalue').over(w))\n",
    "    \n",
    "columns = ['pat_id','instance','pat_enc_csn_id','resultvalue_ddimer','Last_ddimer']\n",
    "saved_ddimer = final_ddimer_2[columns]\n",
    "saved_ddimer = saved_ddimer.dropDuplicates(['pat_id','instance','pat_enc_csn_id'])"
   ]
  },
  {
   "cell_type": "code",
   "execution_count": 0,
   "metadata": {
    "application/vnd.databricks.v1+cell": {
     "cellMetadata": {},
     "inputWidgets": {},
     "nuid": "1bd3a824-6433-4c89-9233-a0381187f44d",
     "showTitle": false,
     "title": ""
    }
   },
   "outputs": [],
   "source": [
    "%sql\n",
    "DROP TABLE rdp_phi_sandbox.sm_patt_ddimer_feb;"
   ]
  },
  {
   "cell_type": "code",
   "execution_count": 0,
   "metadata": {
    "application/vnd.databricks.v1+cell": {
     "cellMetadata": {},
     "inputWidgets": {},
     "nuid": "6b2936e1-59af-4c5b-8ff6-7ba192106970",
     "showTitle": false,
     "title": ""
    }
   },
   "outputs": [],
   "source": [
    "table_name = 'rdp_phi_sandbox.sm_patt_ddimer_feb'\n",
    "saved_ddimer.write.saveAsTable(table_name)"
   ]
  },
  {
   "cell_type": "code",
   "execution_count": 0,
   "metadata": {
    "application/vnd.databricks.v1+cell": {
     "cellMetadata": {},
     "inputWidgets": {},
     "nuid": "50c501e4-0a0b-44aa-927b-082dd409889e",
     "showTitle": true,
     "title": "C-Reactive"
    }
   },
   "outputs": [],
   "source": [
    "dataframe_crp = initial.where((lower(col(\"resultname\")).contains(\"reactive\")) | (lower(col(\"resultname\")).contains('crp')) | (lower(col(\"resultname\")).contains('c reactive')) | (lower(col(\"resultname\")).contains('creactive')) | (lower(col(\"resultname\")).contains('c-reactive')) | (lower(col(\"resultname\")).contains('c_reactive')))\n",
    "\n",
    "dataframe_crp = dataframe_crp.where(dataframe_crp.unit != \"%\")\n",
    "dataframe_crp = dataframe_crp.where(~(col(\"resultname\").contains(\"LYMPHOCYTES\")))\n",
    "\n",
    "dataframe_crp = dataframe_crp.withColumn('unit_cleaned',lit(\"standard\"))\n",
    "\n",
    "dataframe_crp = dataframe_crp.withColumn('resultname_cleaned', \n",
    "                                         when(dataframe_crp.unit_cleaned.contains(\"standard\"),\"crp_cleaned\").\\\n",
    "                                         otherwise(col(\"resultname\")))\n",
    "\n",
    "\n",
    "crp_df = dataframe_crp.filter(dataframe_crp.resultname_cleaned ==\"crp_cleaned\")\n",
    "\n",
    "w=Window.partitionBy(\"pat_id\",\"instance\",\"pat_enc_csn_id\").orderBy(\"observationdatetime\").rowsBetween(Window.unboundedPreceding, Window.unboundedFollowing)\n",
    "final_crp_1 = crp_df.withColumn('resultvalue_crp', F.mean('resultvalue').over(w))\n",
    "final_crp_2 = final_crp_1.withColumn('Last_crp', F.last('resultvalue').over(w))\n",
    "    \n",
    "columns = ['pat_id','instance','pat_enc_csn_id','resultvalue_crp','Last_crp']\n",
    "saved_crp = final_crp_2[columns]\n",
    "saved_crp = saved_crp.dropDuplicates(['pat_id','instance','pat_enc_csn_id'])"
   ]
  },
  {
   "cell_type": "code",
   "execution_count": 0,
   "metadata": {
    "application/vnd.databricks.v1+cell": {
     "cellMetadata": {},
     "inputWidgets": {},
     "nuid": "005cee61-0ba0-4ea7-be5f-a47f6e18367a",
     "showTitle": false,
     "title": ""
    }
   },
   "outputs": [],
   "source": [
    "%sql\n",
    "DROP TABLE rdp_phi_sandbox.sm_patt_crp_feb;"
   ]
  },
  {
   "cell_type": "code",
   "execution_count": 0,
   "metadata": {
    "application/vnd.databricks.v1+cell": {
     "cellMetadata": {},
     "inputWidgets": {},
     "nuid": "5cea5ddc-8d32-4f0d-94e3-5a1fbb9dcf3c",
     "showTitle": false,
     "title": ""
    }
   },
   "outputs": [],
   "source": [
    "table_name = 'rdp_phi_sandbox.sm_patt_crp_feb'\n",
    "saved_crp.write.saveAsTable(table_name)"
   ]
  },
  {
   "cell_type": "code",
   "execution_count": 0,
   "metadata": {
    "application/vnd.databricks.v1+cell": {
     "cellMetadata": {},
     "inputWidgets": {},
     "nuid": "1b18a040-2e04-4c21-9fd2-24339c6ef8f8",
     "showTitle": true,
     "title": "eGFR"
    }
   },
   "outputs": [],
   "source": [
    "dataframe_egfr = initial.where((lower(col(\"resultname\")).contains(\"egfr\")) | (lower(col(\"resultname\")).contains('estimated glomerular filtration')) | (lower(col(\"resultname\")).contains('estimated glomerular')))\n",
    "\n",
    "dataframe_egfr = dataframe_egfr.withColumn('unit_cleaned',lit(\"standard\"))\n",
    "\n",
    "dataframe_egfr = dataframe_egfr.withColumn('resultname_cleaned', \n",
    "                                         when(dataframe_egfr.unit_cleaned.contains(\"standard\"),\"egfr_cleaned\").\\\n",
    "                                         otherwise(col(\"resultname\")))\n",
    "\n",
    "\n",
    "egfr_df = dataframe_egfr.filter(dataframe_egfr.resultname_cleaned ==\"egfr_cleaned\")\n",
    "\n",
    "w=Window.partitionBy(\"pat_id\",\"instance\",\"pat_enc_csn_id\").orderBy(\"observationdatetime\").rowsBetween(Window.unboundedPreceding, Window.unboundedFollowing)\n",
    "final_egfr_1 = egfr_df.withColumn('resultvalue_egfr', F.mean('resultvalue').over(w))\n",
    "final_egfr_2 = final_egfr_1.withColumn('Last_egfr', F.last('resultvalue').over(w))\n",
    "    \n",
    "columns = ['pat_id','instance','pat_enc_csn_id','resultvalue_egfr','Last_egfr']\n",
    "saved_egfr = final_egfr_2[columns]\n",
    "saved_egfr = saved_egfr.dropDuplicates(['pat_id','instance','pat_enc_csn_id'])"
   ]
  },
  {
   "cell_type": "code",
   "execution_count": 0,
   "metadata": {
    "application/vnd.databricks.v1+cell": {
     "cellMetadata": {},
     "inputWidgets": {},
     "nuid": "8a674fe6-45aa-4a33-be0a-fb1632f0a97e",
     "showTitle": false,
     "title": ""
    }
   },
   "outputs": [],
   "source": [
    "%sql\n",
    "DROP TABLE rdp_phi_sandbox.sm_patt_egfr_feb;"
   ]
  },
  {
   "cell_type": "code",
   "execution_count": 0,
   "metadata": {
    "application/vnd.databricks.v1+cell": {
     "cellMetadata": {},
     "inputWidgets": {},
     "nuid": "d3300ae8-ddac-4782-85cd-34caca92aede",
     "showTitle": false,
     "title": ""
    }
   },
   "outputs": [],
   "source": [
    "table_name = 'rdp_phi_sandbox.sm_patt_egfr_feb'\n",
    "saved_egfr.write.saveAsTable(table_name)"
   ]
  },
  {
   "cell_type": "code",
   "execution_count": 0,
   "metadata": {
    "application/vnd.databricks.v1+cell": {
     "cellMetadata": {},
     "inputWidgets": {},
     "nuid": "f4d5be8c-ab77-4a7c-9b74-9e1fc31b1e9d",
     "showTitle": true,
     "title": "Prothrombin"
    }
   },
   "outputs": [],
   "source": [
    "dataframe_Prothrombin = initial.where((lower(col(\"resultname\")).contains(\"prothrombin\")))\n",
    "\n",
    "dataframe_Prothrombin = dataframe_Prothrombin.withColumn('unit_cleaned',lit(\"standard\"))\n",
    "\n",
    "dataframe_Prothrombin = dataframe_Prothrombin.withColumn('resultname_cleaned', \n",
    "                                         when(dataframe_Prothrombin.unit_cleaned.contains(\"standard\"),\"Proth_cleaned\").\\\n",
    "                                         otherwise(col(\"resultname\")))\n",
    "\n",
    "\n",
    "Proth_df = dataframe_Prothrombin.filter(dataframe_Prothrombin.resultname_cleaned ==\"Proth_cleaned\")\n",
    "\n",
    "w=Window.partitionBy(\"pat_id\",\"instance\",\"pat_enc_csn_id\").orderBy(\"observationdatetime\").rowsBetween(Window.unboundedPreceding, Window.unboundedFollowing)\n",
    "final_Proth_1 = Proth_df.withColumn('resultvalue_Proth', F.mean('resultvalue').over(w))\n",
    "final_Proth_2 = final_Proth_1.withColumn('Last_Proth', F.last('resultvalue').over(w))\n",
    "    \n",
    "columns = ['pat_id','instance','pat_enc_csn_id','resultvalue_Proth','Last_Proth']\n",
    "saved_Proth = final_Proth_2[columns]\n",
    "saved_Proth = saved_Proth.dropDuplicates(['pat_id','instance','pat_enc_csn_id'])"
   ]
  },
  {
   "cell_type": "code",
   "execution_count": 0,
   "metadata": {
    "application/vnd.databricks.v1+cell": {
     "cellMetadata": {},
     "inputWidgets": {},
     "nuid": "c7ae1e12-10f2-4b62-a151-31835487ceb5",
     "showTitle": false,
     "title": ""
    }
   },
   "outputs": [],
   "source": [
    "%sql\n",
    "DROP TABLE rdp_phi_sandbox.sm_patt_Proth_feb;"
   ]
  },
  {
   "cell_type": "code",
   "execution_count": 0,
   "metadata": {
    "application/vnd.databricks.v1+cell": {
     "cellMetadata": {},
     "inputWidgets": {},
     "nuid": "eb1be302-df42-4e9e-9bca-aeb32f1c24c1",
     "showTitle": false,
     "title": ""
    }
   },
   "outputs": [],
   "source": [
    "table_name = 'rdp_phi_sandbox.sm_patt_Proth_feb'\n",
    "saved_Proth.write.saveAsTable(table_name)"
   ]
  },
  {
   "cell_type": "code",
   "execution_count": 0,
   "metadata": {
    "application/vnd.databricks.v1+cell": {
     "cellMetadata": {},
     "inputWidgets": {},
     "nuid": "3cb0afb2-c42d-480a-8c00-db6c2bc34b5e",
     "showTitle": true,
     "title": "BUN/CREATININE"
    }
   },
   "outputs": [],
   "source": [
    "dataframe_buncreat = initial.where((lower(col(\"resultname\")).contains(\"bun/creatinine\")) | (lower(col(\"resultname\")).contains('bun/creat')))\n",
    "\n",
    "dataframe_buncreat = dataframe_buncreat.withColumn('unit_cleaned',\n",
    "                                       when(dataframe_buncreat.unit.isNull(),\"standard\").\\\n",
    "                                       when(lower(dataframe_buncreat.unit).contains(\"ratio\"),\"standard\").\\\n",
    "                                       otherwise(col(\"unit\")))\n",
    "\n",
    "dataframe_buncreat = dataframe_buncreat.withColumn('resultname_cleaned', \n",
    "                                         when(dataframe_buncreat.unit_cleaned.contains(\"standard\"),\"buncreat_cleaned\").\\\n",
    "                                         otherwise(col(\"resultname\")))\n",
    "\n",
    "\n",
    "buncreat_df = dataframe_buncreat.filter(dataframe_buncreat.resultname_cleaned ==\"buncreat_cleaned\")\n",
    "\n",
    "w=Window.partitionBy(\"pat_id\",\"instance\",\"pat_enc_csn_id\").orderBy(\"observationdatetime\").rowsBetween(Window.unboundedPreceding, Window.unboundedFollowing)\n",
    "final_buncreat_1 = buncreat_df.withColumn('resultvalue_buncreat', F.mean('resultvalue').over(w))\n",
    "final_buncreat_2 = final_buncreat_1.withColumn('Last_buncreat', F.last('resultvalue').over(w))\n",
    "    \n",
    "columns = ['pat_id','instance','pat_enc_csn_id','resultvalue_buncreat','Last_buncreat']\n",
    "saved_buncreat = final_buncreat_2[columns]\n",
    "saved_buncreat = saved_buncreat.dropDuplicates(['pat_id','instance','pat_enc_csn_id'])"
   ]
  },
  {
   "cell_type": "code",
   "execution_count": 0,
   "metadata": {
    "application/vnd.databricks.v1+cell": {
     "cellMetadata": {},
     "inputWidgets": {},
     "nuid": "e53fd3e8-a016-4d7a-8189-ca427ab19104",
     "showTitle": false,
     "title": ""
    }
   },
   "outputs": [],
   "source": [
    "%sql\n",
    "DROP TABLE rdp_phi_sandbox.sm_patt_buncreat_feb;"
   ]
  },
  {
   "cell_type": "code",
   "execution_count": 0,
   "metadata": {
    "application/vnd.databricks.v1+cell": {
     "cellMetadata": {},
     "inputWidgets": {},
     "nuid": "3298dfad-4939-442c-8594-62c6de39b5f6",
     "showTitle": false,
     "title": ""
    }
   },
   "outputs": [],
   "source": [
    "table_name = 'rdp_phi_sandbox.sm_patt_buncreat_feb'\n",
    "saved_buncreat.write.saveAsTable(table_name)"
   ]
  },
  {
   "cell_type": "code",
   "execution_count": 0,
   "metadata": {
    "application/vnd.databricks.v1+cell": {
     "cellMetadata": {},
     "inputWidgets": {},
     "nuid": "cf4bb43e-b0ec-4d13-a57f-ed316c6fbc99",
     "showTitle": true,
     "title": "Ferritin"
    }
   },
   "outputs": [],
   "source": [
    "dataframe_Ferritin = initial.where((lower(col(\"resultname\")).contains(\"ferritin\")))\n",
    "\n",
    "dataframe_Ferritin = dataframe_Ferritin.withColumn('unit_cleaned',\n",
    "                                       when(dataframe_Ferritin.unit.isNull(),\"standard\").\\\n",
    "                                       when(lower(dataframe_Ferritin.unit).contains(\"ng/ml\"),\"standard\").\\\n",
    "                                       otherwise(col(\"unit\")))\n",
    "\n",
    "dataframe_Ferritin = dataframe_Ferritin.withColumn('resultname_cleaned', \n",
    "                                         when(dataframe_Ferritin.unit_cleaned.contains(\"standard\"),\"fr_cleaned\").\\\n",
    "                                         otherwise(col(\"resultname\")))\n",
    "\n",
    "\n",
    "fr_df = dataframe_Ferritin.filter(dataframe_Ferritin.resultname_cleaned ==\"fr_cleaned\")\n",
    "\n",
    "w=Window.partitionBy(\"pat_id\",\"instance\",\"pat_enc_csn_id\").orderBy(\"observationdatetime\").rowsBetween(Window.unboundedPreceding, Window.unboundedFollowing)\n",
    "final_fr_1 = fr_df.withColumn('resultvalue_fr', F.mean('resultvalue').over(w))\n",
    "final_fr_2 = final_fr_1.withColumn('Last_fr', F.last('resultvalue').over(w))\n",
    "    \n",
    "columns = ['pat_id','instance','pat_enc_csn_id','resultvalue_fr','Last_fr']\n",
    "saved_fr = final_fr_2[columns]\n",
    "saved_fr = saved_fr.dropDuplicates(['pat_id','instance','pat_enc_csn_id'])"
   ]
  },
  {
   "cell_type": "code",
   "execution_count": 0,
   "metadata": {
    "application/vnd.databricks.v1+cell": {
     "cellMetadata": {},
     "inputWidgets": {},
     "nuid": "16ade90e-e2a0-428e-9db8-a2bf921c367e",
     "showTitle": false,
     "title": ""
    }
   },
   "outputs": [],
   "source": [
    "%sql\n",
    "DROP TABLE rdp_phi_sandbox.sm_patt_fr_feb;"
   ]
  },
  {
   "cell_type": "code",
   "execution_count": 0,
   "metadata": {
    "application/vnd.databricks.v1+cell": {
     "cellMetadata": {},
     "inputWidgets": {},
     "nuid": "144ac184-ec9e-4620-8936-5c28656e198b",
     "showTitle": false,
     "title": ""
    }
   },
   "outputs": [],
   "source": [
    "table_name = 'rdp_phi_sandbox.sm_patt_fr_feb'\n",
    "saved_fr.write.saveAsTable(table_name)"
   ]
  },
  {
   "cell_type": "code",
   "execution_count": 0,
   "metadata": {
    "application/vnd.databricks.v1+cell": {
     "cellMetadata": {},
     "inputWidgets": {},
     "nuid": "09c24bf5-d0c0-48ff-a8d8-85a8e40fa0bb",
     "showTitle": true,
     "title": "INR"
    }
   },
   "outputs": [],
   "source": [
    "dataframe_inr = initial.where((lower(col(\"resultname\")).contains(\"inr\")) | (lower(col(\"resultname\")).contains(\" international normalized ratio\")))\n",
    "\n",
    "dataframe_inr = dataframe_inr.withColumn('unit_cleaned',\n",
    "                                       when(dataframe_inr.unit.isNull(),\"standard\").\\\n",
    "                                       when(lower(dataframe_inr.unit).contains(\"ratio\"),\"standard\").\\\n",
    "                                       otherwise(col(\"unit\")))\n",
    "\n",
    "dataframe_inr = dataframe_inr.withColumn('resultname_cleaned', \n",
    "                                         when(dataframe_inr.unit_cleaned.contains(\"standard\"),\"inr_cleaned\").\\\n",
    "                                         otherwise(col(\"resultname\")))\n",
    "\n",
    "\n",
    "inr_df = dataframe_inr.filter(dataframe_inr.resultname_cleaned ==\"inr_cleaned\")\n",
    "\n",
    "w=Window.partitionBy(\"pat_id\",\"instance\",\"pat_enc_csn_id\").orderBy(\"observationdatetime\").rowsBetween(Window.unboundedPreceding, Window.unboundedFollowing)\n",
    "final_inr_1 = inr_df.withColumn('resultvalue_inr', F.mean('resultvalue').over(w))\n",
    "final_inr_2 = final_inr_1.withColumn('Last_inr', F.last('resultvalue').over(w))\n",
    "    \n",
    "columns = ['pat_id','instance','pat_enc_csn_id','resultvalue_inr','Last_inr']\n",
    "saved_inr = final_inr_2[columns]\n",
    "saved_inr = saved_inr.dropDuplicates(['pat_id','instance','pat_enc_csn_id'])"
   ]
  },
  {
   "cell_type": "code",
   "execution_count": 0,
   "metadata": {
    "application/vnd.databricks.v1+cell": {
     "cellMetadata": {},
     "inputWidgets": {},
     "nuid": "e41bc7f4-9e15-4661-99a2-576717bfba07",
     "showTitle": false,
     "title": ""
    }
   },
   "outputs": [],
   "source": [
    "%sql\n",
    "DROP TABLE rdp_phi_sandbox.sm_patt_inr_feb;"
   ]
  },
  {
   "cell_type": "code",
   "execution_count": 0,
   "metadata": {
    "application/vnd.databricks.v1+cell": {
     "cellMetadata": {},
     "inputWidgets": {},
     "nuid": "ebe65cd0-e5d4-442b-8daf-a10309169b21",
     "showTitle": false,
     "title": ""
    }
   },
   "outputs": [],
   "source": [
    "table_name = 'rdp_phi_sandbox.sm_patt_inr_feb'\n",
    "saved_inr.write.saveAsTable(table_name)"
   ]
  },
  {
   "cell_type": "code",
   "execution_count": 0,
   "metadata": {
    "application/vnd.databricks.v1+cell": {
     "cellMetadata": {},
     "inputWidgets": {},
     "nuid": "b7011c55-cd37-4ca4-b13e-f227270a0e07",
     "showTitle": true,
     "title": "Magnesium"
    }
   },
   "outputs": [],
   "source": [
    "dataframe_mg = initial.where((lower(col(\"resultname\")).contains(\"magnesium\")))\n",
    "\n",
    "dataframe_mg = dataframe_mg.withColumn('unit_cleaned',\n",
    "                                       when(dataframe_mg.unit.isNull(),\"standard\").\\\n",
    "                                       when(lower(dataframe_mg.unit).contains(\"mg/dl\"),\"standard\").\\\n",
    "                                       otherwise(col(\"unit\")))\n",
    "\n",
    "dataframe_mg = dataframe_mg.withColumn('resultname_cleaned', \n",
    "                                         when(dataframe_mg.unit_cleaned.contains(\"standard\"),\"mg_cleaned\").\\\n",
    "                                         otherwise(col(\"resultname\")))\n",
    "\n",
    "\n",
    "mg_df = dataframe_mg.filter(dataframe_mg.resultname_cleaned ==\"mg_cleaned\")\n",
    "\n",
    "w=Window.partitionBy(\"pat_id\",\"instance\",\"pat_enc_csn_id\").orderBy(\"observationdatetime\").rowsBetween(Window.unboundedPreceding, Window.unboundedFollowing)\n",
    "final_mg_1 = mg_df.withColumn('resultvalue_mg', F.mean('resultvalue').over(w))\n",
    "final_mg_2 = final_mg_1.withColumn('Last_mg', F.last('resultvalue').over(w))\n",
    "    \n",
    "columns = ['pat_id','instance','pat_enc_csn_id','resultvalue_mg','Last_mg']\n",
    "saved_mg = final_mg_2[columns]\n",
    "saved_mg = saved_mg.dropDuplicates(['pat_id','instance','pat_enc_csn_id'])"
   ]
  },
  {
   "cell_type": "code",
   "execution_count": 0,
   "metadata": {
    "application/vnd.databricks.v1+cell": {
     "cellMetadata": {},
     "inputWidgets": {},
     "nuid": "24184bcd-b06b-4f71-9303-effb33b24031",
     "showTitle": false,
     "title": ""
    }
   },
   "outputs": [],
   "source": [
    "%sql\n",
    "DROP TABLE rdp_phi_sandbox.sm_patt_mg_feb;"
   ]
  },
  {
   "cell_type": "code",
   "execution_count": 0,
   "metadata": {
    "application/vnd.databricks.v1+cell": {
     "cellMetadata": {},
     "inputWidgets": {},
     "nuid": "2975756c-594d-416d-bf45-da779bc77699",
     "showTitle": false,
     "title": ""
    }
   },
   "outputs": [],
   "source": [
    "table_name = 'rdp_phi_sandbox.sm_patt_mg_feb'\n",
    "saved_mg.write.saveAsTable(table_name)"
   ]
  },
  {
   "cell_type": "code",
   "execution_count": 0,
   "metadata": {
    "application/vnd.databricks.v1+cell": {
     "cellMetadata": {},
     "inputWidgets": {},
     "nuid": "bfbbdf6f-fa3a-4421-b208-d9fd064e3ff8",
     "showTitle": true,
     "title": "Procalcitonin"
    }
   },
   "outputs": [],
   "source": [
    "dataframe_procalcitonin = initial.where((lower(col(\"resultname\")).contains(\"procalcitonin\")) | (lower(col(\"resultname\")).contains(\"pct\")))\n",
    "\n",
    "dataframe_procalcitonin = dataframe_procalcitonin.withColumn('unit_cleaned',\n",
    "                                       when(dataframe_procalcitonin.unit.isNull(),\"standard\").\\\n",
    "                                       when(lower(dataframe_procalcitonin.unit).contains(\"ng/ml\"),\"standard\").\\\n",
    "                                       otherwise(col(\"unit\")))\n",
    "\n",
    "dataframe_procalcitonin = dataframe_procalcitonin.withColumn('resultname_cleaned', \n",
    "                                         when(dataframe_procalcitonin.unit_cleaned.contains(\"standard\"),\"pct_cleaned\").\\\n",
    "                                         otherwise(col(\"resultname\")))\n",
    "\n",
    "\n",
    "pct_df = dataframe_procalcitonin.filter(dataframe_procalcitonin.resultname_cleaned ==\"pct_cleaned\")\n",
    "\n",
    "w=Window.partitionBy(\"pat_id\",\"instance\",\"pat_enc_csn_id\").orderBy(\"observationdatetime\").rowsBetween(Window.unboundedPreceding, Window.unboundedFollowing)\n",
    "final_pct_1 = pct_df.withColumn('resultvalue_pct', F.mean('resultvalue').over(w))\n",
    "final_pct_2 = final_pct_1.withColumn('Last_pct', F.last('resultvalue').over(w))\n",
    "    \n",
    "columns = ['pat_id','instance','pat_enc_csn_id','resultvalue_pct','Last_pct']\n",
    "saved_pct = final_pct_2[columns]\n",
    "saved_pct = saved_pct.dropDuplicates(['pat_id','instance','pat_enc_csn_id'])"
   ]
  },
  {
   "cell_type": "code",
   "execution_count": 0,
   "metadata": {
    "application/vnd.databricks.v1+cell": {
     "cellMetadata": {},
     "inputWidgets": {},
     "nuid": "62647f49-0ff7-4928-8aa7-962cf6b230da",
     "showTitle": false,
     "title": ""
    }
   },
   "outputs": [],
   "source": [
    "%sql\n",
    "DROP TABLE rdp_phi_sandbox.sm_patt_pct_feb;"
   ]
  },
  {
   "cell_type": "code",
   "execution_count": 0,
   "metadata": {
    "application/vnd.databricks.v1+cell": {
     "cellMetadata": {},
     "inputWidgets": {},
     "nuid": "ee957806-3d2e-4f89-bb33-453aa5c860ac",
     "showTitle": false,
     "title": ""
    }
   },
   "outputs": [],
   "source": [
    "table_name = 'rdp_phi_sandbox.sm_patt_pct_feb'\n",
    "saved_pct.write.saveAsTable(table_name)"
   ]
  },
  {
   "cell_type": "code",
   "execution_count": 0,
   "metadata": {
    "application/vnd.databricks.v1+cell": {
     "cellMetadata": {},
     "inputWidgets": {},
     "nuid": "4295517c-7b19-4deb-9dcc-f802fe337ac1",
     "showTitle": true,
     "title": "LDH"
    }
   },
   "outputs": [],
   "source": [
    "dataframe_ldh = initial.where((lower(col(\"resultname\")).contains(\"lactate dehydrogenase\")) | (lower(col(\"resultname\")).contains(\"ldh\")))\n",
    "\n",
    "dataframe_ldh = dataframe_ldh.withColumn('unit_cleaned',\n",
    "                                       when(dataframe_ldh.unit.isNull(),\"standard\").\\\n",
    "                                       when(lower(dataframe_ldh.unit).contains(\"iu/l\"),\"standard\").\\\n",
    "                                       when(lower(dataframe_ldh.unit).contains(\"u/l\"),\"standard\").\\\n",
    "                                       otherwise(col(\"unit\")))\n",
    "\n",
    "dataframe_ldh = dataframe_ldh.withColumn('resultname_cleaned', \n",
    "                                         when(dataframe_ldh.unit_cleaned.contains(\"standard\"),\"ldh_cleaned\").\\\n",
    "                                         otherwise(col(\"resultname\")))\n",
    "\n",
    "\n",
    "ldh_df = dataframe_ldh.filter(dataframe_ldh.resultname_cleaned ==\"ldh_cleaned\")\n",
    "\n",
    "w=Window.partitionBy(\"pat_id\",\"instance\",\"pat_enc_csn_id\").orderBy(\"observationdatetime\").rowsBetween(Window.unboundedPreceding, Window.unboundedFollowing)\n",
    "final_ldh_1 = ldh_df.withColumn('resultvalue_ldh', F.mean('resultvalue').over(w))\n",
    "final_ldh_2 = final_ldh_1.withColumn('Last_ldh', F.last('resultvalue').over(w))\n",
    "    \n",
    "columns = ['pat_id','instance','pat_enc_csn_id','resultvalue_ldh','Last_ldh']\n",
    "saved_ldh = final_ldh_2[columns]\n",
    "saved_ldh = saved_ldh.dropDuplicates(['pat_id','instance','pat_enc_csn_id'])"
   ]
  },
  {
   "cell_type": "code",
   "execution_count": 0,
   "metadata": {
    "application/vnd.databricks.v1+cell": {
     "cellMetadata": {},
     "inputWidgets": {},
     "nuid": "d15f3448-e50c-4eb0-8b1e-5a553c1c4210",
     "showTitle": false,
     "title": ""
    }
   },
   "outputs": [],
   "source": [
    "%sql\n",
    "DROP TABLE rdp_phi_sandbox.sm_patt_ldh_feb;"
   ]
  },
  {
   "cell_type": "code",
   "execution_count": 0,
   "metadata": {
    "application/vnd.databricks.v1+cell": {
     "cellMetadata": {},
     "inputWidgets": {},
     "nuid": "f2105f88-1574-47a4-82ec-20e7428766d6",
     "showTitle": false,
     "title": ""
    }
   },
   "outputs": [],
   "source": [
    "table_name = 'rdp_phi_sandbox.sm_patt_ldh_feb'\n",
    "saved_ldh.write.saveAsTable(table_name)"
   ]
  },
  {
   "cell_type": "code",
   "execution_count": 0,
   "metadata": {
    "application/vnd.databricks.v1+cell": {
     "cellMetadata": {},
     "inputWidgets": {},
     "nuid": "be890fa6-997e-4647-b635-3c0de613de8b",
     "showTitle": true,
     "title": "Base Excess"
    }
   },
   "outputs": [],
   "source": [
    "dataframe_be = initial.where((lower(col(\"resultname\")).contains(\"base excess\")))\n",
    "\n",
    "dataframe_be = dataframe_be.withColumn('unit_cleaned',\n",
    "                                       when(dataframe_be.unit.isNull(),\"standard\").\\\n",
    "                                       when(lower(dataframe_be.unit).contains(\"mmol/l\"),\"standard\").\\\n",
    "                                       when(lower(dataframe_be.unit).contains(\"meq/l\"),\"standard\").\\\n",
    "                                       otherwise(col(\"unit\")))\n",
    "\n",
    "dataframe_be = dataframe_be.withColumn('resultname_cleaned', \n",
    "                                         when(dataframe_be.unit_cleaned.contains(\"standard\"),\"BE_cleaned\").\\\n",
    "                                         otherwise(col(\"resultname\")))\n",
    "\n",
    "\n",
    "BE_df = dataframe_be.filter(dataframe_be.resultname_cleaned ==\"BE_cleaned\")\n",
    "\n",
    "w=Window.partitionBy(\"pat_id\",\"instance\",\"pat_enc_csn_id\").orderBy(\"observationdatetime\").rowsBetween(Window.unboundedPreceding, Window.unboundedFollowing)\n",
    "final_be_1 = BE_df.withColumn('resultvalue_be', F.mean('resultvalue').over(w))\n",
    "final_be_2 = final_be_1.withColumn('Last_be', F.last('resultvalue').over(w))\n",
    "    \n",
    "columns = ['pat_id','instance','pat_enc_csn_id','resultvalue_be','Last_be']\n",
    "saved_be = final_be_2[columns]\n",
    "saved_be = saved_be.dropDuplicates(['pat_id','instance','pat_enc_csn_id'])"
   ]
  },
  {
   "cell_type": "code",
   "execution_count": 0,
   "metadata": {
    "application/vnd.databricks.v1+cell": {
     "cellMetadata": {},
     "inputWidgets": {},
     "nuid": "cefd2aef-7c6f-4580-8ba7-f905f6b9be54",
     "showTitle": false,
     "title": ""
    }
   },
   "outputs": [],
   "source": [
    "%sql\n",
    "DROP TABLE rdp_phi_sandbox.sm_patt_be_feb;"
   ]
  },
  {
   "cell_type": "code",
   "execution_count": 0,
   "metadata": {
    "application/vnd.databricks.v1+cell": {
     "cellMetadata": {},
     "inputWidgets": {},
     "nuid": "caf2471a-7026-41df-9524-579a4eabf4ba",
     "showTitle": false,
     "title": ""
    }
   },
   "outputs": [],
   "source": [
    "table_name = 'rdp_phi_sandbox.sm_patt_be_feb'\n",
    "saved_be.write.saveAsTable(table_name)"
   ]
  },
  {
   "cell_type": "code",
   "execution_count": 0,
   "metadata": {
    "application/vnd.databricks.v1+cell": {
     "cellMetadata": {},
     "inputWidgets": {},
     "nuid": "c66b8ce3-16a5-41ed-bbff-e1da09a77e10",
     "showTitle": true,
     "title": "WBC - Null units are included"
    }
   },
   "outputs": [],
   "source": [
    "##WBC\n",
    "dataframe_wbc = initial.where((lower(col(\"resultname\")).contains(\"wbc\")) | (lower(col(\"resultname\")).contains('white blood cell')))\n",
    "\n",
    "###Change Nulls to the defined unit\n",
    "#dataframe_wbc = dataframe_wbc.na.fill(\"missing\",[\"unit\"])\n",
    "###Remove Nulls\n",
    "dataframe_wbc = dataframe_wbc.where(dataframe_wbc.unit.isNotNull())\n",
    "\n",
    "dataframe_wbc = dataframe_wbc.where(dataframe_wbc.unit != \"nmol/min/mg\")\n",
    "dataframe_wbc = dataframe_wbc.where(dataframe_wbc.unit != \"g/dL\")\n",
    "dataframe_wbc = dataframe_wbc.where(dataframe_wbc.unit != \"mg/L\") #I removed this because I don't know how to conver to k/ul\n",
    "dataframe_wbc = dataframe_wbc.where(dataframe_wbc.unit != \"mg/dL\") #I removed this because I don't know how to conver to k/ul\n",
    "dataframe_wbc = dataframe_wbc.where(dataframe_wbc.unit != \"%\")\n",
    "dataframe_wbc = dataframe_wbc.where(~(lower(col(\"unit\")).contains(\"cell\"))) #for now??\n",
    "dataframe_wbc = dataframe_wbc.where(~(lower(col(\"resultname\")).contains(\"cell\"))) #for now??\n",
    "dataframe_wbc = dataframe_wbc.where(~(lower(col(\"resultname\")).contains(\"urine\")))\n",
    "dataframe_wbc = dataframe_wbc.where(~(lower(col(\"resultname\")).contains(\"wbc corr\"))) #not sure what this is\n",
    "dataframe_wbc = dataframe_wbc.where(~(lower(col(\"resultname\")).contains(\"ua\"))) ###Removed UA which standas for Urine \n",
    "dataframe_wbc = dataframe_wbc.where(~(lower(col(\"resultname\")).contains(\"fluid\"))) ##Removed WBC BODY FLUID\n",
    "dataframe_wbc = dataframe_wbc.where(~(lower(col(\"resultname\")).contains(\"stool\"))) ##Removed WBC Stool\n",
    "dataframe_wbc = dataframe_wbc.where(~(lower(col(\"resultname\")).contains(\"%\")))\n",
    "dataframe_wbc = dataframe_wbc.where(~(col(\"resultname\").contains(\"CD4/CD8 RATIO.WBC.QN (REF)\"))) \n",
    "dataframe_wbc = dataframe_wbc.where(~(col(\"resultname\").contains(\"WBC CSF\")))\n",
    "dataframe_wbc = dataframe_wbc.where(~(col(\"resultname\").contains(\"WBC COMMENT\")))\n",
    "dataframe_wbc = dataframe_wbc.where(~(col(\"resultname\").contains(\"ADJUSTED\")))\n",
    "dataframe_wbc = dataframe_wbc.where(~(col(\"resultname\").contains(\"MORPHOLOGY\")))\n",
    "\n",
    "dataframe_wbc = dataframe_wbc.withColumn('unit_cleaned',\n",
    "                                         when((dataframe_wbc.unit==\"ul\"),\"standard\").\\\n",
    "                                         when(lower(dataframe_wbc.unit).contains(\"k/ul\"),\"standard\").\\\n",
    "                                         when(lower(dataframe_wbc.unit).contains(\"mcl\"),\"standard\").\\\n",
    "                                         when(lower(dataframe_wbc.unit).contains(\"mm3\"),\"standard\").\\\n",
    "                                         when(lower(dataframe_wbc.unit).contains(\"cumm\"),\"standard\").\\\n",
    "                                         when(lower(dataframe_wbc.unit).contains(\"cmm\"),\"standard\").\\\n",
    "                                         when(lower(dataframe_wbc.unit).contains(\"10*3/ul\"),\"standard\").\\\n",
    "                                         when(dataframe_wbc.resultname.contains(\"(10*3/UL)\"),\"standard\").\\\n",
    "                                         when(dataframe_wbc.resultname.contains(\"(K/UL)\"),\"standard\").\\\n",
    "                                         when((dataframe_wbc.resultname==\"WBC (REF)\"),\"standard\").\\\n",
    "                                         when((dataframe_wbc.resultname==\"WBC\"),\"standard\").\\\n",
    "                                         when(dataframe_wbc.resultname.contains(\"EXTERNAL\"),\"standard\").\\\n",
    "                                         otherwise(col(\"unit\")))\n",
    "\n",
    "dataframe_wbc = dataframe_wbc.withColumn('resultname_cleaned', \n",
    "                                         when(dataframe_wbc.unit_cleaned.contains(\"standard\"),\"WBC_cleaned\").\\\n",
    "                                         otherwise(col(\"resultname\")))\n",
    "\n",
    "\n",
    "WBC_df = dataframe_wbc.filter(dataframe_wbc.resultname_cleaned ==\"WBC_cleaned\")\n",
    "\n",
    "WBC_df = WBC_df.withColumn(\"resultvalue\", when(WBC_df.resultvalue == \"Normal\",7.5).otherwise(WBC_df.resultvalue))\n",
    "\n",
    "count = WBC_df.groupBy([\"unit\"]).count()\n",
    "final_wbc = WBC_df.join(count,\"unit\")\n",
    "final_wbc = final_wbc.filter(col(\"count\")>5)\n",
    "\n",
    "w=Window.partitionBy(\"pat_id\",\"instance\",\"pat_enc_csn_id\").orderBy(\"observationdatetime\").rowsBetween(Window.unboundedPreceding, Window.unboundedFollowing)\n",
    "final_wbc_1 = final_wbc.withColumn('resultvalue_WBC', F.mean('resultvalue').over(w))\n",
    "final_wbc_2 = final_wbc_1.withColumn('Last_wbc', F.last('resultvalue').over(w))\n",
    "    \n",
    "columns = ['pat_id','instance','pat_enc_csn_id','resultvalue_WBC','Last_wbc']\n",
    "saved_wbc = final_wbc_2[columns]\n",
    "saved_wbc = saved_wbc.dropDuplicates(['pat_id','instance','pat_enc_csn_id'])"
   ]
  },
  {
   "cell_type": "code",
   "execution_count": 0,
   "metadata": {
    "application/vnd.databricks.v1+cell": {
     "cellMetadata": {},
     "inputWidgets": {},
     "nuid": "c777f37d-396f-4d2e-a681-d9fa443507bf",
     "showTitle": false,
     "title": ""
    }
   },
   "outputs": [],
   "source": [
    "%sql\n",
    "DROP TABLE rdp_phi_sandbox.sm_patt_wbc_feb;"
   ]
  },
  {
   "cell_type": "code",
   "execution_count": 0,
   "metadata": {
    "application/vnd.databricks.v1+cell": {
     "cellMetadata": {},
     "inputWidgets": {},
     "nuid": "dc387041-f830-4306-becb-b6efb2e8a132",
     "showTitle": false,
     "title": ""
    }
   },
   "outputs": [],
   "source": [
    "table_name = 'rdp_phi_sandbox.sm_patt_wbc_feb'\n",
    "saved_wbc.write.saveAsTable(table_name)"
   ]
  },
  {
   "cell_type": "code",
   "execution_count": 0,
   "metadata": {
    "application/vnd.databricks.v1+cell": {
     "cellMetadata": {},
     "inputWidgets": {},
     "nuid": "319b78eb-cab4-4942-b59b-dfdf379f5454",
     "showTitle": true,
     "title": "Lymphocyte - Null units are include"
    }
   },
   "outputs": [],
   "source": [
    "dataframe_lymphocyte = initial.where((lower(col(\"resultname\")).contains(\"lymphocyte\")) | (lower(col(\"resultname\")).contains('lymphs')))\n",
    "\n",
    "###Change Nulls to the defined unit\n",
    "dataframe_lymphocyte = dataframe_lymphocyte.na.fill(\"missing\",[\"unit\"])\n",
    "\n",
    "dataframe_lymphocyte = dataframe_lymphocyte.where(dataframe_lymphocyte.unit != \"CEL/UL\")\n",
    "dataframe_lymphocyte = dataframe_lymphocyte.where(dataframe_lymphocyte.unit != \"%\")\n",
    "dataframe_lymphocyte = dataframe_lymphocyte.where(dataframe_lymphocyte.unit != \"L\")\n",
    "dataframe_lymphocyte = dataframe_lymphocyte.where(dataframe_lymphocyte.unit != \"`\")\n",
    "dataframe_lymphocyte = dataframe_lymphocyte.where(dataframe_lymphocyte.unit != \"/L\")\n",
    "dataframe_lymphocyte = dataframe_lymphocyte.where(~(lower(col(\"unit\")).contains(\"cell\")))\n",
    "dataframe_lymphocyte = dataframe_lymphocyte.where(~(lower(col(\"unit\")).contains(\"cel\")))\n",
    "dataframe_lymphocyte = dataframe_lymphocyte.where(~(lower(col(\"unit\")).contains(\"%\")))\n",
    "\n",
    "dataframe_lymphocyte = dataframe_lymphocyte.where(dataframe_lymphocyte.resultname != \"ATYPICAL LYMPHOCYTES.BLD.QN.CALC.MAN (K/UL) (BEAKER)\")\n",
    "dataframe_lymphocyte = dataframe_lymphocyte.where(dataframe_lymphocyte.resultname != \"VARIANT LYMPHS, CSF\")\n",
    "dataframe_lymphocyte = dataframe_lymphocyte.where(dataframe_lymphocyte.resultname != \"ABS.CD8-CD57+ LYMPHS\")\n",
    "dataframe_lymphocyte = dataframe_lymphocyte.where(dataframe_lymphocyte.resultname != \"LYMPHS CSFA\")\n",
    "dataframe_lymphocyte = dataframe_lymphocyte.where(dataframe_lymphocyte.resultname != \"ABS CD8 + CD57 + LYMPHS\")\n",
    "dataframe_lymphocyte = dataframe_lymphocyte.where(dataframe_lymphocyte.resultname != \"ABS.CD8+CD38+ LYMPHS.BLD\")\n",
    "dataframe_lymphocyte = dataframe_lymphocyte.where(dataframe_lymphocyte.resultname != \"ABS.CD8+HLA-DR+LYMPHS.BLD.QN (REF)\")\n",
    "dataframe_lymphocyte = dataframe_lymphocyte.where(dataframe_lymphocyte.resultname != \"ABS CD3 + CD25 + LYMPHS\")\n",
    "dataframe_lymphocyte = dataframe_lymphocyte.where(~(lower(col(\"resultname\")).contains(\"cell\")))\n",
    "dataframe_lymphocyte = dataframe_lymphocyte.where(~(lower(col(\"resultname\")).contains(\"%\")))\n",
    "dataframe_lymphocyte = dataframe_lymphocyte.where(~(lower(col(\"resultname\")).contains(\"fluid\")))\n",
    "dataframe_lymphocyte = dataframe_lymphocyte.where(~(lower(col(\"resultname\")).contains(\"stool\")))\n",
    "dataframe_lymphocyte = dataframe_lymphocyte.where(~(lower(col(\"resultname\")).contains(\"urine\")))\n",
    "dataframe_lymphocyte = dataframe_lymphocyte.where(~(lower(col(\"resultname\")).contains(\"ua\")))\n",
    "dataframe_lymphocyte = dataframe_lymphocyte.where(~(lower(col(\"resultname\")).contains(\"abnormal\")))\n",
    "dataframe_lymphocyte = dataframe_lymphocyte.where(~(lower(col(\"resultname\")).contains(\"variant\")))\n",
    "dataframe_lymphocyte = dataframe_lymphocyte.where(~(lower(col(\"resultname\")).contains(\"atypical\")))\n",
    "dataframe_lymphocyte = dataframe_lymphocyte.where(~(lower(col(\"resultname\")).contains(\"reactive\")))\n",
    "dataframe_lymphocyte = dataframe_lymphocyte.where(~(lower(col(\"resultname\")).contains(\"prolymphocytes\")))\n",
    "\n",
    "dataframe_lymphocyte = dataframe_lymphocyte.withColumn('unit_cleaned',\n",
    "                                                       when((dataframe_lymphocyte.unit==\"missing\"),\"standard\").\\\n",
    "                                                       when(lower(dataframe_lymphocyte.unit).contains(\"k/ul\"),\"standard\").\\\n",
    "                                                       when(lower(dataframe_lymphocyte.unit).contains(\"ul\"),\"standard\").\\\n",
    "                                                       when(lower(dataframe_lymphocyte.unit).contains(\"mcl\"),\"standard\").\\\n",
    "                                                       when(lower(dataframe_lymphocyte.unit).contains(\"mm3\"),\"standard\").\\\n",
    "                                                       when(lower(dataframe_lymphocyte.unit).contains(\"cumm\"),\"standard\").\\\n",
    "                                                       when(lower(dataframe_lymphocyte.unit).contains(\"cmm\"),\"standard\").\\\n",
    "                                                       when(lower(dataframe_lymphocyte.unit).contains(\"10*3/ul\"),\"standard\").\\\n",
    "                                                       when(dataframe_lymphocyte.resultname.contains(\"(10*3/UL)\"),\"standard\").\\\n",
    "                                                       when(dataframe_lymphocyte.resultname.contains(\"(K/UL)\"),\"standard\").\\\n",
    "                                                       when((dataframe_lymphocyte.resultname==\"LYMPHOCYTES ABS (REF)\"),\"standard\").\\\n",
    "                                                       when((dataframe_lymphocyte.resultname==\"LYMPHOCYTES BL\"),\"standard\").\\\n",
    "                                                       when((dataframe_lymphocyte.resultname==\"LYMPHOCYTES MANUAL COUNT.BLD.QN (BEAKER)\"),\"standard\").\\\n",
    "                                                       when((dataframe_lymphocyte.resultname==\"EXTERNAL: LYMPHOCYTES, ABSOLUTE\"),\"standard\").\\\n",
    "                                                       when(lower(dataframe_lymphocyte.resultname).contains(\"ul\"),\"standard\").\\\n",
    "                                                       when((dataframe_lymphocyte.unit==\"THOU/u\"),\"standard\").\\\n",
    "                                                       otherwise(col(\"unit\")))\n",
    "\n",
    "dataframe_lymphocyte = dataframe_lymphocyte.withColumn('resultname_cleaned', \n",
    "                                         when(dataframe_lymphocyte.unit_cleaned.contains(\"standard\"),\"lymabs_cleaned\").\\\n",
    "                                         otherwise(col(\"resultname\")))\n",
    "\n",
    "\n",
    "lymphocyte_df = dataframe_lymphocyte.filter(dataframe_lymphocyte.resultname_cleaned ==\"lymabs_cleaned\")\n",
    "\n",
    "count = lymphocyte_df.groupBy([\"unit\"]).count()\n",
    "final_lymphocyte = lymphocyte_df.join(count,\"unit\")\n",
    "final_lymphocyte = final_lymphocyte.filter(col(\"count\")>5)\n",
    "\n",
    "##############\n",
    "w=Window.partitionBy(\"pat_id\",\"instance\",\"pat_enc_csn_id\").orderBy(\"observationdatetime\").rowsBetween(Window.unboundedPreceding, Window.unboundedFollowing)\n",
    "final_lymphocyte_1 = final_lymphocyte.withColumn('resultvalue_lymph', F.mean('resultvalue').over(w))\n",
    "final_lymphocyte_2 = final_lymphocyte_1.withColumn('Last_lymph', F.last('resultvalue').over(w))\n",
    "    \n",
    "columns = ['pat_id','instance','pat_enc_csn_id','resultvalue_lymph','Last_lymph']\n",
    "saved_lymph = final_lymphocyte_2[columns]\n",
    "saved_lymph = saved_lymph.dropDuplicates(['pat_id','instance','pat_enc_csn_id'])"
   ]
  },
  {
   "cell_type": "code",
   "execution_count": 0,
   "metadata": {
    "application/vnd.databricks.v1+cell": {
     "cellMetadata": {},
     "inputWidgets": {},
     "nuid": "d05ee57c-da9b-4303-9739-8bc29f348460",
     "showTitle": false,
     "title": ""
    }
   },
   "outputs": [],
   "source": [
    "%sql\n",
    "DROP TABLE rdp_phi_sandbox.sm_patt_lymphs_feb;"
   ]
  },
  {
   "cell_type": "code",
   "execution_count": 0,
   "metadata": {
    "application/vnd.databricks.v1+cell": {
     "cellMetadata": {},
     "inputWidgets": {},
     "nuid": "65c4c94c-a1b8-4b78-a121-21dc4d4a22ca",
     "showTitle": false,
     "title": ""
    }
   },
   "outputs": [],
   "source": [
    "table_name = 'rdp_phi_sandbox.sm_patt_lymphs_feb'\n",
    "saved_lymph.write.saveAsTable(table_name)"
   ]
  },
  {
   "cell_type": "code",
   "execution_count": 0,
   "metadata": {
    "application/vnd.databricks.v1+cell": {
     "cellMetadata": {},
     "inputWidgets": {},
     "nuid": "0a78296c-b32c-4c65-a41a-876b6448fe7a",
     "showTitle": true,
     "title": "Hematocrit - Nulls are removed"
    }
   },
   "outputs": [],
   "source": [
    "dataframe_hematocrit = initial.where((lower(col(\"resultname\")).contains(\"hematocrit\")) | (lower(col(\"resultname\")).contains(\"hct\")))\n",
    "\n",
    "dataframe_hematocrit = dataframe_hematocrit.where(dataframe_hematocrit.unit.isNotNull())\n",
    "dataframe_hematocrit = dataframe_hematocrit.where(~(lower(col(\"resultname\")).contains(\"adjusted\"))) ###Removed adjusted HCT\n",
    "\n",
    "dataframe_hematocrit = dataframe_hematocrit.withColumn('unit_cleaned', \n",
    "                                                       when(dataframe_hematocrit.unit.contains(\"%\"),\"standard\").\\\n",
    "                                                       when(dataframe_hematocrit.unit.contains(\"percent\"),\"standard\").\\\n",
    "                                                       otherwise(col(\"unit\")))\n",
    "\n",
    "dataframe_hematocrit = dataframe_hematocrit.withColumn('resultname_cleaned', \n",
    "                                         when(dataframe_hematocrit.unit_cleaned.contains(\"standard\"),\"hct_cleaned\").\\\n",
    "                                         otherwise(col(\"resultname\")))\n",
    "\n",
    "hematocrit_df = dataframe_hematocrit.filter(dataframe_hematocrit.resultname_cleaned ==\"hct_cleaned\")\n",
    "\n",
    "count = hematocrit_df.groupBy([\"unit\"]).count()\n",
    "final_hematocrit = hematocrit_df.join(count,\"unit\")\n",
    "final_hematocrit = final_hematocrit.filter(col(\"count\")>5)\n",
    "\n",
    "##############\n",
    "w=Window.partitionBy(\"pat_id\",\"instance\",\"pat_enc_csn_id\").orderBy(\"observationdatetime\").rowsBetween(Window.unboundedPreceding, Window.unboundedFollowing)\n",
    "final_hematocrit_1 = final_hematocrit.withColumn('resultvalue_HCT', F.mean('resultvalue').over(w))\n",
    "final_hematocrit_2 = final_hematocrit_1.withColumn('Last_HCT', F.last('resultvalue').over(w))\n",
    "    \n",
    "columns = ['pat_id','instance','pat_enc_csn_id','resultvalue_HCT','Last_HCT']\n",
    "saved_hct = final_hematocrit_2[columns]\n",
    "saved_hct = saved_hct.dropDuplicates(['pat_id','instance','pat_enc_csn_id'])"
   ]
  },
  {
   "cell_type": "code",
   "execution_count": 0,
   "metadata": {
    "application/vnd.databricks.v1+cell": {
     "cellMetadata": {},
     "inputWidgets": {},
     "nuid": "b54ab94b-079f-4711-a0e7-99a8bab96ad6",
     "showTitle": false,
     "title": ""
    }
   },
   "outputs": [],
   "source": [
    "%sql\n",
    "DROP TABLE rdp_phi_sandbox.sm_patt_hct_feb;"
   ]
  },
  {
   "cell_type": "code",
   "execution_count": 0,
   "metadata": {
    "application/vnd.databricks.v1+cell": {
     "cellMetadata": {},
     "inputWidgets": {},
     "nuid": "4d8306e0-1550-4989-be92-a8b5cfe85383",
     "showTitle": false,
     "title": ""
    }
   },
   "outputs": [],
   "source": [
    "table_name = 'rdp_phi_sandbox.sm_patt_hct_feb'\n",
    "saved_hct.write.saveAsTable(table_name)"
   ]
  },
  {
   "cell_type": "code",
   "execution_count": 0,
   "metadata": {
    "application/vnd.databricks.v1+cell": {
     "cellMetadata": {},
     "inputWidgets": {},
     "nuid": "3d787561-74fb-4755-8e9a-acde4fe2bed9",
     "showTitle": true,
     "title": "Hemoglobin - Nulls are removed"
    }
   },
   "outputs": [],
   "source": [
    "dataframe_hemoglobin = initial.where((lower(col(\"resultname\")).contains(\"hemoglobin\")) | (lower(col(\"resultname\")).contains(\"hgb\")) | (lower(col(\"resultname\")).contains(r'(?:\\s|^)hb(?:\\s|$)')))\n",
    "\n",
    "dataframe_hemoglobin = dataframe_hemoglobin.where(dataframe_hemoglobin.unit.isNotNull())\n",
    "dataframe_hemoglobin = dataframe_hemoglobin.where(~(lower(col(\"unit\")).contains(\"mg/dl\")))\n",
    "dataframe_hemoglobin = dataframe_hemoglobin.where(~(lower(col(\"resultname\")).contains(\"%\")))\n",
    "dataframe_hemoglobin = dataframe_hemoglobin.where(~(lower(col(\"resultname\")).contains(\"deleted\")))\n",
    "\n",
    "dataframe_hemoglobin = dataframe_hemoglobin.withColumn('unit_cleaned', \n",
    "                                                       when(lower(dataframe_hemoglobin.unit).contains(\"g/dl\"),\"standard\").\\\n",
    "                                                       when(lower(dataframe_hemoglobin.unit).contains(\"gm/dl\"),\"standard\").\\\n",
    "                                                       when(lower(dataframe_hemoglobin.unit).contains(\"grams/dl\"),\"standard\").\\\n",
    "                                                       when(dataframe_hemoglobin.unit == \"grams per deciliter\",\"standard\").\\\n",
    "                                                       otherwise(col(\"unit\")))\n",
    "\n",
    "dataframe_hemoglobin = dataframe_hemoglobin.withColumn('resultname_cleaned', \n",
    "                                         when(dataframe_hemoglobin.unit_cleaned.contains(\"standard\"),\"hgb_cleaned\").\\\n",
    "                                         otherwise(col(\"resultname\")))\n",
    "\n",
    "hemoglobin_df = dataframe_hemoglobin.filter(dataframe_hemoglobin.resultname_cleaned ==\"hgb_cleaned\")\n",
    "\n",
    "count = hemoglobin_df.groupBy([\"unit\"]).count()\n",
    "final_hemoglobin = hemoglobin_df.join(count,\"unit\")\n",
    "final_hemoglobin = final_hemoglobin.filter(col(\"count\")>5)\n",
    "\n",
    "##############\n",
    "w=Window.partitionBy(\"pat_id\",\"instance\",\"pat_enc_csn_id\").orderBy(\"observationdatetime\").rowsBetween(Window.unboundedPreceding, Window.unboundedFollowing)\n",
    "final_hemoglobin_1 = final_hemoglobin.withColumn('resultvalue_HGB', F.mean('resultvalue').over(w))\n",
    "final_hemoglobin_2 = final_hemoglobin_1.withColumn('Last_HGB', F.last('resultvalue').over(w))\n",
    "    \n",
    "columns = ['pat_id','instance','pat_enc_csn_id','resultvalue_HGB','Last_HGB']\n",
    "saved_hemoglobin = final_hemoglobin_2[columns]\n",
    "saved_hemoglobin = saved_hemoglobin.dropDuplicates(['pat_id','instance','pat_enc_csn_id'])"
   ]
  },
  {
   "cell_type": "code",
   "execution_count": 0,
   "metadata": {
    "application/vnd.databricks.v1+cell": {
     "cellMetadata": {},
     "inputWidgets": {},
     "nuid": "8b73c3d9-1815-4c09-b2cb-069a2445b21d",
     "showTitle": false,
     "title": ""
    }
   },
   "outputs": [],
   "source": [
    "%sql\n",
    "DROP TABLE rdp_phi_sandbox.sm_patt_hgb_feb;"
   ]
  },
  {
   "cell_type": "code",
   "execution_count": 0,
   "metadata": {
    "application/vnd.databricks.v1+cell": {
     "cellMetadata": {},
     "inputWidgets": {},
     "nuid": "0b1b2020-9a27-43b3-87bc-bd7948e8cf85",
     "showTitle": false,
     "title": ""
    }
   },
   "outputs": [],
   "source": [
    "table_name = 'rdp_phi_sandbox.sm_patt_hgb_feb'\n",
    "saved_hemoglobin.write.saveAsTable(table_name)"
   ]
  },
  {
   "cell_type": "code",
   "execution_count": 0,
   "metadata": {
    "application/vnd.databricks.v1+cell": {
     "cellMetadata": {},
     "inputWidgets": {},
     "nuid": "c4d221ef-b853-429c-a01c-f84703486271",
     "showTitle": true,
     "title": "Sodium -  Null units are include"
    }
   },
   "outputs": [],
   "source": [
    "dataframe_sodium = initial.where((lower(col(\"resultname\")).contains(\"sodium\")) | (lower(col(\"resultname\")).contains(r'(?:\\s|^)na(?:\\s|$)')))\n",
    "\n",
    "###Change Nulls to the defined unit\n",
    "dataframe_sodium = dataframe_sodium.na.fill(\"missing\",[\"unit\"])\n",
    "\n",
    "#dataframe_sodium = dataframe_sodium.where(dataframe_sodium.unit.isNotNull())\n",
    "dataframe_sodium = dataframe_sodium.where(dataframe_sodium.unit != \"145\")\n",
    "dataframe_sodium = dataframe_sodium.where(dataframe_sodium.unit != \"`\")\n",
    "dataframe_sodium = dataframe_sodium.where(dataframe_sodium.unit != \"MMOL/24HRS\")\n",
    "dataframe_sodium = dataframe_sodium.where(dataframe_sodium.unit != \"70\")\n",
    "dataframe_sodium = dataframe_sodium.where(dataframe_sodium.unit != \"32\")\n",
    "dataframe_sodium = dataframe_sodium.where(dataframe_sodium.unit != \"5.2\")\n",
    "dataframe_sodium = dataframe_sodium.where(dataframe_sodium.unit != \"146\")\n",
    "dataframe_sodium = dataframe_sodium.where(dataframe_sodium.unit != \"134-144\")\n",
    "dataframe_sodium = dataframe_sodium.where(dataframe_sodium.unit != \"4.3\")\n",
    "dataframe_sodium = dataframe_sodium.where(dataframe_sodium.unit != \"143\")\n",
    "dataframe_sodium = dataframe_sodium.where(dataframe_sodium.unit != \"Other\")\n",
    "dataframe_sodium = dataframe_sodium.where(dataframe_sodium.unit != \"units\")\n",
    "dataframe_sodium = dataframe_sodium.where(dataframe_sodium.unit != \"mmol/24h\")\n",
    "dataframe_sodium = dataframe_sodium.where(dataframe_sodium.resultname != \"SODIUM 24 HOUR VOLUME\")\n",
    "dataframe_sodium = dataframe_sodium.where(~(lower(col(\"resultname\")).contains(\"urine\")))\n",
    "dataframe_sodium = dataframe_sodium.where(~col(\"resultname\").contains(\"24 HOUR\"))\n",
    "dataframe_sodium = dataframe_sodium.where(~col(\"resultname\").contains(\"VENOUS\"))\n",
    "\n",
    "dataframe_sodium = dataframe_sodium.withColumn('unit_cleaned', \n",
    "                                               when((dataframe_sodium.unit==\"missing\"),\"standard\").\\\n",
    "                                               when(lower(dataframe_sodium.unit).contains(\"mmol/l\"),\"standard\").\\\n",
    "                                               when(lower(dataframe_sodium.unit).contains(\"mmol\"),\"standard\").\\\n",
    "                                               when(lower(dataframe_sodium.unit).contains(\"mmoi/l\"),\"standard\").\\\n",
    "                                               when(lower(dataframe_sodium.unit).contains(\"mm/l\"),\"standard\").\\\n",
    "                                               when(lower(dataframe_sodium.unit).contains(\"meq/l\"),\"standard\").\\\n",
    "                                               when(lower(dataframe_sodium.unit).contains(\"meq\"),\"standard\").\\\n",
    "                                               when(dataframe_sodium.unit == \"mmol per liter\",\"standard\").\\\n",
    "                                               otherwise(col(\"unit\")))\n",
    "\n",
    "dataframe_sodium = dataframe_sodium.withColumn('resultname_cleaned', \n",
    "                                         when(dataframe_sodium.unit_cleaned.contains(\"standard\"),\"na_cleaned\").\\\n",
    "                                         otherwise(col(\"resultname\")))\n",
    "\n",
    "sodium_df = dataframe_sodium.filter(dataframe_sodium.resultname_cleaned ==\"na_cleaned\")\n",
    "\n",
    "count = sodium_df.groupBy([\"unit\"]).count()\n",
    "final_sodium = sodium_df.join(count,\"unit\")\n",
    "final_sodium = final_sodium.filter(col(\"count\")>5)\n",
    "\n",
    "##############\n",
    "w=Window.partitionBy(\"pat_id\",\"instance\",\"pat_enc_csn_id\").orderBy(\"observationdatetime\").rowsBetween(Window.unboundedPreceding, Window.unboundedFollowing)\n",
    "final_sodium_1 = final_sodium.withColumn('resultvalue_sodium', F.mean('resultvalue').over(w))\n",
    "final_sodium_2 = final_sodium_1.withColumn('Last_sodium', F.last('resultvalue').over(w))\n",
    "    \n",
    "columns = ['pat_id','instance','pat_enc_csn_id','resultvalue_sodium','Last_sodium']\n",
    "saved_sodium = final_sodium_2[columns]\n",
    "saved_sodium = saved_sodium.dropDuplicates(['pat_id','instance','pat_enc_csn_id'])"
   ]
  },
  {
   "cell_type": "code",
   "execution_count": 0,
   "metadata": {
    "application/vnd.databricks.v1+cell": {
     "cellMetadata": {},
     "inputWidgets": {},
     "nuid": "6cbb2b0c-d5f3-4c5f-8a62-932fb4645065",
     "showTitle": false,
     "title": ""
    }
   },
   "outputs": [],
   "source": [
    "%sql\n",
    "DROP TABLE rdp_phi_sandbox.sm_patt_sodium_feb;"
   ]
  },
  {
   "cell_type": "code",
   "execution_count": 0,
   "metadata": {
    "application/vnd.databricks.v1+cell": {
     "cellMetadata": {},
     "inputWidgets": {},
     "nuid": "0184422a-179f-4be8-a6df-d67d428c81b8",
     "showTitle": false,
     "title": ""
    }
   },
   "outputs": [],
   "source": [
    "table_name = 'rdp_phi_sandbox.sm_patt_sodium_feb'\n",
    "saved_sodium.write.saveAsTable(table_name)"
   ]
  },
  {
   "cell_type": "code",
   "execution_count": 0,
   "metadata": {
    "application/vnd.databricks.v1+cell": {
     "cellMetadata": {},
     "inputWidgets": {},
     "nuid": "89e2dc78-d6dd-4bdb-bb73-286bcd0d12d7",
     "showTitle": true,
     "title": "Albumin - Nulls are removed"
    }
   },
   "outputs": [],
   "source": [
    "dataframe_alb = initial.where((lower(col(\"resultname\")).contains(\"albumin\")) | (lower(col(\"resultname\")).contains('(?:\\s|^)alb(?:\\s|$)')))\n",
    "\n",
    "dataframe_alb = dataframe_alb.where(dataframe_alb.unit.isNotNull())\n",
    "dataframe_alb = dataframe_alb.where(~(lower(col(\"unit\")).contains(\"ratio\")))\n",
    "dataframe_alb = dataframe_alb.where(~(lower(col(\"unit\")).contains(\"mg/dl\")))\n",
    "dataframe_alb = dataframe_alb.where(~(lower(col(\"resultname\")).contains(\"ratio\")))\n",
    "dataframe_alb = dataframe_alb.where(~(lower(col(\"resultname\")).contains(\"urine\")))\n",
    "dataframe_alb = dataframe_alb.where(~(lower(col(\"resultname\")).contains(\"stool\")))\n",
    "dataframe_alb = dataframe_alb.where(~(lower(col(\"resultname\")).contains(\"ua\")))\n",
    "dataframe_alb = dataframe_alb.where(~(lower(col(\"resultname\")).contains(\"adjusted\")))\n",
    "dataframe_alb = dataframe_alb.where(dataframe_alb.unit != \"%\")\n",
    "dataframe_alb = dataframe_alb.where(dataframe_alb.unit != \"-\")\n",
    "dataframe_alb = dataframe_alb.where(dataframe_alb.resultname != \"ALBUMIN/GLOBULIN.SER/PLAS.QN.ELP (BEAKER)\")\n",
    "dataframe_alb = dataframe_alb.where(dataframe_alb.resultname != \"PREALBUMIN.SER/PLAS.QN (MG/DL)(BEAKER)\")\n",
    "\n",
    "dataframe_alb = dataframe_alb.withColumn('unit_cleaned', \n",
    "                                                       when(lower(dataframe_alb.unit).contains(\"g/dl\"),\"standard\").\\\n",
    "                                                       when(lower(dataframe_alb.unit).contains(\"gm/dl\"),\"standard\").\\\n",
    "                                                       when(lower(dataframe_alb.unit).contains(\"grams/dl\"),\"standard\").\\\n",
    "                                                       when(dataframe_alb.unit == \"grams per deciliter\",\"standard\").\\\n",
    "                                                       otherwise(col(\"unit\")))\n",
    "\n",
    "dataframe_alb = dataframe_alb.withColumn('resultname_cleaned', \n",
    "                                         when(dataframe_alb.unit_cleaned.contains(\"standard\"),\"alb_cleaned\").\\\n",
    "                                         otherwise(col(\"resultname\")))\n",
    "\n",
    "alb_df = dataframe_alb.filter(dataframe_alb.resultname_cleaned ==\"alb_cleaned\")\n",
    "\n",
    "count = alb_df.groupBy([\"unit\"]).count()\n",
    "final_alb = alb_df.join(count,\"unit\")\n",
    "final_alb = final_alb.filter(col(\"count\")>5)\n",
    "\n",
    "##############\n",
    "w=Window.partitionBy(\"pat_id\",\"instance\",\"pat_enc_csn_id\").orderBy(\"observationdatetime\").rowsBetween(Window.unboundedPreceding, Window.unboundedFollowing)\n",
    "final_alb_1 = final_alb.withColumn('resultvalue_alb', F.mean('resultvalue').over(w))\n",
    "final_alb_2 = final_alb_1.withColumn('Last_alb', F.last('resultvalue').over(w))\n",
    "    \n",
    "columns = ['pat_id','instance','pat_enc_csn_id','resultvalue_alb','Last_alb']\n",
    "saved_alb = final_alb_2[columns]\n",
    "saved_alb = saved_alb.dropDuplicates(['pat_id','instance','pat_enc_csn_id'])"
   ]
  },
  {
   "cell_type": "code",
   "execution_count": 0,
   "metadata": {
    "application/vnd.databricks.v1+cell": {
     "cellMetadata": {},
     "inputWidgets": {},
     "nuid": "fbff250a-f183-4838-a662-7eadd1f2f010",
     "showTitle": false,
     "title": ""
    }
   },
   "outputs": [],
   "source": [
    "%sql\n",
    "DROP TABLE rdp_phi_sandbox.sm_patt_alb_feb;"
   ]
  },
  {
   "cell_type": "code",
   "execution_count": 0,
   "metadata": {
    "application/vnd.databricks.v1+cell": {
     "cellMetadata": {},
     "inputWidgets": {},
     "nuid": "a6e31818-0165-4e88-9e76-8df682cfce14",
     "showTitle": false,
     "title": ""
    }
   },
   "outputs": [],
   "source": [
    "table_name = 'rdp_phi_sandbox.sm_patt_alb_feb'\n",
    "saved_alb.write.saveAsTable(table_name)"
   ]
  },
  {
   "cell_type": "code",
   "execution_count": 0,
   "metadata": {
    "application/vnd.databricks.v1+cell": {
     "cellMetadata": {},
     "inputWidgets": {},
     "nuid": "6118dad2-e77b-40cc-aabe-c7fa8950fcc6",
     "showTitle": true,
     "title": "Potassium -  Null units are include"
    }
   },
   "outputs": [],
   "source": [
    "dataframe_potassium = initial.where((lower(col(\"resultname\")).contains(\"potassium\")))\n",
    "\n",
    "###Change Nulls to the defined unit\n",
    "dataframe_potassium = dataframe_potassium.na.fill(\"missing\",[\"unit\"])\n",
    "\n",
    "#dataframe_potassium = dataframe_potassium.where(dataframe_potassium.unit.isNotNull())\n",
    "dataframe_potassium = dataframe_potassium.where(~(lower(col(\"unit\")).contains(\"ratio\")))\n",
    "dataframe_potassium = dataframe_potassium.where(~(lower(col(\"unit\")).contains(\"%\")))\n",
    "dataframe_potassium = dataframe_potassium.where(~(lower(col(\"resultname\")).contains(\"urine\")))\n",
    "dataframe_potassium = dataframe_potassium.where(~(lower(col(\"resultname\")).contains(\"stool\")))\n",
    "dataframe_potassium = dataframe_potassium.where(~(lower(col(\"resultname\")).contains(\"ua\")))\n",
    "\n",
    "dataframe_potassium = dataframe_potassium.withColumn('unit_cleaned',\n",
    "                                                     when((dataframe_potassium.unit==\"missing\"),\"standard\").\\\n",
    "                                                     when(lower(dataframe_potassium.unit).contains(\"mm/l\"),\"standard\").\\\n",
    "                                                     when(lower(dataframe_potassium.unit).contains(\"mmol/l\"),\"standard\").\\\n",
    "                                                     when(lower(dataframe_potassium.unit).contains(\"mmoi/l\"),\"standard\").\\\n",
    "                                                     when(lower(dataframe_potassium.unit).contains(\"meq/l\"),\"standard\").\\\n",
    "                                                     when(lower(dataframe_potassium.unit).contains(\"nmol/l\"),\"standard\").\\\n",
    "                                                     when(dataframe_potassium.unit == \"mmol per liter\",\"standard\").\\\n",
    "                                                     otherwise(col(\"unit\")))\n",
    "\n",
    "dataframe_potassium = dataframe_potassium.withColumn('resultname_cleaned', \n",
    "                                                    when(dataframe_potassium.unit_cleaned.contains(\"standard\"),\"pot_cleaned\").\\\n",
    "                                                    otherwise(col(\"resultname\")))\n",
    "\n",
    "potassium_df = dataframe_potassium.filter(dataframe_potassium.resultname_cleaned ==\"pot_cleaned\")\n",
    "\n",
    "count = potassium_df.groupBy([\"unit\"]).count()\n",
    "final_potassium = potassium_df.join(count,\"unit\")\n",
    "final_potassium = final_potassium.filter(col(\"count\")>5)\n",
    "\n",
    "##############\n",
    "w=Window.partitionBy(\"pat_id\",\"instance\",\"pat_enc_csn_id\").orderBy(\"observationdatetime\").rowsBetween(Window.unboundedPreceding, Window.unboundedFollowing)\n",
    "final_potassium_1 = final_potassium.withColumn('resultvalue_potassium', F.mean('resultvalue').over(w))\n",
    "final_potassium_2 = final_potassium_1.withColumn('Last_potassium', F.last('resultvalue').over(w))\n",
    "    \n",
    "columns = ['pat_id','instance','pat_enc_csn_id','resultvalue_potassium','Last_potassium']\n",
    "saved_potassium = final_potassium_2[columns]\n",
    "saved_potassium = saved_potassium.dropDuplicates(['pat_id','instance','pat_enc_csn_id'])"
   ]
  },
  {
   "cell_type": "code",
   "execution_count": 0,
   "metadata": {
    "application/vnd.databricks.v1+cell": {
     "cellMetadata": {},
     "inputWidgets": {},
     "nuid": "812a40e0-f295-467b-aff1-f5ad1af0f3d0",
     "showTitle": false,
     "title": ""
    }
   },
   "outputs": [],
   "source": [
    "%sql\n",
    "DROP TABLE rdp_phi_sandbox.sm_patt_potassium_feb;"
   ]
  },
  {
   "cell_type": "code",
   "execution_count": 0,
   "metadata": {
    "application/vnd.databricks.v1+cell": {
     "cellMetadata": {},
     "inputWidgets": {},
     "nuid": "a20d47c0-02eb-4e1c-923a-ebfdd5ad7215",
     "showTitle": false,
     "title": ""
    }
   },
   "outputs": [],
   "source": [
    "table_name = 'rdp_phi_sandbox.sm_patt_potassium_feb'\n",
    "saved_potassium.write.saveAsTable(table_name)"
   ]
  },
  {
   "cell_type": "code",
   "execution_count": 0,
   "metadata": {
    "application/vnd.databricks.v1+cell": {
     "cellMetadata": {},
     "inputWidgets": {},
     "nuid": "f4a4b69d-4728-4547-badf-07b4d039be98",
     "showTitle": true,
     "title": "Creatinine "
    }
   },
   "outputs": [],
   "source": [
    "dataframe_creatinine = initial.where((lower(col(\"resultname\")).contains(\"creatinine\")) | (lower(col(\"resultname\")).contains('creat')))\n",
    "\n",
    "###Change Nulls to the defined unit\n",
    "dataframe_creatinine = dataframe_creatinine.na.fill(\"missing\",[\"unit\"])\n",
    "\n",
    "dataframe_creatinine = dataframe_creatinine.where(~(lower(col(\"unit\")).contains(\"ratio\")))\n",
    "dataframe_creatinine = dataframe_creatinine.where(~(lower(col(\"unit\")).contains(\"%\")))\n",
    "dataframe_creatinine = dataframe_creatinine.where(~(lower(col(\"resultname\")).contains(\"ratio\")))\n",
    "dataframe_creatinine = dataframe_creatinine.where(~(lower(col(\"resultname\")).contains(\"%\")))\n",
    "dataframe_creatinine = dataframe_creatinine.where(~(lower(col(\"resultname\")).contains(\"urine\")))\n",
    "dataframe_creatinine = dataframe_creatinine.where(~(lower(col(\"resultname\")).contains(\"stool\")))\n",
    "dataframe_creatinine = dataframe_creatinine.where(~(lower(col(\"resultname\")).contains(\"ua\")))\n",
    "dataframe_creatinine = dataframe_creatinine.where(~(lower(col(\"resultname\")).contains(\"kinase\")))\n",
    "dataframe_creatinine = dataframe_creatinine.where(~(lower(col(\"resultname\")).contains(\"bun\")))\n",
    "\n",
    "dataframe_creatinine = dataframe_creatinine.withColumn('unit_cleaned', \n",
    "                                                       when((dataframe_creatinine.unit==\"missing\"),\"standard\").\\\n",
    "                                                       when(lower(dataframe_creatinine.unit).contains(\"mg/dl\"),\"standard\").\\\n",
    "                                                       when(lower(dataframe_creatinine.unit).contains(\"mg/l\"),\"standard\").\\\n",
    "                                                       when(lower(dataframe_creatinine.unit).contains(\"mg.l\"),\"standard\").\\\n",
    "                                                       when(dataframe_creatinine.unit == \"milligrams per deciliter\",\"standard\").\\\n",
    "                                                       otherwise(col(\"unit\")))\n",
    "\n",
    "dataframe_creatinine = dataframe_creatinine.withColumn('resultname_cleaned', \n",
    "                                                    when(dataframe_creatinine.unit_cleaned.contains(\"standard\"),\"creat_cleaned\").\\\n",
    "                                                    otherwise(col(\"resultname\")))\n",
    "\n",
    "creatinine_df = dataframe_creatinine.filter(dataframe_creatinine.resultname_cleaned ==\"creat_cleaned\")\n",
    "\n",
    "count = creatinine_df.groupBy([\"unit\"]).count()\n",
    "final_creatinine = creatinine_df.join(count,\"unit\")\n",
    "final_creatinine = final_creatinine.filter(col(\"count\")>5)\n",
    "\n",
    "final_creatinine = final_creatinine.withColumn('resultvalue',when(lower(final_creatinine.unit).contains(\"mg/l\"),col(\"resultvalue\")*0.1).\\\n",
    "                                               when(lower(final_creatinine.unit).contains(\"mg.l\"),col(\"resultvalue\")*0.1).\\\n",
    "                                               otherwise(col(\"resultvalue\")))\n",
    "\n",
    "\n",
    "##############\n",
    "w=Window.partitionBy(\"pat_id\",\"instance\",\"pat_enc_csn_id\").orderBy(\"observationdatetime\").rowsBetween(Window.unboundedPreceding, Window.unboundedFollowing)\n",
    "final_creatinine_1 = final_creatinine.withColumn('resultvalue_creatinine', F.mean('resultvalue').over(w))\n",
    "final_creatinine_2 = final_creatinine_1.withColumn('Last_creatinine', F.last('resultvalue').over(w))\n",
    "    \n",
    "columns = ['pat_id','instance','pat_enc_csn_id','resultvalue_creatinine','Last_creatinine']\n",
    "saved_creatinine = final_creatinine_2[columns]\n",
    "saved_creatinine = saved_creatinine.dropDuplicates(['pat_id','instance','pat_enc_csn_id'])"
   ]
  },
  {
   "cell_type": "code",
   "execution_count": 0,
   "metadata": {
    "application/vnd.databricks.v1+cell": {
     "cellMetadata": {},
     "inputWidgets": {},
     "nuid": "adb2ac74-b072-4c11-b527-4ac1f8a0ae06",
     "showTitle": false,
     "title": ""
    }
   },
   "outputs": [],
   "source": [
    "%sql\n",
    "DROP TABLE rdp_phi_sandbox.sm_patt_creatinine_feb;"
   ]
  },
  {
   "cell_type": "code",
   "execution_count": 0,
   "metadata": {
    "application/vnd.databricks.v1+cell": {
     "cellMetadata": {},
     "inputWidgets": {},
     "nuid": "24a2fa2a-1dd5-4d3c-83ff-d1d48f7ed158",
     "showTitle": false,
     "title": ""
    }
   },
   "outputs": [],
   "source": [
    "table_name = 'rdp_phi_sandbox.sm_patt_creatinine_feb'\n",
    "saved_creatinine.write.saveAsTable(table_name)"
   ]
  },
  {
   "cell_type": "code",
   "execution_count": 0,
   "metadata": {
    "application/vnd.databricks.v1+cell": {
     "cellMetadata": {},
     "inputWidgets": {},
     "nuid": "2b1112fc-a811-4613-85ad-789f02e7107f",
     "showTitle": true,
     "title": "Calcium - removed ionized - mg/dl - no need for conversion"
    }
   },
   "outputs": [],
   "source": [
    "dataframe_calcium = initial.where((lower(col(\"resultname\")).contains(\"calcium\")) | (lower(col(\"resultname\")).contains('(?:\\s|^)ca(?:\\s|$)')))\n",
    "\n",
    "dataframe_calcium = dataframe_calcium.where(dataframe_calcium.unit.isNotNull())\n",
    "dataframe_calcium = dataframe_calcium.where(~(lower(col(\"unit\")).contains(\"ratio\")))\n",
    "dataframe_calcium = dataframe_calcium.where(~(lower(col(\"resultname\")).contains(\"adjusted\")))\n",
    "dataframe_calcium = dataframe_calcium.where(~(lower(col(\"resultname\")).contains(\"corrected\")))\n",
    "dataframe_calcium = dataframe_calcium.where(~(lower(col(\"resultname\")).contains(\"normalized\")))\n",
    "dataframe_calcium = dataframe_calcium.where(~(lower(col(\"resultname\")).contains(\"urine\")))\n",
    "dataframe_calcium = dataframe_calcium.where(~(lower(col(\"resultname\")).contains(\"stool\")))\n",
    "dataframe_calcium = dataframe_calcium.where(~(lower(col(\"resultname\")).contains(\"ua\")))\n",
    "dataframe_calcium = dataframe_calcium.where(~(lower(col(\"resultname\")).contains(\"ionized\")))\n",
    "dataframe_calcium = dataframe_calcium.where(dataframe_calcium.unit != \"%\")\n",
    "#dataframe_calcium = dataframe_calcium.where(dataframe_calcium.unit != \"/HPF\")\n",
    "#dataframe_calcium = dataframe_calcium.where(dataframe_calcium.unit != \"10.0\")\n",
    "#dataframe_calcium = dataframe_calcium.where(dataframe_calcium.unit != \"/LPF\")\n",
    "\n",
    "dataframe_calcium = dataframe_calcium.withColumn('unit_cleaned', \n",
    "                                                       when(lower(dataframe_calcium.unit).contains(\"mmol/l\"),\"standard\").\\\n",
    "                                                       when(lower(dataframe_calcium.unit).contains(\"mmol\"),\"standard\").\\\n",
    "                                                       when(lower(dataframe_calcium.unit).contains(\"mg/dl\"),\"standard\").\\\n",
    "                                                       when(lower(dataframe_calcium.unit).contains(\"nmol/l\"),\"standard\").\\\n",
    "                                                       when(lower(dataframe_calcium.unit).contains(\"mg/l\"),\"standard\").\\\n",
    "                                                       when(dataframe_calcium.unit == \"milligrams per deciliter\",\"standard\").\\\n",
    "                                                       otherwise(col(\"unit\")))\n",
    "\n",
    "dataframe_calcium = dataframe_calcium.withColumn('resultname_cleaned', \n",
    "                                         when(dataframe_calcium.unit_cleaned.contains(\"standard\"),\"cal_cleaned\").\\\n",
    "                                         otherwise(col(\"resultname\")))\n",
    "\n",
    "calcium_df = dataframe_calcium.filter(dataframe_calcium.resultname_cleaned ==\"cal_cleaned\")\n",
    "\n",
    "count = calcium_df.groupBy([\"unit\"]).count()\n",
    "final_calcium = calcium_df.join(count,\"unit\")\n",
    "final_calcium = final_calcium.filter(col(\"count\")>5)\n",
    "\n",
    "##############\n",
    "w=Window.partitionBy(\"pat_id\",\"instance\",\"pat_enc_csn_id\").orderBy(\"observationdatetime\").rowsBetween(Window.unboundedPreceding, Window.unboundedFollowing)\n",
    "final_calcium_1 = final_calcium.withColumn('resultvalue_calcium', F.mean('resultvalue').over(w))\n",
    "final_calcium_2 = final_calcium_1.withColumn('Last_calcium', F.last('resultvalue').over(w))\n",
    "    \n",
    "columns = ['pat_id','instance','pat_enc_csn_id','resultvalue_calcium','Last_calcium']\n",
    "saved_calcium = final_calcium_2[columns]\n",
    "saved_calcium = saved_calcium.dropDuplicates(['pat_id','instance','pat_enc_csn_id'])"
   ]
  },
  {
   "cell_type": "code",
   "execution_count": 0,
   "metadata": {
    "application/vnd.databricks.v1+cell": {
     "cellMetadata": {},
     "inputWidgets": {},
     "nuid": "9c952182-2bc9-4624-a66a-ddcdbccf275a",
     "showTitle": false,
     "title": ""
    }
   },
   "outputs": [],
   "source": [
    "%sql\n",
    "DROP TABLE rdp_phi_sandbox.sm_patt_calcium_feb;"
   ]
  },
  {
   "cell_type": "code",
   "execution_count": 0,
   "metadata": {
    "application/vnd.databricks.v1+cell": {
     "cellMetadata": {},
     "inputWidgets": {},
     "nuid": "0fd982c9-1fd9-4ea9-a465-9bfae37c90ba",
     "showTitle": false,
     "title": ""
    }
   },
   "outputs": [],
   "source": [
    "table_name = 'rdp_phi_sandbox.sm_patt_calcium_feb'\n",
    "saved_calcium.write.saveAsTable(table_name)"
   ]
  },
  {
   "cell_type": "code",
   "execution_count": 0,
   "metadata": {
    "application/vnd.databricks.v1+cell": {
     "cellMetadata": {},
     "inputWidgets": {},
     "nuid": "eae65364-b5b6-4a95-a1d1-e3679a1af3a5",
     "showTitle": true,
     "title": "ALT - Null units are include"
    }
   },
   "outputs": [],
   "source": [
    "dataframe_alt = initial.where((lower(col(\"resultname\")).contains(\"alt (sgpt)\")))\n",
    "\n",
    "###Change Nulls to the defined unit\n",
    "dataframe_alt = dataframe_alt.na.fill(\"missing\",[\"unit\"])\n",
    "\n",
    "dataframe_alt = dataframe_alt.where(~(lower(col(\"unit\")).contains(\"ratio\")))\n",
    "dataframe_alt = dataframe_alt.where(~(lower(col(\"resultname\")).contains(\"ratio\")))\n",
    "dataframe_alt = dataframe_alt.where(~(lower(col(\"resultname\")).contains(\"urine\")))\n",
    "\n",
    "dataframe_alt = dataframe_alt.withColumn('unit_cleaned', \n",
    "                                         when((dataframe_alt.unit==\"missing\"),\"standard\").\\\n",
    "                                         when(lower(dataframe_alt.unit).contains(\"iu/l\"),\"standard\").\\\n",
    "                                         when(lower(dataframe_alt.unit).contains(\"u/l\"),\"standard\").\\\n",
    "                                         when(lower(dataframe_alt.unit).contains(\"unit/l\"),\"standard\").\\\n",
    "                                         when(lower(dataframe_alt.unit).contains(\"intunit/l\"),\"standard\").\\\n",
    "                                         when(lower(dataframe_alt.unit).contains(\"intlunit/l\"),\"standard\").\\\n",
    "                                         when(lower(dataframe_alt.unit).contains(\"units/l\"),\"standard\").\\\n",
    "                                         when(lower(dataframe_alt.unit).contains(\"units per liter\"),\"standard\").\\\n",
    "                                         when(dataframe_alt.unit.contains(\"[iU]/L\"),\"standard\").\\\n",
    "                                         otherwise(col(\"unit\")))\n",
    "\n",
    "dataframe_alt = dataframe_alt.withColumn('resultname_cleaned', \n",
    "                                         when(dataframe_alt.unit_cleaned.contains(\"standard\"),\"alt_cleaned\").\\\n",
    "                                         otherwise(col(\"resultname\")))\n",
    "\n",
    "alt_df = dataframe_alt.filter(dataframe_alt.resultname_cleaned ==\"alt_cleaned\")\n",
    "\n",
    "count = alt_df.groupBy([\"unit\"]).count()\n",
    "final_alt = alt_df.join(count,\"unit\")\n",
    "final_alt = final_alt.filter(col(\"count\")>5)\n",
    "\n",
    "##############\n",
    "w=Window.partitionBy(\"pat_id\",\"instance\",\"pat_enc_csn_id\").orderBy(\"observationdatetime\").rowsBetween(Window.unboundedPreceding, Window.unboundedFollowing)\n",
    "final_alt_1 = final_alt.withColumn('resultvalue_alt', F.mean('resultvalue').over(w)) ##Find mean ALT\n",
    "final_alt_2 = final_alt_1.withColumn('Last_alt', F.last('resultvalue').over(w)) ##Find LAST ALT\n",
    "    \n",
    "columns = ['pat_id','instance','pat_enc_csn_id','resultvalue_alt','Last_alt']\n",
    "saved_alt = final_alt_2[columns]\n",
    "saved_alt = saved_alt.dropDuplicates(['pat_id','instance','pat_enc_csn_id'])"
   ]
  },
  {
   "cell_type": "code",
   "execution_count": 0,
   "metadata": {
    "application/vnd.databricks.v1+cell": {
     "cellMetadata": {},
     "inputWidgets": {},
     "nuid": "8fd53282-53e7-4d0c-a421-1d7731cee141",
     "showTitle": false,
     "title": ""
    }
   },
   "outputs": [],
   "source": [
    "%sql\n",
    "DROP TABLE rdp_phi_sandbox.sm_patt_alt_feb;"
   ]
  },
  {
   "cell_type": "code",
   "execution_count": 0,
   "metadata": {
    "application/vnd.databricks.v1+cell": {
     "cellMetadata": {},
     "inputWidgets": {},
     "nuid": "2f182609-c860-4179-a836-b533c3ab922c",
     "showTitle": false,
     "title": ""
    }
   },
   "outputs": [],
   "source": [
    "table_name = 'rdp_phi_sandbox.sm_patt_alt_feb'\n",
    "saved_alt.write.saveAsTable(table_name)"
   ]
  },
  {
   "cell_type": "code",
   "execution_count": 0,
   "metadata": {
    "application/vnd.databricks.v1+cell": {
     "cellMetadata": {},
     "inputWidgets": {},
     "nuid": "f7070580-0e98-44c6-830b-484110293bfc",
     "showTitle": true,
     "title": "AST - Null units are include"
    }
   },
   "outputs": [],
   "source": [
    "dataframe_ast = initial.where((lower(col(\"resultname\")).contains(\"ast (sgot)\")))\n",
    "\n",
    "###Change Nulls to the defined unit\n",
    "dataframe_ast = dataframe_ast.na.fill(\"missing\",[\"unit\"])\n",
    "\n",
    "dataframe_ast = dataframe_ast.where(~(lower(col(\"unit\")).contains(\"ratio\")))\n",
    "dataframe_ast = dataframe_ast.where(~(lower(col(\"resultname\")).contains(\"ratio\")))\n",
    "dataframe_ast = dataframe_ast.where(~(lower(col(\"resultname\")).contains(\"urine\")))\n",
    "\n",
    "dataframe_ast = dataframe_ast.withColumn('unit_cleaned', \n",
    "                                         when((dataframe_ast.unit==\"missing\"),\"standard\").\\\n",
    "                                         when(lower(dataframe_ast.unit).contains(\"iu/l\"),\"standard\").\\\n",
    "                                         when(lower(dataframe_ast.unit).contains(\"u/l\"),\"standard\").\\\n",
    "                                         when(lower(dataframe_ast.unit).contains(\"unit/l\"),\"standard\").\\\n",
    "                                         when(lower(dataframe_ast.unit).contains(\"intunit/l\"),\"standard\").\\\n",
    "                                         when(lower(dataframe_ast.unit).contains(\"intlunit/l\"),\"standard\").\\\n",
    "                                         when(lower(dataframe_ast.unit).contains(\"units/l\"),\"standard\").\\\n",
    "                                         when(lower(dataframe_ast.unit).contains(\"units per liter\"),\"standard\").\\\n",
    "                                         when(dataframe_ast.unit.contains(\"[iU]/L\"),\"standard\").\\\n",
    "                                         otherwise(col(\"unit\")))\n",
    "\n",
    "dataframe_ast = dataframe_ast.withColumn('resultname_cleaned', \n",
    "                                         when(dataframe_ast.unit_cleaned.contains(\"standard\"),\"ast_cleaned\").\\\n",
    "                                         otherwise(col(\"resultname\")))\n",
    "\n",
    "ast_df = dataframe_ast.filter(dataframe_ast.resultname_cleaned ==\"ast_cleaned\")\n",
    "\n",
    "count = ast_df.groupBy([\"unit\"]).count()\n",
    "final_ast = ast_df.join(count,\"unit\")\n",
    "final_ast = final_ast.filter(col(\"count\")>5)\n",
    "\n",
    "##############\n",
    "w=Window.partitionBy(\"pat_id\",\"instance\",\"pat_enc_csn_id\").orderBy(\"observationdatetime\").rowsBetween(Window.unboundedPreceding, Window.unboundedFollowing)\n",
    "final_ast_1 = final_ast.withColumn('resultvalue_ast', F.mean('resultvalue').over(w))\n",
    "final_ast_2 = final_ast_1.withColumn('Last_ast', F.last('resultvalue').over(w))\n",
    "    \n",
    "columns = ['pat_id','instance','pat_enc_csn_id','resultvalue_ast','Last_ast']\n",
    "saved_ast = final_ast_2[columns]\n",
    "saved_ast = saved_ast.dropDuplicates(['pat_id','instance','pat_enc_csn_id'])"
   ]
  },
  {
   "cell_type": "code",
   "execution_count": 0,
   "metadata": {
    "application/vnd.databricks.v1+cell": {
     "cellMetadata": {},
     "inputWidgets": {},
     "nuid": "3e925459-a23e-4326-88b5-0ce88be10fd7",
     "showTitle": false,
     "title": ""
    }
   },
   "outputs": [],
   "source": [
    "%sql\n",
    "DROP TABLE rdp_phi_sandbox.sm_patt_ast_feb;"
   ]
  },
  {
   "cell_type": "code",
   "execution_count": 0,
   "metadata": {
    "application/vnd.databricks.v1+cell": {
     "cellMetadata": {},
     "inputWidgets": {},
     "nuid": "1d149f17-521f-419e-9889-0b4e3c5b6527",
     "showTitle": false,
     "title": ""
    }
   },
   "outputs": [],
   "source": [
    "table_name = 'rdp_phi_sandbox.sm_patt_ast_feb'\n",
    "saved_ast.write.saveAsTable(table_name)"
   ]
  },
  {
   "cell_type": "code",
   "execution_count": 0,
   "metadata": {
    "application/vnd.databricks.v1+cell": {
     "cellMetadata": {},
     "inputWidgets": {},
     "nuid": "6323a081-f860-4359-b757-0d1d49b2bc25",
     "showTitle": true,
     "title": "Neutrophils - Null units are not included"
    }
   },
   "outputs": [],
   "source": [
    "dataframe_neuabs = initial.where((lower(col(\"resultname\")).contains(\"neutrophils\")) | (lower(col(\"resultname\")).contains(\"pmns\")))\n",
    "\n",
    "###Change Nulls to the defined unit\n",
    "dataframe_neuabs = dataframe_neuabs.na.fill(\"missing\",[\"unit\"])\n",
    "#dataframe_neuabs = dataframe_neuabs.where(dataframe_neuabs.unit.isNotNull())\n",
    "dataframe_neuabs = dataframe_neuabs.where(~(lower(col(\"unit\")).contains(\"cell\"))) #??????????????\n",
    "dataframe_neuabs = dataframe_neuabs.where(~(lower(col(\"unit\")).contains(\"cel\")))\n",
    "dataframe_neuabs = dataframe_neuabs.where(~(lower(col(\"unit\")).contains(\"%\")))\n",
    "dataframe_neuabs = dataframe_neuabs.where(~(lower(col(\"resultname\")).contains(\"cell\"))) #????????????????\n",
    "dataframe_neuabs = dataframe_neuabs.where(~(lower(col(\"resultname\")).contains(\"urine\")))\n",
    "dataframe_neuabs = dataframe_neuabs.where(~(lower(col(\"resultname\")).contains(\"%\")))\n",
    "dataframe_neuabs = dataframe_neuabs.where(~(col(\"resultname\").contains(\"VACUOLATED\")))\n",
    "dataframe_neuabs = dataframe_neuabs.where(~(col(\"resultname\").contains(\"HYPERSEGMENTED\")))\n",
    "#dataframe_neuabs = dataframe_neuabs.where(~(col(\"resultname\").contains(\"SEGMENTED\")))\n",
    "#dataframe_neuabs = dataframe_neuabs.where(~(col(\"resultname\").contains(\"BAND\")))\n",
    "dataframe_neuabs = dataframe_neuabs.where(dataframe_neuabs.unit != \"nmol/min/mg\")\n",
    "dataframe_neuabs = dataframe_neuabs.where(dataframe_neuabs.unit != \"%\")\n",
    "#Segmented neutrophils\n",
    "#Polymorphonuclear neutrophils\n",
    "#PMNs\n",
    "#Band neutrophils\n",
    "\n",
    "dataframe_neuabs = dataframe_neuabs.withColumn('unit_cleaned', \n",
    "                                               when((dataframe_neuabs.unit==\"missing\"),\"standard\").\\\n",
    "                                               when(lower(dataframe_neuabs.unit).contains(\"k/ul\"),\"standard\").\\\n",
    "                                               when(lower(dataframe_neuabs.unit).contains(\"ul\"),\"standard\").\\\n",
    "                                               when(lower(dataframe_neuabs.unit).contains(\"mcl\"),\"standard\").\\\n",
    "                                               when(lower(dataframe_neuabs.unit).contains(\"mm3\"),\"standard\").\\\n",
    "                                               when(lower(dataframe_neuabs.unit).contains(\"cumm\"),\"standard\").\\\n",
    "                                               when(lower(dataframe_neuabs.unit).contains(\"cmm\"),\"standard\").\\\n",
    "                                               when(lower(dataframe_neuabs.unit).contains(\"10*3/ul\"),\"standard\").\\\n",
    "                                               when(lower(dataframe_neuabs.unit).contains(\"x10e3/ul\"),\"standard\").\\\n",
    "                                               when(dataframe_neuabs.resultname.contains(\"(10*3/UL)\"),\"standard\").\\\n",
    "                                               when(dataframe_neuabs.resultname.contains(\"(K/UL)\"),\"standard\").\\\n",
    "                                               when((dataframe_neuabs.resultname==\"NEUTROPHILS BL\"),\"standard\").\\\n",
    "                                               when((dataframe_neuabs.resultname==\"CBC ABS NEUTROPHILS (REF)\"),\"standard\").\\\n",
    "                                               when((dataframe_neuabs.resultname==\"NEUTROPHILS ABSOLUTE.BLD.QN (REF)\"),\"standard\").\\\n",
    "                                               when(dataframe_neuabs.resultname.contains(\"EXTERNAL\"),\"standard\").\\\n",
    "                                               when(lower(dataframe_neuabs.unit).contains(\"k/ul\"),\"standard\").\\\n",
    "                                               when(lower(dataframe_neuabs.unit).contains(\"thous/mcl\"),\"standard\").\\\n",
    "                                               when(lower(dataframe_neuabs.unit).contains(\"thousand/mcl\"),\"standard\").\\\n",
    "                                               when(lower(dataframe_neuabs.unit).contains(\"/ul\"),\"standard\").\\\n",
    "                                               otherwise(col(\"unit\")))\n",
    "\n",
    "dataframe_neuabs = dataframe_neuabs.withColumn('resultname_cleaned', \n",
    "                                         when(dataframe_neuabs.unit_cleaned.contains(\"standard\"),\"neuabs_cleaned\").\\\n",
    "                                         otherwise(col(\"resultname\")))\n",
    "\n",
    "neuabs_df = dataframe_neuabs.filter(dataframe_neuabs.resultname_cleaned ==\"neuabs_cleaned\")\n",
    "\n",
    "count = neuabs_df.groupBy([\"unit\"]).count()\n",
    "final_neuabs = neuabs_df.join(count,\"unit\")\n",
    "final_neuabs = final_neuabs.filter(col(\"count\")>4)\n",
    "\n",
    "\n",
    "##############\n",
    "w=Window.partitionBy(\"pat_id\",\"instance\",\"pat_enc_csn_id\").orderBy(\"observationdatetime\").rowsBetween(Window.unboundedPreceding, Window.unboundedFollowing)\n",
    "final_neuabs_1 = final_neuabs.withColumn('resultvalue_neuabs', F.mean('resultvalue').over(w))\n",
    "final_neuabs_2 = final_neuabs_1.withColumn('Last_neuabs', F.last('resultvalue').over(w))\n",
    "    \n",
    "columns = ['pat_id','instance','pat_enc_csn_id','resultvalue_neuabs','Last_neuabs']\n",
    "saved_neuabst = final_neuabs_2[columns]\n",
    "saved_neuabst = saved_neuabst.dropDuplicates(['pat_id','instance','pat_enc_csn_id'])"
   ]
  },
  {
   "cell_type": "code",
   "execution_count": 0,
   "metadata": {
    "application/vnd.databricks.v1+cell": {
     "cellMetadata": {},
     "inputWidgets": {},
     "nuid": "17ecf307-7a60-4122-a07a-3d546084d6a9",
     "showTitle": false,
     "title": ""
    }
   },
   "outputs": [],
   "source": [
    "%sql\n",
    "DROP TABLE rdp_phi_sandbox.sm_patt_neuabs_feb;"
   ]
  },
  {
   "cell_type": "code",
   "execution_count": 0,
   "metadata": {
    "application/vnd.databricks.v1+cell": {
     "cellMetadata": {},
     "inputWidgets": {},
     "nuid": "8b90a384-3e9c-4aa7-b925-7a2d8a52f1d3",
     "showTitle": false,
     "title": ""
    }
   },
   "outputs": [],
   "source": [
    "table_name = 'rdp_phi_sandbox.sm_patt_neuabs_feb'\n",
    "saved_neuabst.write.saveAsTable(table_name)"
   ]
  },
  {
   "cell_type": "code",
   "execution_count": 0,
   "metadata": {
    "application/vnd.databricks.v1+cell": {
     "cellMetadata": {},
     "inputWidgets": {},
     "nuid": "d362064e-e88b-4248-9e46-d6d712b1a038",
     "showTitle": true,
     "title": "Eosinophils - Null units are not included"
    }
   },
   "outputs": [],
   "source": [
    "dataframe_eosabs = initial.where((lower(col(\"resultname\")).contains(\"eosinophils\")) | (lower(col(\"resultname\")).contains(\"eosinophiles\")))\n",
    "\n",
    "#dataframe_eosabs = dataframe_eosabs.where(dataframe_eosabs.unit.isNotNull())\n",
    "dataframe_eosabs = dataframe_eosabs.na.fill(\"missing\",[\"unit\"])\n",
    "dataframe_eosabs = dataframe_eosabs.where(~(lower(col(\"unit\")).contains(\"cell\"))) #??????????????\n",
    "dataframe_eosabs = dataframe_eosabs.where(~(lower(col(\"unit\")).contains(\"cel\")))\n",
    "dataframe_eosabs = dataframe_eosabs.where(~(lower(col(\"unit\")).contains(\"%\")))\n",
    "dataframe_eosabs = dataframe_eosabs.where(~(lower(col(\"resultname\")).contains(\"cell\"))) #????????????????\n",
    "dataframe_eosabs = dataframe_eosabs.where(~(lower(col(\"resultname\")).contains(\"urine\")))\n",
    "dataframe_eosabs = dataframe_eosabs.where(~(lower(col(\"resultname\")).contains(\"%\")))\n",
    "dataframe_eosabs = dataframe_eosabs.where(dataframe_eosabs.unit != \"nmol/min/mg\")\n",
    "dataframe_eosabs = dataframe_eosabs.where(dataframe_eosabs.unit != \"/L\")\n",
    "dataframe_eosabs = dataframe_eosabs.where(dataframe_eosabs.unit != \"%\")\n",
    "\n",
    "\n",
    "dataframe_eosabs = dataframe_eosabs.withColumn('unit_cleaned', \n",
    "                                               when((dataframe_eosabs.unit==\"missing\"),\"standard\").\\\n",
    "                                               when(lower(dataframe_eosabs.unit).contains(\"k/ul\"),\"standard\").\\\n",
    "                                               when(lower(dataframe_eosabs.unit).contains(\"ul\"),\"standard\").\\\n",
    "                                               when(lower(dataframe_eosabs.unit).contains(\"mcl\"),\"standard\").\\\n",
    "                                               when(lower(dataframe_eosabs.unit).contains(\"mm3\"),\"standard\").\\\n",
    "                                               when(lower(dataframe_eosabs.unit).contains(\"cumm\"),\"standard\").\\\n",
    "                                               when(lower(dataframe_eosabs.unit).contains(\"cmm\"),\"standard\").\\\n",
    "                                               when(lower(dataframe_eosabs.unit).contains(\"10*3/ul\"),\"standard\").\\\n",
    "                                               when(lower(dataframe_eosabs.unit).contains(\"x10e3/ul\"),\"standard\").\\\n",
    "                                               when(dataframe_eosabs.resultname.contains(\"(10*3/UL)\"),\"standard\").\\\n",
    "                                               when(dataframe_eosabs.resultname.contains(\"(K/UL)\"),\"standard\").\\\n",
    "                                               when((dataframe_eosabs.resultname==\"EOSINOPHILS ABSOLUTE (REF)\"),\"standard\").\\\n",
    "                                               when((dataframe_eosabs.resultname==\"EOSINOPHILS.XXX.ORD (REF)\"),\"standard\").\\\n",
    "                                               when((dataframe_eosabs.resultname==\"CBC ABS EOSINOPHILS (REF)\"),\"standard\").\\\n",
    "                                               when(dataframe_eosabs.resultname.contains(\"EXTERNAL\"),\"standard\").\\\n",
    "                                               when(lower(dataframe_eosabs.unit).contains(\"k/ul\"),\"standard\").\\\n",
    "                                               when(lower(dataframe_eosabs.unit).contains(\"thous/mcl\"),\"standard\").\\\n",
    "                                               when(lower(dataframe_eosabs.unit).contains(\"thousand/mcl\"),\"standard\").\\\n",
    "                                               otherwise(col(\"unit\")))\n",
    "\n",
    "dataframe_eosabs = dataframe_eosabs.withColumn('resultname_cleaned', \n",
    "                                         when(dataframe_eosabs.unit_cleaned.contains(\"standard\"),\"eosabs_cleaned\").\\\n",
    "                                         otherwise(col(\"resultname\")))\n",
    "\n",
    "\n",
    "eosabs_df = dataframe_eosabs.filter(dataframe_eosabs.resultname_cleaned ==\"eosabs_cleaned\")\n",
    "\n",
    "count = eosabs_df.groupBy([\"unit\"]).count()\n",
    "final_eosabs = eosabs_df.join(count,\"unit\")\n",
    "final_eosabs = final_eosabs.filter(col(\"count\")>4)\n",
    "\n",
    "\n",
    "##############\n",
    "w=Window.partitionBy(\"pat_id\",\"instance\",\"pat_enc_csn_id\").orderBy(\"observationdatetime\").rowsBetween(Window.unboundedPreceding, Window.unboundedFollowing)\n",
    "final_eosabs_1 = final_eosabs.withColumn('resultvalue_eosabs', F.mean('resultvalue').over(w))\n",
    "final_eosabs_2 = final_eosabs_1.withColumn('Last_eosabs', F.last('resultvalue').over(w))\n",
    "    \n",
    "columns = ['pat_id','instance','pat_enc_csn_id','resultvalue_eosabs','Last_eosabs']\n",
    "saved_eosabs = final_eosabs_2[columns]\n",
    "saved_eosabs = saved_eosabs.dropDuplicates(['pat_id','instance','pat_enc_csn_id'])"
   ]
  },
  {
   "cell_type": "code",
   "execution_count": 0,
   "metadata": {
    "application/vnd.databricks.v1+cell": {
     "cellMetadata": {},
     "inputWidgets": {},
     "nuid": "b4a61ea8-23d1-48b7-aed8-5fbd3e1cba67",
     "showTitle": false,
     "title": ""
    }
   },
   "outputs": [],
   "source": [
    "%sql\n",
    "DROP TABLE rdp_phi_sandbox.sm_patt_eosabs_feb;"
   ]
  },
  {
   "cell_type": "code",
   "execution_count": 0,
   "metadata": {
    "application/vnd.databricks.v1+cell": {
     "cellMetadata": {},
     "inputWidgets": {},
     "nuid": "4cb39853-1ca3-42ab-a6ba-e23b207a8ea2",
     "showTitle": false,
     "title": ""
    }
   },
   "outputs": [],
   "source": [
    "table_name = 'rdp_phi_sandbox.sm_patt_eosabs_feb'\n",
    "saved_eosabs.write.saveAsTable(table_name)"
   ]
  },
  {
   "cell_type": "code",
   "execution_count": 0,
   "metadata": {
    "application/vnd.databricks.v1+cell": {
     "cellMetadata": {},
     "inputWidgets": {},
     "nuid": "0b146cb1-fb5a-404f-aaaa-59150ecbba6a",
     "showTitle": true,
     "title": "Platelets - Null units are not included"
    }
   },
   "outputs": [],
   "source": [
    "dataframe_plt = initial.where((lower(col(\"resultname\")).contains(\"platelet\")) | (lower(col(\"resultname\")).contains(\"plt\")))\n",
    "\n",
    "dataframe_plt = dataframe_plt.where(dataframe_plt.unit.isNotNull())\n",
    "dataframe_plt = dataframe_plt.where(~(lower(col(\"unit\")).contains(\"cell\"))) #??\n",
    "dataframe_plt = dataframe_plt.where(~(lower(col(\"unit\")).contains(\"cel\")))\n",
    "dataframe_plt = dataframe_plt.where(~(lower(col(\"unit\")).contains(\"%\")))\n",
    "dataframe_plt = dataframe_plt.where(~(lower(col(\"resultname\")).contains(\"cell\"))) #??\n",
    "dataframe_plt = dataframe_plt.where(~(lower(col(\"resultname\")).contains(\"urine\")))\n",
    "dataframe_plt = dataframe_plt.where(~(lower(col(\"resultname\")).contains(\"%\")))\n",
    "dataframe_plt = dataframe_plt.where(~(col(\"resultname\").contains(\"CITRATED\")))\n",
    "dataframe_plt = dataframe_plt.where(dataframe_plt.unit != \"nmol/min/mg\")\n",
    "dataframe_plt = dataframe_plt.where(dataframe_plt.unit != \"%\")\n",
    "dataframe_plt = dataframe_plt.where(dataframe_plt.unit != \"PRU\")\n",
    "dataframe_plt = dataframe_plt.where(dataframe_plt.unit != \"Base PRU\")\n",
    "dataframe_plt = dataframe_plt.where(dataframe_plt.unit != \"ARU\")\n",
    "\n",
    "dataframe_plt = dataframe_plt.withColumn('unit_cleaned', \n",
    "                                         when(lower(dataframe_plt.unit).contains(\"k/ul\"),\"standard\").\\\n",
    "                                         when(lower(dataframe_plt.unit).contains(\"ul\"),\"standard\").\\\n",
    "                                         when(lower(dataframe_plt.unit).contains(\"mcl\"),\"standard\").\\\n",
    "                                         when(lower(dataframe_plt.unit).contains(\"mm3\"),\"standard\").\\\n",
    "                                         when(lower(dataframe_plt.unit).contains(\"cumm\"),\"standard\").\\\n",
    "                                         when(lower(dataframe_plt.unit).contains(\"cmm\"),\"standard\").\\\n",
    "                                         when(lower(dataframe_plt.unit).contains(\"10*3/ul\"),\"standard\").\\\n",
    "                                         when(dataframe_plt.resultname.contains(\"(10*3/UL)\"),\"standard\").\\\n",
    "                                         when(dataframe_plt.resultname.contains(\"(K/UL)\"),\"standard\").\\\n",
    "                                         when((dataframe_plt.resultname==\"HIGH TITER O PHERESIS PLATELETS\"),\"standard\").\\\n",
    "                                         when((dataframe_plt.resultname==\"PLT BASELINE\"),\"standard\").\\\n",
    "                                         when((dataframe_plt.resultname==\"(ZZZ)PLT\"),\"standard\").\\\n",
    "                                         when((dataframe_plt.resultname==\"PLT, POC\"),\"standard\").\\\n",
    "                                         when((dataframe_plt.resultname==\"LARGE PLATELETS (REF)\"),\"standard\").\\\n",
    "                                         when(dataframe_plt.resultname.contains(\"EXTERNAL\"),\"standard\").\\\n",
    "                                         when(lower(dataframe_plt.unit).contains(\"k/ul\"),\"standard\").\\\n",
    "                                         when(lower(dataframe_plt.unit).contains(\"thous/mcl\"),\"standard\").\\\n",
    "                                         when(lower(dataframe_plt.unit).contains(\"thousand/mcl\"),\"standard\").\\\n",
    "                                         when(lower(dataframe_plt.unit).contains(\"/ul\"),\"standard\").\\\n",
    "                                         otherwise(col(\"unit\")))\n",
    "\n",
    "dataframe_plt = dataframe_plt.withColumn('resultname_cleaned', \n",
    "                                         when(dataframe_plt.unit_cleaned.contains(\"standard\"),\"plt_cleaned\").\\\n",
    "                                         otherwise(col(\"resultname\")))\n",
    "\n",
    "plt_df = dataframe_plt.filter(dataframe_plt.resultname_cleaned ==\"plt_cleaned\")\n",
    "\n",
    "count = plt_df.groupBy([\"unit\"]).count()\n",
    "final_plt = plt_df.join(count,\"unit\")\n",
    "final_plt = final_plt.filter(col(\"count\")>5)\n",
    "\n",
    "\n",
    "##############\n",
    "w=Window.partitionBy(\"pat_id\",\"instance\",\"pat_enc_csn_id\").orderBy(\"observationdatetime\").rowsBetween(Window.unboundedPreceding, Window.unboundedFollowing)\n",
    "final_plt_1 = final_plt.withColumn('resultvalue_PLT', F.mean('resultvalue').over(w))\n",
    "final_plt_2 = final_plt_1.withColumn('Last_PLT', F.last('resultvalue').over(w))\n",
    "    \n",
    "columns = ['pat_id','instance','pat_enc_csn_id','resultvalue_PLT','Last_PLT']\n",
    "saved_plt = final_plt_2[columns]\n",
    "saved_plt = saved_plt.dropDuplicates(['pat_id','instance','pat_enc_csn_id'])"
   ]
  },
  {
   "cell_type": "code",
   "execution_count": 0,
   "metadata": {
    "application/vnd.databricks.v1+cell": {
     "cellMetadata": {},
     "inputWidgets": {},
     "nuid": "be9d2b13-1093-4569-8eb3-6e77b3e409ce",
     "showTitle": false,
     "title": ""
    }
   },
   "outputs": [],
   "source": [
    "%sql\n",
    "DROP TABLE rdp_phi_sandbox.sm_patt_plt_feb;"
   ]
  },
  {
   "cell_type": "code",
   "execution_count": 0,
   "metadata": {
    "application/vnd.databricks.v1+cell": {
     "cellMetadata": {},
     "inputWidgets": {},
     "nuid": "c850e201-3984-4b92-9b76-e0e5825beb1f",
     "showTitle": false,
     "title": ""
    }
   },
   "outputs": [],
   "source": [
    "table_name = 'rdp_phi_sandbox.sm_patt_plt_feb'\n",
    "saved_plt.write.saveAsTable(table_name)"
   ]
  },
  {
   "cell_type": "code",
   "execution_count": 0,
   "metadata": {
    "application/vnd.databricks.v1+cell": {
     "cellMetadata": {},
     "inputWidgets": {},
     "nuid": "c55a493c-1b0a-4ae4-a50b-4fb954f41569",
     "showTitle": true,
     "title": "BUN - Null units are included"
    }
   },
   "outputs": [],
   "source": [
    "dataframe_bun = initial.where((lower(col(\"resultname\")).contains(\"blood urea nitrogen\"))| (lower(col(\"resultname\")).contains(\"bun\")) | (lower(col(\"resultname\")).contains(\"urea nitrogen\")))\n",
    "\n",
    "###Change Nulls to the defined unit\n",
    "dataframe_bun = dataframe_bun.na.fill(\"missing\",[\"unit\"])\n",
    "#dataframe_bun = dataframe_bun.where(dataframe_bun.unit.isNotNull())\n",
    "dataframe_bun = dataframe_bun.where(~(lower(col(\"unit\")).contains(\"ratio\")))\n",
    "dataframe_bun = dataframe_bun.where(~(lower(col(\"unit\")).contains(\"(calc)\")))\n",
    "dataframe_bun = dataframe_bun.where(~(lower(col(\"resultname\")).contains(\"ratio\")))\n",
    "dataframe_bun = dataframe_bun.where(~(lower(col(\"resultname\")).contains(\"urine\")))\n",
    "dataframe_bun = dataframe_bun.where(~(lower(col(\"resultname\")).contains(\"bun/creatinine\")))\n",
    "dataframe_bun = dataframe_bun.where(~(col(\"resultname\").contains(\"SUBUNIT\")))\n",
    "dataframe_bun = dataframe_bun.where(~(col(\"resultname\").contains(\"BUN, POST DIALYSIS\")))\n",
    "\n",
    "dataframe_bun = dataframe_bun.withColumn('unit_cleaned', \n",
    "                                         when((dataframe_bun.unit==\"missing\"),\"standard\").\\\n",
    "                                         when(lower(dataframe_bun.unit).contains(\"mg/dl\"),\"standard\").\\\n",
    "                                         when((dataframe_bun.unit==\"milligrams per deciliter\"),\"standard\").\\\n",
    "                                         otherwise(col(\"unit\")))\n",
    "\n",
    "dataframe_bun = dataframe_bun.withColumn('resultname_cleaned', \n",
    "                                         when(dataframe_bun.unit_cleaned.contains(\"standard\"),\"bun_cleaned\").\\\n",
    "                                         otherwise(col(\"resultname\")))\n",
    "\n",
    "bun_df = dataframe_bun.filter(dataframe_bun.resultname_cleaned ==\"bun_cleaned\")\n",
    "\n",
    "count = bun_df.groupBy([\"unit\"]).count()\n",
    "final_bun = bun_df.join(count,\"unit\")\n",
    "final_bun = final_bun.filter(col(\"count\")>5)\n",
    "\n",
    "##############\n",
    "w=Window.partitionBy(\"pat_id\",\"instance\",\"pat_enc_csn_id\").orderBy(\"observationdatetime\").rowsBetween(Window.unboundedPreceding, Window.unboundedFollowing)\n",
    "final_bun_1 = final_bun.withColumn('resultvalue_BUN', F.mean('resultvalue').over(w))\n",
    "final_bun_2 = final_bun_1.withColumn('Last_BUN', F.last('resultvalue').over(w))\n",
    "    \n",
    "columns = ['pat_id','instance','pat_enc_csn_id','resultvalue_BUN','Last_BUN']\n",
    "saved_bun = final_bun_2[columns]\n",
    "saved_bun = saved_bun.dropDuplicates(['pat_id','instance','pat_enc_csn_id'])"
   ]
  },
  {
   "cell_type": "code",
   "execution_count": 0,
   "metadata": {
    "application/vnd.databricks.v1+cell": {
     "cellMetadata": {},
     "inputWidgets": {},
     "nuid": "790c80ab-fc04-49c4-852e-d286a0ad0d6e",
     "showTitle": false,
     "title": ""
    }
   },
   "outputs": [],
   "source": [
    "%sql\n",
    "DROP TABLE rdp_phi_sandbox.sm_patt_bun_feb;"
   ]
  },
  {
   "cell_type": "code",
   "execution_count": 0,
   "metadata": {
    "application/vnd.databricks.v1+cell": {
     "cellMetadata": {},
     "inputWidgets": {},
     "nuid": "8e78257e-7d57-4d0b-a624-418b3e73764d",
     "showTitle": false,
     "title": ""
    }
   },
   "outputs": [],
   "source": [
    "table_name = 'rdp_phi_sandbox.sm_patt_bun_feb'\n",
    "saved_bun.write.saveAsTable(table_name)"
   ]
  },
  {
   "cell_type": "code",
   "execution_count": 0,
   "metadata": {
    "application/vnd.databricks.v1+cell": {
     "cellMetadata": {},
     "inputWidgets": {},
     "nuid": "c12b5eeb-d45e-4387-a6ac-b4b7b19c3ee3",
     "showTitle": true,
     "title": "Chloride - Null units are include"
    }
   },
   "outputs": [],
   "source": [
    "dataframe_CI = initial.where((lower(col(\"resultname\")).contains(\"chloride\")) | (lower(col(\"resultname\")).contains('(?:\\s|^)ci(?:\\s|$)')))\n",
    "\n",
    "###Change Nulls to the defined unit\n",
    "dataframe_CI = dataframe_CI.na.fill(\"missing\",[\"unit\"])\n",
    "#dataframe_CI = dataframe_CI.where(dataframe_CI.unit.isNotNull())\n",
    "dataframe_CI = dataframe_CI.where(~(lower(col(\"unit\")).contains(\"ratio\")))\n",
    "dataframe_CI = dataframe_CI.where(~(lower(col(\"resultname\")).contains(\"ratio\")))\n",
    "dataframe_CI = dataframe_CI.where(~(lower(col(\"resultname\")).contains(\"urine\")))\n",
    "\n",
    "dataframe_CI = dataframe_CI.withColumn('unit_cleaned', \n",
    "                                       when((dataframe_CI.unit==\"missing\"),\"standard\").\\\n",
    "                                       when(lower(dataframe_CI.unit).contains(\"mmol/l\"),\"standard\").\\\n",
    "                                       when(lower(dataframe_CI.unit).contains(\"mmoi/l\"),\"standard\").\\\n",
    "                                       when(lower(dataframe_CI.unit).contains(\"mm\\l\"),\"standard\").\\\n",
    "                                       when(lower(dataframe_CI.unit).contains(\"meq/l\"),\"standard\").\\\n",
    "                                       when(lower(dataframe_CI.unit).contains(\"nmol/l\"),\"standard\").\\\n",
    "                                       when(lower(dataframe_CI.unit).contains(\"mm/l\"),\"standard\").\\\n",
    "                                       when(dataframe_CI.unit == \"mmol per liter\",\"standard\").\\\n",
    "                                       otherwise(col(\"unit\")))\n",
    "\n",
    "dataframe_CI = dataframe_CI.withColumn('resultname_cleaned', \n",
    "                                       when(dataframe_CI.unit_cleaned.contains(\"standard\"),\"CI_cleaned\").\\\n",
    "                                       otherwise(col(\"resultname\")))\n",
    "\n",
    "CI_df = dataframe_CI.filter(dataframe_CI.resultname_cleaned ==\"CI_cleaned\")\n",
    "\n",
    "count = CI_df.groupBy([\"unit\"]).count()\n",
    "final_CI = CI_df.join(count,\"unit\")\n",
    "final_CI = final_CI.filter(col(\"count\")>1)\n",
    "\n",
    "##############\n",
    "w=Window.partitionBy(\"pat_id\",\"instance\",\"pat_enc_csn_id\").orderBy(\"observationdatetime\").rowsBetween(Window.unboundedPreceding, Window.unboundedFollowing)\n",
    "final_CI_1 = final_CI.withColumn('resultvalue_CI', F.mean('resultvalue').over(w))\n",
    "final_CI_2 = final_CI_1.withColumn('Last_CI', F.last('resultvalue').over(w))\n",
    "    \n",
    "columns = ['pat_id','instance','pat_enc_csn_id','resultvalue_CI','Last_CI']\n",
    "saved_CI = final_CI_2[columns]\n",
    "saved_CI = saved_CI.dropDuplicates(['pat_id','instance','pat_enc_csn_id'])"
   ]
  },
  {
   "cell_type": "code",
   "execution_count": 0,
   "metadata": {
    "application/vnd.databricks.v1+cell": {
     "cellMetadata": {},
     "inputWidgets": {},
     "nuid": "d65b8d80-57f5-45c5-b3f6-986f09f3cf5f",
     "showTitle": false,
     "title": ""
    }
   },
   "outputs": [],
   "source": [
    "%sql\n",
    "DROP TABLE rdp_phi_sandbox.sm_patt_clt_feb;"
   ]
  },
  {
   "cell_type": "code",
   "execution_count": 0,
   "metadata": {
    "application/vnd.databricks.v1+cell": {
     "cellMetadata": {},
     "inputWidgets": {},
     "nuid": "8d030e94-6672-4dd4-a636-2b592e5de41d",
     "showTitle": false,
     "title": ""
    }
   },
   "outputs": [],
   "source": [
    "table_name = 'rdp_phi_sandbox.sm_patt_clt_feb'\n",
    "saved_CI.write.saveAsTable(table_name)"
   ]
  },
  {
   "cell_type": "code",
   "execution_count": 0,
   "metadata": {
    "application/vnd.databricks.v1+cell": {
     "cellMetadata": {},
     "inputWidgets": {},
     "nuid": "cfffbb72-77f8-46d5-95f3-054139795ada",
     "showTitle": true,
     "title": "HCO3 - Null units are include"
    }
   },
   "outputs": [],
   "source": [
    "dataframe_HCO3 = initial.where((lower(col(\"resultname\")).contains(\"bicarbonate\")) | (lower(col(\"resultname\")).contains(\"hco3\")) | (lower(col(\"resultname\")).contains(\"co2\")) | (lower(col(\"resultname\")).contains(\"carbon dioxide\")))\n",
    "\n",
    "###Change Nulls to the defined unit\n",
    "dataframe_HCO3 = dataframe_HCO3.na.fill(\"missing\",[\"unit\"])\n",
    "###Remove Nulls\n",
    "#dataframe_HCO3 = dataframe_HCO3.where(dataframe_HCO3.unit.isNotNull())\n",
    "\n",
    "dataframe_HCO3 = dataframe_HCO3.where(~(lower(col(\"unit\")).contains(\"ratio\")))\n",
    "dataframe_HCO3 = dataframe_HCO3.where(~(lower(col(\"resultname\")).contains(\"ratio\")))\n",
    "dataframe_HCO3 = dataframe_HCO3.where(~(lower(col(\"resultname\")).contains(\"urine\")))\n",
    "dataframe_HCO3 = dataframe_HCO3.where(~(lower(col(\"resultname\")).contains(\"venous\")))\n",
    "dataframe_HCO3 = dataframe_HCO3.where(~(lower(col(\"resultname\")).contains(\"ven\")))\n",
    "dataframe_HCO3 = dataframe_HCO3.where(~(lower(col(\"resultname\")).contains(\"pco2\")))\n",
    "dataframe_HCO3 = dataframe_HCO3.where(~(lower(col(\"resultname\")).contains(\"end tidal\")))\n",
    "\n",
    "dataframe_HCO3 = dataframe_HCO3.withColumn('unit_cleaned',\n",
    "                                           when((dataframe_HCO3.unit==\"missing\"),\"standard\").\\\n",
    "                                           when(lower(dataframe_HCO3.unit).contains(\"mmol/l\"),\"standard\").\\\n",
    "                                           when(lower(dataframe_HCO3.unit).contains(\"mmoi/l\"),\"standard\").\\\n",
    "                                           when(lower(dataframe_HCO3.unit).contains(\"mm\\l\"),\"standard\").\\\n",
    "                                           when(lower(dataframe_HCO3.unit).contains(\"meq/l\"),\"standard\").\\\n",
    "                                           when(lower(dataframe_HCO3.unit).contains(\"nmol/l\"),\"standard\").\\\n",
    "                                           when(dataframe_HCO3.unit == \"mmol per liter\",\"standard\").\\\n",
    "                                           otherwise(col(\"unit\")))\n",
    "\n",
    "dataframe_HCO3 = dataframe_HCO3.withColumn('resultname_cleaned', \n",
    "                                       when(dataframe_HCO3.unit_cleaned.contains(\"standard\"),\"HCO3_cleaned\").\\\n",
    "                                       otherwise(col(\"resultname\")))\n",
    "\n",
    "HCO3_df = dataframe_HCO3.filter(dataframe_HCO3.resultname_cleaned ==\"HCO3_cleaned\")\n",
    "\n",
    "count = HCO3_df.groupBy([\"unit\"]).count()\n",
    "final_HCO3 = HCO3_df.join(count,\"unit\")\n",
    "final_HCO3 = final_HCO3.filter(col(\"count\")>5)\n",
    "\n",
    "##############\n",
    "w=Window.partitionBy(\"pat_id\",\"instance\",\"pat_enc_csn_id\").orderBy(\"observationdatetime\").rowsBetween(Window.unboundedPreceding, Window.unboundedFollowing)\n",
    "final_HCO3_1 = final_HCO3.withColumn('resultvalue_HCO3', F.mean('resultvalue').over(w))\n",
    "final_HCO3_2 = final_HCO3_1.withColumn('Last_HCO3', F.last('resultvalue').over(w))\n",
    "    \n",
    "columns = ['pat_id','instance','pat_enc_csn_id','resultvalue_HCO3','Last_HCO3']\n",
    "saved_HCO3 = final_HCO3_2[columns]\n",
    "saved_HCO3 = saved_HCO3.dropDuplicates(['pat_id','instance','pat_enc_csn_id'])"
   ]
  },
  {
   "cell_type": "code",
   "execution_count": 0,
   "metadata": {
    "application/vnd.databricks.v1+cell": {
     "cellMetadata": {},
     "inputWidgets": {},
     "nuid": "ca03e937-9330-42d6-8ce9-11fa8427b162",
     "showTitle": false,
     "title": ""
    }
   },
   "outputs": [],
   "source": [
    "%sql\n",
    "DROP TABLE rdp_phi_sandbox.sm_patt_HCO3_feb;"
   ]
  },
  {
   "cell_type": "code",
   "execution_count": 0,
   "metadata": {
    "application/vnd.databricks.v1+cell": {
     "cellMetadata": {},
     "inputWidgets": {},
     "nuid": "3990f66f-9c24-42f0-a21b-1ca5018d46e7",
     "showTitle": false,
     "title": ""
    }
   },
   "outputs": [],
   "source": [
    "table_name = 'rdp_phi_sandbox.sm_patt_HCO3_feb'\n",
    "saved_HCO3.write.saveAsTable(table_name)"
   ]
  },
  {
   "cell_type": "code",
   "execution_count": 0,
   "metadata": {
    "application/vnd.databricks.v1+cell": {
     "cellMetadata": {},
     "inputWidgets": {},
     "nuid": "94f7b9cf-82cf-4cec-b9e6-32681f435df6",
     "showTitle": true,
     "title": "RBC - M/ul - Nulls are included - no need for conversion"
    }
   },
   "outputs": [],
   "source": [
    "dataframe_rbc = initial.where((lower(col(\"resultname\")).contains(\"rbc\")) | (lower(col(\"resultname\")).contains(\"red blood cell\")))\n",
    "\n",
    "###Change Nulls to the defined unit\n",
    "dataframe_rbc = dataframe_rbc.na.fill(\"missing\",[\"unit\"])\n",
    "\n",
    "dataframe_rbc = dataframe_rbc.where(dataframe_rbc.unit != \"%\")\n",
    "dataframe_rbc = dataframe_rbc.where(~(lower(col(\"unit\")).contains(\"cell\"))) #for now??\n",
    "dataframe_rbc = dataframe_rbc.where(~(lower(col(\"resultname\")).contains(\"cell\"))) #for now??\n",
    "dataframe_rbc = dataframe_rbc.where(~(lower(col(\"resultname\")).contains(\"urine\")))\n",
    "dataframe_rbc = dataframe_rbc.where(~(lower(col(\"resultname\")).contains(\"ua\"))) ###Removed UA which standas for Urine \n",
    "dataframe_rbc = dataframe_rbc.where(~(lower(col(\"resultname\")).contains(\"fluid\"))) ##Removed WBC BODY FLUID\n",
    "dataframe_rbc = dataframe_rbc.where(~(lower(col(\"resultname\")).contains(\"stool\"))) ##Removed WBC Stool\n",
    "dataframe_rbc = dataframe_rbc.where(~(lower(col(\"resultname\")).contains(\"%\")))\n",
    "dataframe_rbc = dataframe_rbc.where(~(lower(col(\"resultname\")).contains(\"nrbc\")))\n",
    "dataframe_rbc = dataframe_rbc.where(~(lower(col(\"resultname\")).contains(\"comment\")))\n",
    "dataframe_rbc = dataframe_rbc.where(~(lower(col(\"resultname\")).contains(\"fragments\")))\n",
    "dataframe_rbc = dataframe_rbc.where(~(lower(col(\"resultname\")).contains(\"error\")))\n",
    "dataframe_rbc = dataframe_rbc.where(~(col(\"resultname\").contains(\"AGGLUTINATION\")))\n",
    "dataframe_rbc = dataframe_rbc.where(~(col(\"resultname\").contains(\"RBC INCLUSION BODIES\")))\n",
    "dataframe_rbc = dataframe_rbc.where(~(col(\"resultname\").contains(\"MORPHOLOGY\")))\n",
    "\n",
    "dataframe_rbc = dataframe_rbc.withColumn('unit_cleaned',\n",
    "                                         when(lower(dataframe_rbc.unit).contains(\"missing\"),\"standard\").\\\n",
    "                                         when((dataframe_rbc.unit==\"ul\"),\"standard\").\\\n",
    "                                         when(lower(dataframe_rbc.unit).contains(\"10e6/ul\"),\"standard\").\\\n",
    "                                         when(lower(dataframe_rbc.unit).contains(\"10^12/l\"),\"standard\").\\\n",
    "                                         when(lower(dataframe_rbc.unit).contains(\"million/ul\"),\"standard\").\\\n",
    "                                         when(lower(dataframe_rbc.unit).contains(\"m/ul\"),\"standard\").\\\n",
    "                                         when(lower(dataframe_rbc.unit).contains(\"mil/mm3\"),\"standard\").\\\n",
    "                                         when(lower(dataframe_rbc.unit).contains(\"ul\"),\"standard\").\\\n",
    "                                         when(lower(dataframe_rbc.unit).contains(\"m/mm^3\"),\"standard\").\\\n",
    "                                         when(lower(dataframe_rbc.unit).contains(\"m/cmm\"),\"standard\").\\\n",
    "                                         otherwise(col(\"unit\")))\n",
    "\n",
    "dataframe_rbc = dataframe_rbc.withColumn('resultname_cleaned', \n",
    "                                         when(dataframe_rbc.unit_cleaned.contains(\"standard\"),\"rbc_cleaned\").\\\n",
    "                                         otherwise(col(\"resultname\")))\n",
    "\n",
    "\n",
    "RBC_df = dataframe_rbc.filter(dataframe_rbc.resultname_cleaned ==\"rbc_cleaned\")\n",
    "\n",
    "count = RBC_df.groupBy([\"unit\"]).count()\n",
    "final_RBC = RBC_df.join(count,\"unit\")\n",
    "final_RBC = final_RBC.filter(col(\"count\")>5)\n",
    "\n",
    "##############\n",
    "w=Window.partitionBy(\"pat_id\",\"instance\",\"pat_enc_csn_id\").orderBy(\"observationdatetime\").rowsBetween(Window.unboundedPreceding, Window.unboundedFollowing)\n",
    "final_RBC_1 = final_RBC.withColumn('resultvalue_RBC', F.mean('resultvalue').over(w))\n",
    "final_RBC_2 = final_RBC_1.withColumn('Last_RBC', F.last('resultvalue').over(w))\n",
    "    \n",
    "columns = ['pat_id','instance','pat_enc_csn_id','resultvalue_RBC','Last_RBC']\n",
    "saved_RBC = final_RBC_2[columns]\n",
    "saved_RBC = saved_RBC.dropDuplicates(['pat_id','instance','pat_enc_csn_id'])"
   ]
  },
  {
   "cell_type": "code",
   "execution_count": 0,
   "metadata": {
    "application/vnd.databricks.v1+cell": {
     "cellMetadata": {},
     "inputWidgets": {},
     "nuid": "22c61206-0211-41c0-a4ba-d2cb1e3ab942",
     "showTitle": false,
     "title": ""
    }
   },
   "outputs": [],
   "source": [
    "%sql\n",
    "DROP TABLE rdp_phi_sandbox.sm_patt_RBC_feb;"
   ]
  },
  {
   "cell_type": "code",
   "execution_count": 0,
   "metadata": {
    "application/vnd.databricks.v1+cell": {
     "cellMetadata": {},
     "inputWidgets": {},
     "nuid": "612d3c6d-7352-4e62-85fe-4ba61315dea8",
     "showTitle": false,
     "title": ""
    }
   },
   "outputs": [],
   "source": [
    "table_name = 'rdp_phi_sandbox.sm_patt_RBC_feb'\n",
    "saved_RBC.write.saveAsTable(table_name)"
   ]
  },
  {
   "cell_type": "code",
   "execution_count": 0,
   "metadata": {
    "application/vnd.databricks.v1+cell": {
     "cellMetadata": {},
     "inputWidgets": {},
     "nuid": "571a76a4-6c7f-468e-938b-61e6c2c82ba4",
     "showTitle": true,
     "title": "Basophils - Nulls are not included "
    }
   },
   "outputs": [],
   "source": [
    "dataframe_baso = initial.where(lower(col(\"resultname\")).contains(\"basophil\"))\n",
    "\n",
    "dataframe_baso = dataframe_baso.where(dataframe_baso.unit.isNotNull())\n",
    "\n",
    "dataframe_baso = dataframe_baso.where(dataframe_baso.unit != \"%\")\n",
    "dataframe_baso = dataframe_baso.where(~(lower(col(\"unit\")).contains(\"cell\"))) #for now??\n",
    "dataframe_baso = dataframe_baso.where(~(lower(col(\"resultname\")).contains(\"cell\"))) #for now??\n",
    "dataframe_baso = dataframe_baso.where(~(lower(col(\"resultname\")).contains(\"urine\")))\n",
    "dataframe_baso = dataframe_baso.where(~(lower(col(\"resultname\")).contains(\"ua\"))) ###Removed UA which standas for Urine \n",
    "dataframe_baso = dataframe_baso.where(~(lower(col(\"resultname\")).contains(\"fluid\"))) ##Removed WBC BODY FLUID\n",
    "dataframe_baso = dataframe_baso.where(~(lower(col(\"resultname\")).contains(\"stool\"))) ##Removed WBC Stool\n",
    "dataframe_baso = dataframe_baso.where(~(lower(col(\"resultname\")).contains(\"%\")))\n",
    "\n",
    "dataframe_baso = dataframe_baso.withColumn('unit_cleaned',\n",
    "                                         when((dataframe_baso.unit==\"ul\"),\"standard\").\\\n",
    "                                         when(lower(dataframe_baso.unit).contains(\"k/ul\"),\"standard\").\\\n",
    "                                         when(lower(dataframe_baso.unit).contains(\"10^9/l\"),\"standard\").\\\n",
    "                                         when(lower(dataframe_baso.unit).contains(\"mcl\"),\"standard\").\\\n",
    "                                         when(lower(dataframe_baso.unit).contains(\"mm3\"),\"standard\").\\\n",
    "                                         when(lower(dataframe_baso.unit).contains(\"cumm\"),\"standard\").\\\n",
    "                                         when(lower(dataframe_baso.unit).contains(\"cmm\"),\"standard\").\\\n",
    "                                         when(lower(dataframe_baso.unit).contains(\"10*3/ul\"),\"standard\").\\\n",
    "                                         when(lower(dataframe_baso.unit).contains(\"10e3/ul\"),\"standard\").\\\n",
    "                                         when(dataframe_baso.resultname.contains(\"(10*3/UL)\"),\"standard\").\\\n",
    "                                         when(dataframe_baso.resultname.contains(\"(K/UL)\"),\"standard\").\\\n",
    "                                         otherwise(col(\"unit\")))\n",
    "\n",
    "dataframe_baso = dataframe_baso.withColumn('resultname_cleaned', \n",
    "                                         when(dataframe_baso.unit_cleaned.contains(\"standard\"),\"baso_cleaned\").\\\n",
    "                                         otherwise(col(\"resultname\")))\n",
    "\n",
    "\n",
    "Baso_df = dataframe_baso.filter(dataframe_baso.resultname_cleaned ==\"baso_cleaned\")\n",
    "\n",
    "count = Baso_df.groupBy([\"unit\"]).count()\n",
    "final_Baso = Baso_df.join(count,\"unit\")\n",
    "final_Baso = final_Baso.filter(col(\"count\")>5)\n",
    "\n",
    "##############\n",
    "w=Window.partitionBy(\"pat_id\",\"instance\",\"pat_enc_csn_id\").orderBy(\"observationdatetime\").rowsBetween(Window.unboundedPreceding, Window.unboundedFollowing)\n",
    "final_Baso_1 = final_Baso.withColumn('resultvalue_Baso', F.mean('resultvalue').over(w))\n",
    "final_Baso_2 = final_Baso_1.withColumn('Last_Baso', F.last('resultvalue').over(w))\n",
    "    \n",
    "columns = ['pat_id','instance','pat_enc_csn_id','resultvalue_Baso','Last_Baso']\n",
    "saved_Baso = final_Baso_2[columns]\n",
    "saved_Baso = saved_Baso.dropDuplicates(['pat_id','instance','pat_enc_csn_id'])"
   ]
  },
  {
   "cell_type": "code",
   "execution_count": 0,
   "metadata": {
    "application/vnd.databricks.v1+cell": {
     "cellMetadata": {},
     "inputWidgets": {},
     "nuid": "6cde930b-4242-49b0-ba87-8a934459e1af",
     "showTitle": false,
     "title": ""
    }
   },
   "outputs": [],
   "source": [
    "%sql\n",
    "DROP TABLE rdp_phi_sandbox.sm_patt_Basophil_feb;"
   ]
  },
  {
   "cell_type": "code",
   "execution_count": 0,
   "metadata": {
    "application/vnd.databricks.v1+cell": {
     "cellMetadata": {},
     "inputWidgets": {},
     "nuid": "f0269502-ef45-4e6e-8bf2-4b4632848595",
     "showTitle": false,
     "title": ""
    }
   },
   "outputs": [],
   "source": [
    "table_name = 'rdp_phi_sandbox.sm_patt_Basophil_feb'\n",
    "saved_Baso.write.saveAsTable(table_name)"
   ]
  },
  {
   "cell_type": "code",
   "execution_count": 0,
   "metadata": {
    "application/vnd.databricks.v1+cell": {
     "cellMetadata": {},
     "inputWidgets": {},
     "nuid": "f956b23a-4068-4522-9e86-a4ee9f2217fe",
     "showTitle": true,
     "title": "Monocyte - Nulls are not included"
    }
   },
   "outputs": [],
   "source": [
    "dataframe_mono = initial.where(lower(col(\"resultname\")).contains(\"monocyte\"))\n",
    "\n",
    "###Change Nulls to the defined unit\n",
    "#dataframe_mono = dataframe_mono.na.fill(\"missing\",[\"unit\"])\n",
    "###Remove Nulls\n",
    "dataframe_mono = dataframe_mono.where(dataframe_mono.unit.isNotNull())\n",
    "\n",
    "dataframe_mono = dataframe_mono.where(dataframe_mono.unit != \"%\")\n",
    "dataframe_mono = dataframe_mono.where(~(lower(col(\"unit\")).contains(\"cell\"))) #for now??\n",
    "dataframe_mono = dataframe_mono.where(~(lower(col(\"resultname\")).contains(\"cell\"))) #for now??\n",
    "dataframe_mono = dataframe_mono.where(~(lower(col(\"resultname\")).contains(\"urine\")))\n",
    "dataframe_mono = dataframe_mono.where(~(lower(col(\"resultname\")).contains(\"ua\"))) ###Removed UA which standas for Urine \n",
    "dataframe_mono = dataframe_mono.where(~(lower(col(\"resultname\")).contains(\"fluid\"))) ##Removed WBC BODY FLUID\n",
    "dataframe_mono = dataframe_mono.where(~(lower(col(\"resultname\")).contains(\"stool\"))) ##Removed WBC Stool\n",
    "dataframe_mono = dataframe_mono.where(~(lower(col(\"resultname\")).contains(\"%\")))\n",
    "\n",
    "dataframe_mono = dataframe_mono.withColumn('unit_cleaned',\n",
    "                                         when((dataframe_mono.unit==\"ul\"),\"standard\").\\\n",
    "                                         when(lower(dataframe_mono.unit).contains(\"k/ul\"),\"standard\").\\\n",
    "                                         when(lower(dataframe_mono.unit).contains(\"10^9/l\"),\"standard\").\\\n",
    "                                         when(lower(dataframe_mono.unit).contains(\"mcl\"),\"standard\").\\\n",
    "                                         when(lower(dataframe_mono.unit).contains(\"mm3\"),\"standard\").\\\n",
    "                                         when(lower(dataframe_mono.unit).contains(\"cumm\"),\"standard\").\\\n",
    "                                         when(lower(dataframe_mono.unit).contains(\"cmm\"),\"standard\").\\\n",
    "                                         when(lower(dataframe_mono.unit).contains(\"10*3/ul\"),\"standard\").\\\n",
    "                                         when(lower(dataframe_mono.unit).contains(\"10e3/ul\"),\"standard\").\\\n",
    "                                         when(dataframe_mono.resultname.contains(\"(10*3/UL)\"),\"standard\").\\\n",
    "                                         when(dataframe_mono.resultname.contains(\"(K/UL)\"),\"standard\").\\\n",
    "                                         otherwise(col(\"unit\")))\n",
    "\n",
    "dataframe_mono = dataframe_mono.withColumn('resultname_cleaned', \n",
    "                                         when(dataframe_mono.unit_cleaned.contains(\"standard\"),\"mono_cleaned\").\\\n",
    "                                         otherwise(col(\"resultname\")))\n",
    "\n",
    "\n",
    "Mono_df = dataframe_mono.filter(dataframe_mono.resultname_cleaned ==\"mono_cleaned\")\n",
    "\n",
    "count = Mono_df.groupBy([\"unit\"]).count()\n",
    "final_Mono = Mono_df.join(count,\"unit\")\n",
    "final_Mono = final_Mono.filter(col(\"count\")>5)\n",
    "\n",
    "##############\n",
    "w=Window.partitionBy(\"pat_id\",\"instance\",\"pat_enc_csn_id\").orderBy(\"observationdatetime\").rowsBetween(Window.unboundedPreceding, Window.unboundedFollowing)\n",
    "final_Mono_1 = final_Mono.withColumn('resultvalue_Mono', F.mean('resultvalue').over(w))\n",
    "final_Mono_2 = final_Mono_1.withColumn('Last_Mono', F.last('resultvalue').over(w))\n",
    "    \n",
    "columns = ['pat_id','instance','pat_enc_csn_id','resultvalue_Mono','Last_Mono']\n",
    "saved_Mono = final_Mono_2[columns]\n",
    "saved_Mono = saved_Mono.dropDuplicates(['pat_id','instance','pat_enc_csn_id'])"
   ]
  },
  {
   "cell_type": "code",
   "execution_count": 0,
   "metadata": {
    "application/vnd.databricks.v1+cell": {
     "cellMetadata": {},
     "inputWidgets": {},
     "nuid": "1587e827-393b-404e-a5a5-6413a1d7112d",
     "showTitle": false,
     "title": ""
    }
   },
   "outputs": [],
   "source": [
    "%sql\n",
    "DROP TABLE rdp_phi_sandbox.sm_patt_Monocyte_feb;"
   ]
  },
  {
   "cell_type": "code",
   "execution_count": 0,
   "metadata": {
    "application/vnd.databricks.v1+cell": {
     "cellMetadata": {},
     "inputWidgets": {},
     "nuid": "85d7daee-09c8-4f49-b619-b11192a3a6d4",
     "showTitle": false,
     "title": ""
    }
   },
   "outputs": [],
   "source": [
    "table_name = 'rdp_phi_sandbox.sm_patt_Monocyte_feb'\n",
    "saved_Mono.write.saveAsTable(table_name)"
   ]
  },
  {
   "cell_type": "code",
   "execution_count": 0,
   "metadata": {
    "application/vnd.databricks.v1+cell": {
     "cellMetadata": {},
     "inputWidgets": {},
     "nuid": "538043b9-c136-4a6b-844b-0ba7433881d7",
     "showTitle": true,
     "title": "Alklaine - U/l - no need for conversion - Null units are included"
    }
   },
   "outputs": [],
   "source": [
    "dataframe_alkaline = initial.where(lower(col(\"resultname\")).contains(\"alkaline\"))\n",
    "\n",
    "###Change Nulls to the defined unit\n",
    "dataframe_alkaline = dataframe_alkaline.na.fill(\"missing\",[\"unit\"])\n",
    "\n",
    "dataframe_alkaline = dataframe_alkaline.withColumn('unit_cleaned', \n",
    "                                                   when(lower(dataframe_alkaline.unit).contains(\"missing\"),\"standard\").\\\n",
    "                                                   when(lower(dataframe_alkaline.unit).contains(\"iu/l\"),\"standard\").\\\n",
    "                                                   when(lower(dataframe_alkaline.unit).contains(\"u/l\"),\"standard\").\\\n",
    "                                                   otherwise(col(\"unit\")))\n",
    "\n",
    "dataframe_alkaline = dataframe_alkaline.withColumn('resultname_cleaned', \n",
    "                                       when(dataframe_alkaline.unit_cleaned.contains(\"standard\"),\"alkaline_cleaned\").\\\n",
    "                                       otherwise(col(\"resultname\")))\n",
    "\n",
    "Alkaline_df = dataframe_alkaline.filter(dataframe_alkaline.resultname_cleaned ==\"alkaline_cleaned\")\n",
    "\n",
    "count = Alkaline_df.groupBy([\"unit\"]).count()\n",
    "final_Alkaline = Alkaline_df.join(count,\"unit\")\n",
    "\n",
    "\n",
    "##############\n",
    "w=Window.partitionBy(\"pat_id\",\"instance\",\"pat_enc_csn_id\").orderBy(\"observationdatetime\").rowsBetween(Window.unboundedPreceding, Window.unboundedFollowing)\n",
    "final_Alkaline_1 = final_Alkaline.withColumn('resultvalue_Alkaline', F.mean('resultvalue').over(w))\n",
    "final_Alkaline_2 = final_Alkaline_1.withColumn('Last_Alkaline', F.last('resultvalue').over(w))\n",
    "    \n",
    "columns = ['pat_id','instance','pat_enc_csn_id','resultvalue_Alkaline','Last_Alkaline']\n",
    "saved_Alkaline = final_Alkaline_2[columns]\n",
    "saved_Alkaline = saved_Alkaline.dropDuplicates(['pat_id','instance','pat_enc_csn_id'])"
   ]
  },
  {
   "cell_type": "code",
   "execution_count": 0,
   "metadata": {
    "application/vnd.databricks.v1+cell": {
     "cellMetadata": {},
     "inputWidgets": {},
     "nuid": "f40f862f-c823-4e40-91d6-f90d7dae251a",
     "showTitle": false,
     "title": ""
    }
   },
   "outputs": [],
   "source": [
    "%sql\n",
    "DROP TABLE rdp_phi_sandbox.sm_patt_Alk_feb;"
   ]
  },
  {
   "cell_type": "code",
   "execution_count": 0,
   "metadata": {
    "application/vnd.databricks.v1+cell": {
     "cellMetadata": {},
     "inputWidgets": {},
     "nuid": "12642d19-d5df-4c51-82a2-f788ead29b0f",
     "showTitle": false,
     "title": ""
    }
   },
   "outputs": [],
   "source": [
    "table_name = 'rdp_phi_sandbox.sm_patt_Alk_feb'\n",
    "saved_Alkaline.write.saveAsTable(table_name)"
   ]
  },
  {
   "cell_type": "code",
   "execution_count": 0,
   "metadata": {
    "application/vnd.databricks.v1+cell": {
     "cellMetadata": {},
     "inputWidgets": {},
     "nuid": "13921f0d-7cc8-4d11-8e8f-fca0ececc117",
     "showTitle": true,
     "title": "Anion Gap - mmol/l - no need for conversion - Null units are included"
    }
   },
   "outputs": [],
   "source": [
    "dataframe_anion = initial.where(lower(col(\"resultname\")).contains(\"anion gap\"))\n",
    "\n",
    "###Change Nulls to the defined unit\n",
    "dataframe_anion = dataframe_anion.na.fill(\"missing\",[\"unit\"])\n",
    "\n",
    "dataframe_anion = dataframe_anion.withColumn('unit_cleaned', \n",
    "                                                   when(lower(dataframe_anion.unit).contains(\"missing\"),\"standard\").\\\n",
    "                                                   when(lower(dataframe_anion.unit).contains(\"mmol/l\"),\"standard\").\\\n",
    "                                                   when(lower(dataframe_anion.unit).contains(\"meq/l\"),\"standard\").\\\n",
    "                                                   otherwise(col(\"unit\")))\n",
    "\n",
    "dataframe_anion = dataframe_anion.withColumn('resultname_cleaned', \n",
    "                                       when(dataframe_anion.unit_cleaned.contains(\"standard\"),\"anion_cleaned\").\\\n",
    "                                       otherwise(col(\"resultname\")))\n",
    "\n",
    "Anion_df = dataframe_anion.filter(dataframe_anion.resultname_cleaned ==\"anion_cleaned\")\n",
    "\n",
    "count = Anion_df.groupBy([\"unit\"]).count()\n",
    "final_Anion = Anion_df.join(count,\"unit\")\n",
    "\n",
    "##############\n",
    "w=Window.partitionBy(\"pat_id\",\"instance\",\"pat_enc_csn_id\").orderBy(\"observationdatetime\").rowsBetween(Window.unboundedPreceding, Window.unboundedFollowing)\n",
    "final_Anion_1 = final_Anion.withColumn('resultvalue_Anion', F.mean('resultvalue').over(w))\n",
    "final_Anion_2 = final_Anion_1.withColumn('Last_Anion', F.last('resultvalue').over(w))\n",
    "    \n",
    "columns = ['pat_id','instance','pat_enc_csn_id','resultvalue_Anion','Last_Anion']\n",
    "saved_Anion = final_Anion_2[columns]\n",
    "saved_Anion = saved_Anion.dropDuplicates(['pat_id','instance','pat_enc_csn_id'])"
   ]
  },
  {
   "cell_type": "code",
   "execution_count": 0,
   "metadata": {
    "application/vnd.databricks.v1+cell": {
     "cellMetadata": {},
     "inputWidgets": {},
     "nuid": "f34a6515-0f88-4094-97ec-00e3214227ed",
     "showTitle": false,
     "title": ""
    }
   },
   "outputs": [],
   "source": [
    "%sql\n",
    "DROP TABLE rdp_phi_sandbox.sm_patt_Anion_feb;"
   ]
  },
  {
   "cell_type": "code",
   "execution_count": 0,
   "metadata": {
    "application/vnd.databricks.v1+cell": {
     "cellMetadata": {},
     "inputWidgets": {},
     "nuid": "027e4bfc-b956-4621-9948-e731ea1cda4e",
     "showTitle": false,
     "title": ""
    }
   },
   "outputs": [],
   "source": [
    "table_name = 'rdp_phi_sandbox.sm_patt_Anion_feb'\n",
    "saved_Anion.write.saveAsTable(table_name)"
   ]
  },
  {
   "cell_type": "code",
   "execution_count": 0,
   "metadata": {
    "application/vnd.databricks.v1+cell": {
     "cellMetadata": {},
     "inputWidgets": {},
     "nuid": "428de0e3-2162-499e-bc93-dbe1392e68c2",
     "showTitle": true,
     "title": "Bilirubin - mg/dl - no need for conversion - Null units are included"
    }
   },
   "outputs": [],
   "source": [
    "dataframe_bilirubin = initial.where(lower(col(\"resultname\")).contains(\"total\"))\n",
    "dataframe_bilirubin = dataframe_bilirubin.where(lower(col(\"resultname\")).contains(\"bilirubin\"))\n",
    "\n",
    "###Change Nulls to the defined unit\n",
    "dataframe_bilirubin = dataframe_bilirubin.na.fill(\"missing\",[\"unit\"])\n",
    "\n",
    "dataframe_bilirubin = dataframe_bilirubin.withColumn('unit_cleaned', \n",
    "                                                   when(lower(dataframe_bilirubin.unit).contains(\"missing\"),\"standard\").\\\n",
    "                                                   when(lower(dataframe_bilirubin.unit).contains(\"mg/dl\"),\"standard\").\\\n",
    "                                                   otherwise(col(\"unit\")))\n",
    "\n",
    "dataframe_bilirubin = dataframe_bilirubin.withColumn('resultname_cleaned', \n",
    "                                       when(dataframe_bilirubin.unit_cleaned.contains(\"standard\"),\"bilirubin_cleaned\").\\\n",
    "                                       otherwise(col(\"resultname\")))\n",
    "\n",
    "Bilirubin_df = dataframe_bilirubin.filter(dataframe_bilirubin.resultname_cleaned ==\"bilirubin_cleaned\")\n",
    "\n",
    "count = Bilirubin_df.groupBy([\"unit\"]).count()\n",
    "final_Bilirubin = Bilirubin_df.join(count,\"unit\")\n",
    "\n",
    "\n",
    "##############\n",
    "w=Window.partitionBy(\"pat_id\",\"instance\",\"pat_enc_csn_id\").orderBy(\"observationdatetime\").rowsBetween(Window.unboundedPreceding, Window.unboundedFollowing)\n",
    "final_Bilirubin_1 = final_Bilirubin.withColumn('resultvalue_Bilirubin', F.mean('resultvalue').over(w))\n",
    "final_Bilirubin_2 = final_Bilirubin_1.withColumn('Last_Bilirubin', F.last('resultvalue').over(w))\n",
    "    \n",
    "columns = ['pat_id','instance','pat_enc_csn_id','resultvalue_Bilirubin','Last_Bilirubin']\n",
    "saved_Bilirubin = final_Bilirubin_2[columns]\n",
    "saved_Bilirubin = saved_Bilirubin.dropDuplicates(['pat_id','instance','pat_enc_csn_id'])"
   ]
  },
  {
   "cell_type": "code",
   "execution_count": 0,
   "metadata": {
    "application/vnd.databricks.v1+cell": {
     "cellMetadata": {},
     "inputWidgets": {},
     "nuid": "83a64a28-fe75-4e9d-a5a7-81d9ac302873",
     "showTitle": false,
     "title": ""
    }
   },
   "outputs": [],
   "source": [
    "%sql\n",
    "DROP TABLE rdp_phi_sandbox.sm_patt_Bilirubin_feb;"
   ]
  },
  {
   "cell_type": "code",
   "execution_count": 0,
   "metadata": {
    "application/vnd.databricks.v1+cell": {
     "cellMetadata": {},
     "inputWidgets": {},
     "nuid": "b8a87ac4-355b-4cb6-9632-dc6aa5ce3084",
     "showTitle": false,
     "title": ""
    }
   },
   "outputs": [],
   "source": [
    "table_name = 'rdp_phi_sandbox.sm_patt_Bilirubin_feb'\n",
    "saved_Bilirubin.write.saveAsTable(table_name)"
   ]
  },
  {
   "cell_type": "code",
   "execution_count": 0,
   "metadata": {
    "application/vnd.databricks.v1+cell": {
     "cellMetadata": {},
     "inputWidgets": {},
     "nuid": "e080ec82-a96f-4b4d-8cf0-cbb59a09923b",
     "showTitle": true,
     "title": "Globulin - Nulls are not included - convert mg/dl to g/dl"
    }
   },
   "outputs": [],
   "source": [
    "dataframe_globulin = initial.where(lower(col(\"resultname\")).contains(\"globulin\"))\n",
    "\n",
    "###Change Nulls to the defined unit\n",
    "dataframe_globulin = dataframe_globulin.na.fill(\"missing\",[\"unit\"])\n",
    "###Remove Nulls\n",
    "dataframe_globulin = dataframe_globulin.where(dataframe_globulin.unit.isNotNull())\n",
    "dataframe_globulin = dataframe_globulin.where(~(lower(col(\"unit\")).contains(\"ratio\")))\n",
    "dataframe_globulin = dataframe_globulin.where(~(lower(col(\"unit\")).contains(\"calc\")))\n",
    "dataframe_globulin = dataframe_globulin.where(~(lower(col(\"resultname\")).contains(\"albumin\")))\n",
    "dataframe_globulin = dataframe_globulin.where(~(lower(col(\"resultname\")).contains(\"urine\")))\n",
    "dataframe_globulin = dataframe_globulin.where(~(lower(col(\"resultname\")).contains(\"ua\")))\n",
    "dataframe_globulin = dataframe_globulin.where(~(lower(col(\"resultname\")).contains(\"stool\")))\n",
    "dataframe_globulin = dataframe_globulin.where(~(lower(col(\"resultname\")).contains(\"%\")))\n",
    "dataframe_globulin = dataframe_globulin.where(~(col(\"resultname\").contains(\"BETA\")))\n",
    "dataframe_globulin = dataframe_globulin.where(~(col(\"resultname\").contains(\"GAMMA\")))\n",
    "dataframe_globulin = dataframe_globulin.where(~(col(\"resultname\").contains(\"ALPHA \")))\n",
    "dataframe_globulin = dataframe_globulin.where(~(col(\"resultname\").contains(\"IMMUNOGLOBULIN\")))\n",
    "dataframe_globulin = dataframe_globulin.where(~(col(\"resultname\").contains(\"ALPHA-\")))\n",
    "\n",
    "dataframe_globulin = dataframe_globulin.withColumn('unit_cleaned', \n",
    "                                                   when(lower(dataframe_globulin.unit).contains(\"missing\"),\"standard\").\\\n",
    "                                                   when(lower(dataframe_globulin.unit).contains(\"g/dl\"),\"standard\").\\\n",
    "                                                   when(lower(dataframe_globulin.unit).contains(\"gm/dl\"),\"standard\").\\\n",
    "                                                   when(lower(dataframe_globulin.unit).contains(\"grams/dl\"),\"standard\").\\\n",
    "                                                   when(lower(dataframe_globulin.unit).contains(\"mg/dl\"),\"standard\").\\\n",
    "                                                   when(lower(dataframe_globulin.unit).contains(\"mg/l\"),\"standard\").\\\n",
    "                                                   when(dataframe_globulin.unit == \"grams per deciliter\",\"standard\").\\\n",
    "                                                   otherwise(col(\"unit\")))\n",
    "\n",
    "dataframe_globulin = dataframe_globulin.withColumn('resultname_cleaned', \n",
    "                                       when(dataframe_globulin.unit_cleaned.contains(\"standard\"),\"globulin_cleaned\").\\\n",
    "                                       otherwise(col(\"resultname\")))\n",
    "\n",
    "Globulin_df = dataframe_globulin.filter(dataframe_globulin.resultname_cleaned ==\"globulin_cleaned\")\n",
    "\n",
    "count = Globulin_df.groupBy([\"unit\"]).count()\n",
    "final_Globulin = Globulin_df.join(count,\"unit\")\n",
    "final_Globulin = final_Globulin.filter(col(\"count\")>5)\n",
    "\n",
    "final_Globulin = final_Globulin.withColumn('resultvalue',when(lower(final_Globulin.unit).contains(\"mg/dl\"),col(\"resultvalue\")/1000).otherwise(col(\"resultvalue\"))) #mg/dl to g/dl\n",
    "\n",
    "##############\n",
    "w=Window.partitionBy(\"pat_id\",\"instance\",\"pat_enc_csn_id\").orderBy(\"observationdatetime\").rowsBetween(Window.unboundedPreceding, Window.unboundedFollowing)\n",
    "final_Globulin_1 = final_Globulin.withColumn('resultvalue_Globulin', F.mean('resultvalue').over(w))\n",
    "final_Globulin_2 = final_Globulin_1.withColumn('Last_Globulin', F.last('resultvalue').over(w))\n",
    "    \n",
    "columns = ['pat_id','instance','pat_enc_csn_id','resultvalue_Globulin','Last_Globulin']\n",
    "saved_Globulin = final_Globulin_2[columns]\n",
    "saved_Globulin = saved_Globulin.dropDuplicates(['pat_id','instance','pat_enc_csn_id'])"
   ]
  },
  {
   "cell_type": "code",
   "execution_count": 0,
   "metadata": {
    "application/vnd.databricks.v1+cell": {
     "cellMetadata": {},
     "inputWidgets": {},
     "nuid": "58f41bd0-6563-4000-af06-5a6f049f97d7",
     "showTitle": false,
     "title": ""
    }
   },
   "outputs": [],
   "source": [
    "%sql\n",
    "DROP TABLE rdp_phi_sandbox.sm_patt_Globulin_feb;"
   ]
  },
  {
   "cell_type": "code",
   "execution_count": 0,
   "metadata": {
    "application/vnd.databricks.v1+cell": {
     "cellMetadata": {},
     "inputWidgets": {},
     "nuid": "8a2d9907-783a-443d-9e43-585973de93cc",
     "showTitle": false,
     "title": ""
    }
   },
   "outputs": [],
   "source": [
    "table_name = 'rdp_phi_sandbox.sm_patt_Globulin_feb'\n",
    "saved_Globulin.write.saveAsTable(table_name)"
   ]
  },
  {
   "cell_type": "code",
   "execution_count": 0,
   "metadata": {
    "application/vnd.databricks.v1+cell": {
     "cellMetadata": {},
     "inputWidgets": {},
     "nuid": "0b096e84-2eb7-4e9d-a4b2-236e3a35c732",
     "showTitle": true,
     "title": "Total Protein - Nulls are not included -  needs conversion"
    }
   },
   "outputs": [],
   "source": [
    "dataframe_protein = initial.where(lower(col(\"resultname\")).contains(\"protein\"))\n",
    "dataframe_protein = dataframe_protein.where(lower(col(\"resultname\")).contains(\"total\"))\n",
    "\n",
    "dataframe_protein = dataframe_protein.where(dataframe_protein.unit.isNotNull())\n",
    "dataframe_protein = dataframe_protein.where(~(lower(col(\"unit\")).contains(\"%\")))\n",
    "dataframe_protein = dataframe_protein.where(~(lower(col(\"unit\")).contains(\"ratio\")))\n",
    "dataframe_protein = dataframe_protein.where(~(lower(col(\"resultname\")).contains(\"urine\")))\n",
    "dataframe_protein = dataframe_protein.where(~(lower(col(\"resultname\")).contains(\"ua\")))\n",
    "dataframe_protein = dataframe_protein.where(~(lower(col(\"resultname\")).contains(\"stool\")))\n",
    "dataframe_protein = dataframe_protein.where(~(lower(col(\"resultname\")).contains(\"%\")))\n",
    "\n",
    "dataframe_protein = dataframe_protein.withColumn('unit_cleaned', \n",
    "                                                   when(lower(dataframe_protein.unit).contains(\"g/dl\"),\"standard\").\\\n",
    "                                                   when(lower(dataframe_protein.unit).contains(\"gm/dl\"),\"standard\").\\\n",
    "                                                   when(lower(dataframe_protein.unit).contains(\"grams/dl\"),\"standard\").\\\n",
    "                                                   when(lower(dataframe_protein.unit).contains(\"mg/dl\"),\"standard\").\\\n",
    "                                                   when(lower(dataframe_protein.unit).contains(\"mg/l\"),\"standard\").\\\n",
    "                                                   otherwise(col(\"unit\")))\n",
    "\n",
    "dataframe_protein = dataframe_protein.withColumn('resultname_cleaned', \n",
    "                                       when(dataframe_protein.unit_cleaned.contains(\"standard\"),\"protein_cleaned\").\\\n",
    "                                       otherwise(col(\"resultname\")))\n",
    "\n",
    "Protein_df = dataframe_protein.filter(dataframe_protein.resultname_cleaned ==\"protein_cleaned\")\n",
    "\n",
    "count = Protein_df.groupBy([\"unit\"]).count()\n",
    "final_Protein = Protein_df.join(count,\"unit\")\n",
    "final_Protein = final_Protein.filter(col(\"count\")>5)\n",
    "\n",
    "final_Protein = final_Protein.withColumn('resultvalue',when(lower(final_Protein.unit).contains(\"mg/dl\"),col(\"resultvalue\")/1000).otherwise(col(\"resultvalue\"))) #mg/dl to g/dl\n",
    "\n",
    "##############\n",
    "w=Window.partitionBy(\"pat_id\",\"instance\",\"pat_enc_csn_id\").orderBy(\"observationdatetime\").rowsBetween(Window.unboundedPreceding, Window.unboundedFollowing)\n",
    "final_Protein_1 = final_Protein.withColumn('resultvalue_Protein', F.mean('resultvalue').over(w))\n",
    "final_Protein_2 = final_Protein_1.withColumn('Last_Protein', F.last('resultvalue').over(w))\n",
    "    \n",
    "columns = ['pat_id','instance','pat_enc_csn_id','resultvalue_Protein','Last_Protein']\n",
    "saved_Protein = final_Protein_2[columns]\n",
    "saved_Protein = saved_Protein.dropDuplicates(['pat_id','instance','pat_enc_csn_id'])"
   ]
  },
  {
   "cell_type": "code",
   "execution_count": 0,
   "metadata": {
    "application/vnd.databricks.v1+cell": {
     "cellMetadata": {},
     "inputWidgets": {},
     "nuid": "54d80567-5665-4e37-b0a0-2ded20d280ac",
     "showTitle": false,
     "title": ""
    }
   },
   "outputs": [],
   "source": [
    "%sql\n",
    "DROP TABLE rdp_phi_sandbox.sm_patt_Protein_feb;"
   ]
  },
  {
   "cell_type": "code",
   "execution_count": 0,
   "metadata": {
    "application/vnd.databricks.v1+cell": {
     "cellMetadata": {},
     "inputWidgets": {},
     "nuid": "f141ef8f-2d85-482f-8cab-b23ab3539fa5",
     "showTitle": false,
     "title": ""
    }
   },
   "outputs": [],
   "source": [
    "table_name = 'rdp_phi_sandbox.sm_patt_Protein_feb'\n",
    "saved_Protein.write.saveAsTable(table_name)"
   ]
  },
  {
   "cell_type": "code",
   "execution_count": 0,
   "metadata": {
    "application/vnd.databricks.v1+cell": {
     "cellMetadata": {},
     "inputWidgets": {},
     "nuid": "96e4466c-1c7c-4e08-b67c-54f5df15b7ff",
     "showTitle": true,
     "title": "Glucose"
    }
   },
   "outputs": [],
   "source": [
    "dataframe_glucose = initial.where((lower(col(\"resultname\")).contains(\"glucose\")))\n",
    "\n",
    "###Change Nulls to the defined unit\n",
    "dataframe_glucose = dataframe_glucose.na.fill(\"missing\",[\"unit\"])\n",
    "dataframe_glucose = dataframe_glucose.where(~(lower(col(\"unit\")).contains(\"ratio\")))\n",
    "dataframe_glucose = dataframe_glucose.where(~(lower(col(\"unit\")).contains(\"%\")))\n",
    "dataframe_glucose = dataframe_glucose.where(~(lower(col(\"unit\")).contains(\"calc\")))\n",
    "dataframe_glucose = dataframe_glucose.where(~(lower(col(\"unit\")).contains(\"cal\")))\n",
    "dataframe_glucose = dataframe_glucose.where(~(lower(col(\"resultname\")).contains(\"ratio\")))\n",
    "dataframe_glucose = dataframe_glucose.where(~(lower(col(\"resultname\")).contains(\"%\")))\n",
    "dataframe_glucose = dataframe_glucose.where(~(lower(col(\"resultname\")).contains(\"ua\")))\n",
    "dataframe_glucose = dataframe_glucose.where(~(lower(col(\"resultname\")).contains(\"stool\")))\n",
    "dataframe_glucose = dataframe_glucose.where(~(lower(col(\"resultname\")).contains(\"urine\")))\n",
    "dataframe_glucose = dataframe_glucose.where(~(lower(col(\"resultname\")).contains(\"mmol\")))\n",
    "dataframe_glucose = dataframe_glucose.where(~(lower(col(\"resultname\")).contains(\"hour\")))\n",
    "dataframe_glucose = dataframe_glucose.where(~(lower(col(\"resultname\")).contains(\"hr\")))\n",
    "dataframe_glucose = dataframe_glucose.where(~(lower(col(\"resultname\")).contains(\"fasting\")))\n",
    "dataframe_glucose = dataframe_glucose.where(~(col(\"resultname\").contains(\"GESTATIONAL GLUCOSE\")))\n",
    "dataframe_glucose = dataframe_glucose.where(~(col(\"resultname\").contains(\"ESTIMATED AVERAGE\")))\n",
    "\n",
    "dataframe_glucose = dataframe_glucose.withColumn('unit_cleaned',\n",
    "                                                 when(lower(dataframe_glucose.unit).contains(\"missing\"),\"standard\").\\\n",
    "                                                 when(lower(dataframe_glucose.unit).contains(\"mg/dl\"),\"standard\").\\\n",
    "                                                 when(dataframe_glucose.unit == \"milligrams per deciliter\",\"standard\").\\\n",
    "                                                 otherwise(col(\"unit\")))\n",
    "\n",
    "dataframe_glucose = dataframe_glucose.withColumn('resultname_cleaned', \n",
    "                                                    when(dataframe_glucose.unit_cleaned.contains(\"standard\"),\"glu_cleaned\").\\\n",
    "                                                    otherwise(col(\"resultname\")))\n",
    "\n",
    "glucose_df = dataframe_glucose.filter(dataframe_glucose.resultname_cleaned ==\"glu_cleaned\")\n",
    "\n",
    "count = glucose_df.groupBy([\"unit\"]).count()\n",
    "final_Glucose = glucose_df.join(count,\"unit\")\n",
    "final_Glucose = final_Glucose.filter(col(\"count\")>5)\n",
    "\n",
    "\n",
    "##############\n",
    "w=Window.partitionBy(\"pat_id\",\"instance\",\"pat_enc_csn_id\").orderBy(\"observationdatetime\").rowsBetween(Window.unboundedPreceding, Window.unboundedFollowing)\n",
    "final_Glucose_1 = final_Glucose.withColumn('resultvalue_Glucose', F.mean('resultvalue').over(w))\n",
    "final_Glucose_2 = final_Glucose_1.withColumn('Last_Glucose', F.last('resultvalue').over(w))\n",
    "    \n",
    "columns = ['pat_id','instance','pat_enc_csn_id','resultvalue_Glucose','Last_Glucose']\n",
    "saved_Glucose = final_Glucose_2[columns]\n",
    "saved_Glucose = saved_Glucose.dropDuplicates(['pat_id','instance','pat_enc_csn_id'])"
   ]
  },
  {
   "cell_type": "code",
   "execution_count": 0,
   "metadata": {
    "application/vnd.databricks.v1+cell": {
     "cellMetadata": {},
     "inputWidgets": {},
     "nuid": "05d9bf2c-9bb1-4955-accf-2a17601a51fc",
     "showTitle": false,
     "title": ""
    }
   },
   "outputs": [],
   "source": [
    "%sql\n",
    "DROP TABLE rdp_phi_sandbox.sm_patt_Glucose_feb;"
   ]
  },
  {
   "cell_type": "code",
   "execution_count": 0,
   "metadata": {
    "application/vnd.databricks.v1+cell": {
     "cellMetadata": {},
     "inputWidgets": {},
     "nuid": "2f558faa-81d6-4fca-97b1-959fbd923097",
     "showTitle": false,
     "title": ""
    }
   },
   "outputs": [],
   "source": [
    "table_name = 'rdp_phi_sandbox.sm_patt_Glucose_feb'\n",
    "saved_Glucose.write.saveAsTable(table_name)"
   ]
  },
  {
   "cell_type": "code",
   "execution_count": 0,
   "metadata": {
    "application/vnd.databricks.v1+cell": {
     "cellMetadata": {},
     "inputWidgets": {},
     "nuid": "95a09e1b-7a59-4d83-a2b4-63977781ea2c",
     "showTitle": false,
     "title": ""
    }
   },
   "outputs": [],
   "source": [
    "Joined_table = spark.sql(\"\"\"\n",
    "SELECT \n",
    "initial.pat_id,\n",
    "initial.instance,\n",
    "initial.pat_enc_csn_id,\n",
    "resultvalue_HCO3,\n",
    "resultvalue_CI,\n",
    "resultvalue_BUN,\n",
    "resultvalue_PLT,\n",
    "resultvalue_eosabs,\n",
    "resultvalue_neuabs,\n",
    "resultvalue_ast,\n",
    "resultvalue_alt,\n",
    "resultvalue_creatinine,\n",
    "resultvalue_potassium,\n",
    "resultvalue_alb,\n",
    "resultvalue_sodium,\n",
    "resultvalue_HGB,\n",
    "resultvalue_HCT,\n",
    "resultvalue_lymph,\n",
    "resultvalue_WBC,\n",
    "resultvalue_calcium,\n",
    "resultvalue_RBC,\n",
    "resultvalue_Baso,\n",
    "resultvalue_Mono,\n",
    "resultvalue_Alkaline,\n",
    "resultvalue_Anion,\n",
    "resultvalue_Bilirubin,\n",
    "resultvalue_Globulin,\n",
    "resultvalue_Protein,\n",
    "resultvalue_Glucose,\n",
    "resultvalue_ddimer,\n",
    "resultvalue_be,\n",
    "resultvalue_ldh,\n",
    "resultvalue_pct,\n",
    "resultvalue_mg,\n",
    "resultvalue_inr,\n",
    "resultvalue_fr,\n",
    "resultvalue_buncreat,\n",
    "resultvalue_Proth,\n",
    "resultvalue_egfr,\n",
    "resultvalue_crp,\n",
    "Last_Glucose,\n",
    "Last_Protein,\n",
    "Last_Globulin,\n",
    "Last_Bilirubin,\n",
    "Last_Anion,\n",
    "Last_Alkaline,\n",
    "Last_Mono,\n",
    "Last_Baso,\n",
    "Last_RBC,\n",
    "Last_HCO3,\n",
    "Last_CI,\n",
    "Last_BUN,\n",
    "Last_PLT,\n",
    "Last_eosabs,\n",
    "Last_neuabs,\n",
    "Last_ast,\n",
    "Last_alt,\n",
    "Last_calcium,\n",
    "Last_creatinine,\n",
    "Last_potassium,\n",
    "Last_alb,\n",
    "Last_sodium,\n",
    "Last_HGB,\n",
    "Last_HCT,\n",
    "Last_lymph,\n",
    "Last_wbc,\n",
    "Last_ddimer,\n",
    "Last_be,\n",
    "Last_ldh,\n",
    "Last_pct,\n",
    "Last_mg,\n",
    "Last_inr,\n",
    "Last_fr,\n",
    "Last_buncreat,\n",
    "Last_Proth,\n",
    "Last_egfr,\n",
    "Last_crp\n",
    "FROM rdp_phi_sandbox.sm_initial_delta_table AS initial\n",
    "  LEFT JOIN rdp_phi_sandbox.sm_patt_wbc_feb \n",
    "       ON sm_patt_wbc_feb.pat_id = initial.pat_id AND sm_patt_wbc_feb.instance = initial.instance AND sm_patt_wbc_feb.pat_enc_csn_id = initial.pat_enc_csn_id\n",
    "  LEFT JOIN rdp_phi_sandbox.sm_patt_lymphs_feb \n",
    "       ON sm_patt_lymphs_feb.pat_id = initial.pat_id AND sm_patt_lymphs_feb.instance = initial.instance AND sm_patt_lymphs_feb.pat_enc_csn_id = initial.pat_enc_csn_id\n",
    "  LEFT JOIN rdp_phi_sandbox.sm_patt_hct_feb \n",
    "       ON sm_patt_hct_feb.pat_id = initial.pat_id AND sm_patt_hct_feb.instance = initial.instance AND sm_patt_hct_feb.pat_enc_csn_id = initial.pat_enc_csn_id\n",
    "  LEFT JOIN rdp_phi_sandbox.sm_patt_hgb_feb \n",
    "       ON sm_patt_hgb_feb.pat_id = initial.pat_id AND sm_patt_hgb_feb.instance = initial.instance AND sm_patt_hgb_feb.pat_enc_csn_id = initial.pat_enc_csn_id\n",
    "  LEFT JOIN rdp_phi_sandbox.sm_patt_sodium_feb \n",
    "       ON sm_patt_sodium_feb.pat_id = initial.pat_id AND sm_patt_sodium_feb.instance = initial.instance AND sm_patt_sodium_feb.pat_enc_csn_id = initial.pat_enc_csn_id\n",
    "  LEFT JOIN rdp_phi_sandbox.sm_patt_alb_feb \n",
    "       ON sm_patt_alb_feb.pat_id = initial.pat_id AND sm_patt_alb_feb.instance = initial.instance AND sm_patt_alb_feb.pat_enc_csn_id = initial.pat_enc_csn_id\n",
    "  LEFT JOIN rdp_phi_sandbox.sm_patt_potassium_feb \n",
    "       ON sm_patt_potassium_feb.pat_id = initial.pat_id AND sm_patt_potassium_feb.instance = initial.instance AND sm_patt_potassium_feb.pat_enc_csn_id = initial.pat_enc_csn_id\n",
    "  LEFT JOIN rdp_phi_sandbox.sm_patt_creatinine_feb \n",
    "       ON sm_patt_creatinine_feb.pat_id = initial.pat_id AND sm_patt_creatinine_feb.instance = initial.instance AND sm_patt_creatinine_feb.pat_enc_csn_id = initial.pat_enc_csn_id\n",
    "  LEFT JOIN rdp_phi_sandbox.sm_patt_alt_feb \n",
    "       ON sm_patt_alt_feb.pat_id = initial.pat_id AND sm_patt_alt_feb.instance = initial.instance AND sm_patt_alt_feb.pat_enc_csn_id = initial.pat_enc_csn_id\n",
    "  LEFT JOIN rdp_phi_sandbox.sm_patt_ast_feb \n",
    "       ON sm_patt_ast_feb.pat_id = initial.pat_id AND sm_patt_ast_feb.instance = initial.instance AND sm_patt_ast_feb.pat_enc_csn_id = initial.pat_enc_csn_id\n",
    "  LEFT JOIN rdp_phi_sandbox.sm_patt_neuabs_feb \n",
    "       ON sm_patt_neuabs_feb.pat_id = initial.pat_id AND sm_patt_neuabs_feb.instance = initial.instance AND sm_patt_neuabs_feb.pat_enc_csn_id = initial.pat_enc_csn_id\n",
    "  LEFT JOIN rdp_phi_sandbox.sm_patt_eosabs_feb \n",
    "       ON sm_patt_eosabs_feb.pat_id = initial.pat_id AND sm_patt_eosabs_feb.instance = initial.instance AND sm_patt_eosabs_feb.pat_enc_csn_id = initial.pat_enc_csn_id\n",
    "  LEFT JOIN rdp_phi_sandbox.sm_patt_plt_feb \n",
    "       ON sm_patt_plt_feb.pat_id = initial.pat_id AND sm_patt_plt_feb.instance = initial.instance AND sm_patt_plt_feb.pat_enc_csn_id = initial.pat_enc_csn_id\n",
    "  LEFT JOIN rdp_phi_sandbox.sm_patt_bun_feb \n",
    "       ON sm_patt_bun_feb.pat_id = initial.pat_id AND sm_patt_bun_feb.instance = initial.instance AND sm_patt_bun_feb.pat_enc_csn_id = initial.pat_enc_csn_id\n",
    "  LEFT JOIN rdp_phi_sandbox.sm_patt_clt_feb \n",
    "       ON sm_patt_clt_feb.pat_id = initial.pat_id AND sm_patt_clt_feb.instance = initial.instance AND sm_patt_clt_feb.pat_enc_csn_id = initial.pat_enc_csn_id\n",
    "  LEFT JOIN rdp_phi_sandbox.sm_patt_HCO3_feb \n",
    "       ON sm_patt_HCO3_feb.pat_id = initial.pat_id AND sm_patt_HCO3_feb.instance = initial.instance AND sm_patt_HCO3_feb.pat_enc_csn_id = initial.pat_enc_csn_id\n",
    "  LEFT JOIN rdp_phi_sandbox.sm_patt_calcium_feb \n",
    "       ON sm_patt_calcium_feb.pat_id = initial.pat_id AND sm_patt_calcium_feb.instance = initial.instance AND sm_patt_calcium_feb.pat_enc_csn_id = initial.pat_enc_csn_id    \n",
    "  LEFT JOIN rdp_phi_sandbox.sm_patt_Glucose_feb \n",
    "       ON sm_patt_Glucose_feb.pat_id = initial.pat_id AND sm_patt_Glucose_feb.instance = initial.instance AND sm_patt_Glucose_feb.pat_enc_csn_id = initial.pat_enc_csn_id\n",
    "  LEFT JOIN rdp_phi_sandbox.sm_patt_RBC_feb \n",
    "       ON sm_patt_RBC_feb.pat_id = initial.pat_id AND sm_patt_RBC_feb.instance = initial.instance AND sm_patt_RBC_feb.pat_enc_csn_id = initial.pat_enc_csn_id\n",
    "  LEFT JOIN rdp_phi_sandbox.sm_patt_Basophil_feb \n",
    "       ON sm_patt_Basophil_feb.pat_id = initial.pat_id AND sm_patt_Basophil_feb.instance = initial.instance AND sm_patt_Basophil_feb.pat_enc_csn_id = initial.pat_enc_csn_id\n",
    "  LEFT JOIN rdp_phi_sandbox.sm_patt_Monocyte_feb \n",
    "       ON sm_patt_Monocyte_feb.pat_id = initial.pat_id AND sm_patt_Monocyte_feb.instance = initial.instance AND sm_patt_Monocyte_feb.pat_enc_csn_id = initial.pat_enc_csn_id\n",
    "  LEFT JOIN rdp_phi_sandbox.sm_patt_Alk_feb \n",
    "       ON sm_patt_Alk_feb.pat_id = initial.pat_id AND sm_patt_Alk_feb.instance = initial.instance AND sm_patt_Alk_feb.pat_enc_csn_id = initial.pat_enc_csn_id\n",
    "  LEFT JOIN rdp_phi_sandbox.sm_patt_Anion_feb \n",
    "       ON sm_patt_Anion_feb.pat_id = initial.pat_id AND sm_patt_Anion_feb.instance = initial.instance AND sm_patt_Anion_feb.pat_enc_csn_id = initial.pat_enc_csn_id\n",
    "  LEFT JOIN rdp_phi_sandbox.sm_patt_Bilirubin_feb \n",
    "       ON sm_patt_Bilirubin_feb.pat_id = initial.pat_id AND sm_patt_Bilirubin_feb.instance = initial.instance AND sm_patt_Bilirubin_feb.pat_enc_csn_id = initial.pat_enc_csn_id\n",
    "  LEFT JOIN rdp_phi_sandbox.sm_patt_Globulin_feb \n",
    "       ON sm_patt_Globulin_feb.pat_id = initial.pat_id AND sm_patt_Globulin_feb.instance = initial.instance AND sm_patt_Globulin_feb.pat_enc_csn_id = initial.pat_enc_csn_id\n",
    "  LEFT JOIN rdp_phi_sandbox.sm_patt_Protein_feb \n",
    "       ON sm_patt_Protein_feb.pat_id = initial.pat_id AND sm_patt_Protein_feb.instance = initial.instance AND sm_patt_Protein_feb.pat_enc_csn_id = initial.pat_enc_csn_id\n",
    "  LEFT JOIN rdp_phi_sandbox.sm_patt_ddimer_feb \n",
    "       ON sm_patt_ddimer_feb.pat_id = initial.pat_id AND sm_patt_ddimer_feb.instance = initial.instance AND sm_patt_ddimer_feb.pat_enc_csn_id = initial.pat_enc_csn_id\n",
    "  LEFT JOIN rdp_phi_sandbox.sm_patt_be_feb \n",
    "       ON sm_patt_be_feb.pat_id = initial.pat_id AND sm_patt_be_feb.instance = initial.instance AND sm_patt_be_feb.pat_enc_csn_id = initial.pat_enc_csn_id\n",
    "  LEFT JOIN rdp_phi_sandbox.sm_patt_ldh_feb \n",
    "       ON sm_patt_ldh_feb.pat_id = initial.pat_id AND sm_patt_ldh_feb.instance = initial.instance AND sm_patt_ldh_feb.pat_enc_csn_id = initial.pat_enc_csn_id\n",
    "  LEFT JOIN rdp_phi_sandbox.sm_patt_pct_feb \n",
    "       ON sm_patt_pct_feb.pat_id = initial.pat_id AND sm_patt_pct_feb.instance = initial.instance AND sm_patt_pct_feb.pat_enc_csn_id = initial.pat_enc_csn_id\n",
    "  LEFT JOIN rdp_phi_sandbox.sm_patt_mg_feb \n",
    "       ON sm_patt_mg_feb.pat_id = initial.pat_id AND sm_patt_mg_feb.instance = initial.instance AND sm_patt_mg_feb.pat_enc_csn_id = initial.pat_enc_csn_id\n",
    "  LEFT JOIN rdp_phi_sandbox.sm_patt_inr_feb \n",
    "       ON sm_patt_inr_feb.pat_id = initial.pat_id AND sm_patt_inr_feb.instance = initial.instance AND sm_patt_inr_feb.pat_enc_csn_id = initial.pat_enc_csn_id\n",
    "  LEFT JOIN rdp_phi_sandbox.sm_patt_fr_feb \n",
    "       ON sm_patt_fr_feb.pat_id = initial.pat_id AND sm_patt_fr_feb.instance = initial.instance AND sm_patt_fr_feb.pat_enc_csn_id = initial.pat_enc_csn_id\n",
    "  LEFT JOIN rdp_phi_sandbox.sm_patt_buncreat_feb \n",
    "       ON sm_patt_buncreat_feb.pat_id = initial.pat_id AND sm_patt_buncreat_feb.instance = initial.instance AND sm_patt_buncreat_feb.pat_enc_csn_id = initial.pat_enc_csn_id\n",
    "  LEFT JOIN rdp_phi_sandbox.sm_patt_Proth_feb \n",
    "       ON sm_patt_Proth_feb.pat_id = initial.pat_id AND sm_patt_Proth_feb.instance = initial.instance AND sm_patt_Proth_feb.pat_enc_csn_id = initial.pat_enc_csn_id\n",
    "       LEFT JOIN rdp_phi_sandbox.sm_patt_egfr_feb \n",
    "       ON sm_patt_egfr_feb.pat_id = initial.pat_id AND sm_patt_egfr_feb.instance = initial.instance AND sm_patt_egfr_feb.pat_enc_csn_id = initial.pat_enc_csn_id\n",
    "       LEFT JOIN rdp_phi_sandbox.sm_patt_crp_feb \n",
    "       ON sm_patt_crp_feb.pat_id = initial.pat_id AND sm_patt_crp_feb.instance = initial.instance AND sm_patt_crp_feb.pat_enc_csn_id = initial.pat_enc_csn_id\n",
    "\n",
    "group by\n",
    "initial.pat_id,\n",
    "initial.instance,\n",
    "initial.pat_enc_csn_id,\n",
    "resultvalue_HCO3,\n",
    "resultvalue_CI,\n",
    "resultvalue_BUN,\n",
    "resultvalue_PLT,\n",
    "resultvalue_eosabs,\n",
    "resultvalue_neuabs,\n",
    "resultvalue_ast,\n",
    "resultvalue_alt,\n",
    "resultvalue_creatinine,\n",
    "resultvalue_potassium,\n",
    "resultvalue_alb,\n",
    "resultvalue_sodium,\n",
    "resultvalue_HGB,\n",
    "resultvalue_HCT,\n",
    "resultvalue_lymph,\n",
    "resultvalue_WBC,\n",
    "resultvalue_calcium,\n",
    "resultvalue_RBC,\n",
    "resultvalue_Baso,\n",
    "resultvalue_Mono,\n",
    "resultvalue_Alkaline,\n",
    "resultvalue_Anion,\n",
    "resultvalue_Bilirubin,\n",
    "resultvalue_Globulin,\n",
    "resultvalue_Protein,\n",
    "resultvalue_Glucose,\n",
    "resultvalue_ddimer,\n",
    "resultvalue_be,\n",
    "resultvalue_ldh,\n",
    "resultvalue_pct,\n",
    "resultvalue_mg,\n",
    "resultvalue_inr,\n",
    "resultvalue_fr,\n",
    "resultvalue_buncreat,\n",
    "resultvalue_Proth,\n",
    "resultvalue_egfr,\n",
    "resultvalue_crp,\n",
    "Last_Glucose,\n",
    "Last_Protein,\n",
    "Last_Globulin,\n",
    "Last_Bilirubin,\n",
    "Last_Anion,\n",
    "Last_Alkaline,\n",
    "Last_Mono,\n",
    "Last_Baso,\n",
    "Last_RBC,\n",
    "Last_HCO3,\n",
    "Last_CI,\n",
    "Last_BUN,\n",
    "Last_PLT,\n",
    "Last_eosabs,\n",
    "Last_neuabs,\n",
    "Last_ast,\n",
    "Last_alt,\n",
    "Last_calcium,\n",
    "Last_creatinine,\n",
    "Last_potassium,\n",
    "Last_alb,\n",
    "Last_sodium,\n",
    "Last_HGB,\n",
    "Last_HCT,\n",
    "Last_lymph,\n",
    "Last_wbc,\n",
    "Last_ddimer,\n",
    "Last_be,\n",
    "Last_ldh,\n",
    "Last_pct,\n",
    "Last_mg,\n",
    "Last_inr,\n",
    "Last_fr,\n",
    "Last_buncreat,\n",
    "Last_Proth,\n",
    "Last_egfr,\n",
    "Last_crp\"\"\")\n",
    "\n",
    "Joined_table = Joined_table.dropDuplicates()\n",
    "\n",
    "Joined_table =Joined_table.dropna(subset=['resultvalue_HCO3','resultvalue_CI','resultvalue_BUN','resultvalue_PLT','resultvalue_eosabs','resultvalue_neuabs','resultvalue_ast','resultvalue_alt','resultvalue_creatinine','resultvalue_potassium','resultvalue_alb','resultvalue_sodium','resultvalue_HGB','resultvalue_HCT','resultvalue_lymph','resultvalue_WBC','resultvalue_calcium','resultvalue_RBC','resultvalue_Baso','resultvalue_Mono','resultvalue_Alkaline','resultvalue_Anion','resultvalue_Bilirubin','resultvalue_Globulin','resultvalue_Protein','resultvalue_Glucose','resultvalue_ddimer','resultvalue_be','resultvalue_ldh','resultvalue_pct','resultvalue_mg','resultvalue_inr','resultvalue_fr','resultvalue_buncreat','resultvalue_Proth','resultvalue_egfr','resultvalue_crp',\n",
    "'Last_Glucose','Last_Protein','Last_Globulin','Last_Bilirubin','Last_Anion','Last_Alkaline','Last_Mono','Last_Baso','Last_RBC','Last_HCO3','Last_CI','Last_BUN','Last_PLT','Last_eosabs','Last_neuabs','Last_ast','Last_alt','Last_calcium','Last_creatinine','Last_potassium','Last_alb','Last_sodium','Last_HGB','Last_HCT','Last_lymph','Last_wbc','Last_ddimer','Last_be','Last_ldh','Last_pct','Last_mg','Last_inr','Last_fr','Last_buncreat','Last_Proth','Last_egfr','Last_crp'],how=\"all\")\n",
    "\n",
    "Joined_table.select(\"pat_id\").distinct().count()"
   ]
  },
  {
   "cell_type": "code",
   "execution_count": 0,
   "metadata": {
    "application/vnd.databricks.v1+cell": {
     "cellMetadata": {},
     "inputWidgets": {},
     "nuid": "ff95539b-63b8-40b0-90de-e5a5adbfa2cb",
     "showTitle": false,
     "title": ""
    }
   },
   "outputs": [],
   "source": [
    "%sql\n",
    "DROP TABLE rdp_phi_sandbox.sm_patt_delta_labs_feb;"
   ]
  },
  {
   "cell_type": "code",
   "execution_count": 0,
   "metadata": {
    "application/vnd.databricks.v1+cell": {
     "cellMetadata": {},
     "inputWidgets": {},
     "nuid": "d504f27c-2d1f-4b32-b3aa-b03c0830f0ec",
     "showTitle": false,
     "title": ""
    }
   },
   "outputs": [],
   "source": [
    "table_name = 'rdp_phi_sandbox.sm_patt_delta_labs_feb'\n",
    "Joined_table.write.saveAsTable(table_name)"
   ]
  },
  {
   "cell_type": "code",
   "execution_count": 0,
   "metadata": {
    "application/vnd.databricks.v1+cell": {
     "cellMetadata": {},
     "inputWidgets": {},
     "nuid": "c4eec1fa-84c9-4466-a61d-98a97cde4116",
     "showTitle": false,
     "title": ""
    }
   },
   "outputs": [],
   "source": [
    "%sql\n",
    "REFRESH table_name;\n",
    "SELECT * FROM rdp_phi_sandbox.sm_patt_delta_labs_feb;"
   ]
  }
 ],
 "metadata": {
  "application/vnd.databricks.v1+notebook": {
   "dashboards": [],
   "environmentMetadata": null,
   "language": "python",
   "notebookMetadata": {
    "pythonIndentUnit": 2
   },
   "notebookName": "PATT_Cohort_Labs",
   "widgets": {}
  }
 },
 "nbformat": 4,
 "nbformat_minor": 0
}
