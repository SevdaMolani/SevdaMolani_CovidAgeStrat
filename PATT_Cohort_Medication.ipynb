{
 "cells": [
  {
   "cell_type": "markdown",
   "metadata": {
    "application/vnd.databricks.v1+cell": {
     "cellMetadata": {},
     "inputWidgets": {},
     "nuid": "8541aac1-ad59-41c3-bdcf-f370e45c01f1",
     "showTitle": false,
     "title": ""
    }
   },
   "source": [
    "_Author_ = \"Sevda Molani\"\n",
    "\n",
    "_copyright_ = \"2022 Sevda Molani\"\n",
    "\n",
    "_License_ = \"Institute for Systems Biology\"\n",
    "\n",
    "_Version_ = \"1.0\""
   ]
  },
  {
   "cell_type": "code",
   "execution_count": 0,
   "metadata": {
    "application/vnd.databricks.v1+cell": {
     "cellMetadata": {},
     "inputWidgets": {},
     "nuid": "28a44509-1082-4170-8585-2424fa8aac8e",
     "showTitle": false,
     "title": ""
    }
   },
   "outputs": [],
   "source": [
    "from pyspark.sql.types import *\n",
    "from pyspark.sql.functions import *\n",
    "import numpy as np\n",
    "import pandas as pd\n",
    "pd.set_option('max_columns', None)\n",
    "pd.set_option('display.max_rows', None)\n",
    "pd.set_option('display.max_colwidth', None)"
   ]
  },
  {
   "cell_type": "code",
   "execution_count": 0,
   "metadata": {
    "application/vnd.databricks.v1+cell": {
     "cellMetadata": {},
     "inputWidgets": {},
     "nuid": "76749d1c-4d55-4fa4-97ff-4e005c2db3d5",
     "showTitle": false,
     "title": ""
    }
   },
   "outputs": [],
   "source": [
    "df = spark.sql(\"\"\"SELECT \n",
    "pat_id,\n",
    "instance,\n",
    "pat_enc_csn_id,\n",
    "contact_date,\n",
    "admissiondatetime,\n",
    "dischargedatetime,\n",
    "orderingdatetime,\n",
    "observationdatetime,\n",
    "result_short,\n",
    "onehourbase \n",
    "FROM \n",
    "rdp_phi_sandbox.sm_positive_delta_results_feb\"\"\")\n",
    "\n",
    "df.createOrReplaceTempView('Baseline')"
   ]
  },
  {
   "cell_type": "code",
   "execution_count": 0,
   "metadata": {
    "application/vnd.databricks.v1+cell": {
     "cellMetadata": {},
     "inputWidgets": {},
     "nuid": "91e35549-73f5-42ad-addd-07801bfcf6df",
     "showTitle": true,
     "title": "Vassopressors"
    }
   },
   "outputs": [],
   "source": [
    "%sql DROP VIEW IF EXISTS rdp_phi_sandbox.SM_Vasopressors;\n",
    "CREATE VIEW rdp_phi_sandbox.SM_Vasopressors AS\n",
    "SELECT\n",
    "  medicationrxnorm.medication_id,\n",
    "  medicationrxnorm.instance,\n",
    "  medicationrxnorm.rxnormcode\n",
    "FROM\n",
    "  rdp_phi.medicationrxnorm\n",
    "WHERE\n",
    "  medicationrxnorm.rxnormcode in ('3616','3628','3966','3992','6963','7512','8163','11149')\n",
    "AND \n",
    "  medicationrxnorm.instance = 1000\n",
    "GROUP BY\n",
    "  medicationrxnorm.medication_id,\n",
    "  medicationrxnorm.instance,\n",
    "  medicationrxnorm.RXNORMCODE"
   ]
  },
  {
   "cell_type": "code",
   "execution_count": 0,
   "metadata": {
    "application/vnd.databricks.v1+cell": {
     "cellMetadata": {},
     "inputWidgets": {},
     "nuid": "2bcc5727-b468-43e1-b405-d229feff5e2b",
     "showTitle": false,
     "title": ""
    }
   },
   "outputs": [],
   "source": [
    "%sql \n",
    "DROP VIEW IF EXISTS rdp_phi_sandbox.SM_patt_med;\n",
    "CREATE VIEW rdp_phi_sandbox.SM_patt_med AS\n",
    "SELECT\n",
    "  CONCAT(medicationorders.instance, medicationorders.pat_id) as patient_id,\n",
    "  medicationorders.pat_id,\n",
    "  medicationorders.instance,\n",
    "  medicationorders.pat_enc_csn_id,\n",
    "  medicationorders.orderingdatetime,\n",
    "  medicationorders.medication_id,\n",
    "  medicationorders.start_date, \n",
    "  medicationorders.end_date\n",
    "FROM\n",
    "  rdp_phi.medicationorders\n",
    "WHERE\n",
    "  medicationorders.instance = 1000\n",
    "GROUP BY\n",
    "  medicationorders.pat_id,\n",
    "  medicationorders.instance,\n",
    "  medicationorders.pat_enc_csn_id,\n",
    "  medicationorders.orderingdatetime,\n",
    "  medicationorders.medication_id,\n",
    "  medicationorders.start_date, \n",
    "  medicationorders.end_date"
   ]
  },
  {
   "cell_type": "code",
   "execution_count": 0,
   "metadata": {
    "application/vnd.databricks.v1+cell": {
     "cellMetadata": {},
     "inputWidgets": {},
     "nuid": "9bd7f33c-1dc8-4253-ab9b-0cc4b9a231df",
     "showTitle": false,
     "title": ""
    }
   },
   "outputs": [],
   "source": [
    "###Patients you have used either PPI or AB\n",
    "\n",
    "Vasso_table = spark.sql(\"\"\"SELECT\n",
    "  Baseline.pat_id,\n",
    "  Baseline.pat_enc_csn_id,\n",
    "  Baseline.instance,\n",
    "  Baseline.onehourbase,\n",
    "  SM_Vasopressors.rxnormcode AS Vasso \n",
    "  FROM Baseline\n",
    "  INNER JOIN rdp_phi_sandbox.SM_patt_med ON SM_patt_med.pat_id = Baseline.pat_id AND SM_patt_med.instance = Baseline.instance AND SM_patt_med.pat_enc_csn_id = Baseline.pat_enc_csn_id\n",
    "  INNER JOIN rdp_phi_sandbox.SM_Vasopressors ON SM_Vasopressors.medication_id = SM_patt_med.medication_id\n",
    "  WHERE SM_patt_med.orderingdatetime >= Baseline.onehourbase AND SM_patt_med.orderingdatetime <= Baseline.onehourbase + Interval '1' hour\n",
    "  GROUP BY \n",
    "  Baseline.pat_id,\n",
    "  Baseline.pat_enc_csn_id,\n",
    "  Baseline.instance,\n",
    "  Baseline.onehourbase,\n",
    "  rxnormcode\"\"\")\n",
    "\n",
    "Vasso_table = Vasso_table.dropDuplicates()"
   ]
  },
  {
   "cell_type": "code",
   "execution_count": 0,
   "metadata": {
    "application/vnd.databricks.v1+cell": {
     "cellMetadata": {},
     "inputWidgets": {},
     "nuid": "303db32d-b12d-4fc1-8b90-2a0f816d796c",
     "showTitle": true,
     "title": "Immunization"
    }
   },
   "outputs": [],
   "source": [
    "%sql DROP VIEW IF EXISTS rdp_phi_sandbox.SM_Immunization;\n",
    "CREATE VIEW rdp_phi_sandbox.SM_Immunization AS\n",
    "SELECT\n",
    "  immunization.pat_id,\n",
    "  immunization.instance,\n",
    "  immunization.immunizationdate,\n",
    "  immunization.immunzatn_id,\n",
    "  immunizationcode.cvxcode,\n",
    "  immunizationstatus\n",
    "FROM\n",
    "  rdp_phi.immunization\n",
    "  INNER JOIN rdp_phi.immunizationcode ON immunization.immunzatn_id=immunizationcode.immunzatn_id AND immunization.instance=immunizationcode.instance\n",
    "WHERE\n",
    "  immunizationcode.cvxcode in ('207','208','212')\n",
    "AND \n",
    "  immunization.instance = 1000\n",
    "GROUP BY\n",
    "  immunization.pat_id,\n",
    "  immunization.instance,\n",
    "  immunization.immunizationdate,\n",
    "  immunization.immunzatn_id,\n",
    "  immunizationcode.cvxcode,\n",
    "  immunizationstatus"
   ]
  },
  {
   "cell_type": "code",
   "execution_count": 0,
   "metadata": {
    "application/vnd.databricks.v1+cell": {
     "cellMetadata": {},
     "inputWidgets": {},
     "nuid": "56a8162a-d5d5-4e42-899c-c9af64e6b9aa",
     "showTitle": false,
     "title": ""
    }
   },
   "outputs": [],
   "source": [
    "Immuno_table = spark.sql(\"\"\"SELECT\n",
    "  Baseline.pat_id,\n",
    "  Baseline.instance,\n",
    "  Baseline.pat_enc_csn_id,\n",
    "  Baseline.onehourbase,\n",
    "  immunizationdate,\n",
    "  immunizationstatus,\n",
    "  cvxcode,\n",
    "  SM_Immunization.immunzatn_id AS Vaccine_code\n",
    "  FROM Baseline\n",
    "  INNER JOIN rdp_phi_sandbox.SM_Immunization ON SM_Immunization.pat_id = Baseline.pat_id AND SM_Immunization.instance = Baseline.instance\n",
    "  WHERE SM_Immunization.immunizationdate <= Baseline.onehourbase - Interval '21' day\n",
    "  GROUP BY \n",
    "  Baseline.pat_id,\n",
    "  Baseline.instance,\n",
    "  Baseline.pat_enc_csn_id,\n",
    "  Baseline.onehourbase,\n",
    "  immunizationdate,\n",
    "  immunizationstatus,\n",
    "  cvxcode,\n",
    "  immunzatn_id\"\"\")\n",
    "\n",
    "#Immuno_table = Immuno_table.dropDuplicates()"
   ]
  },
  {
   "cell_type": "code",
   "execution_count": 0,
   "metadata": {
    "application/vnd.databricks.v1+cell": {
     "cellMetadata": {},
     "inputWidgets": {},
     "nuid": "9d87eea2-26ee-4e14-bff4-41fd67de7329",
     "showTitle": false,
     "title": ""
    }
   },
   "outputs": [],
   "source": [
    "from pyspark.sql.window import Window\n",
    "###Filter the vaccines that were given for sure\n",
    "Immuno_table = Immuno_table.filter(Immuno_table.immunizationstatus == \"Given\")\n",
    "Immuno_table = Immuno_table.dropDuplicates(['pat_id','instance','immunizationdate'])\n",
    "\n",
    "### Count the number of doses\n",
    "w = Window.partitionBy(['pat_id','instance']).orderBy(\"immunizationdate\").rowsBetween(Window.unboundedPreceding,Window.unboundedFollowing)\n",
    "Immuno_table = Immuno_table.withColumn(\"Administered_dose_count\",count(col(\"immunizationdate\")).over(w))\n",
    "Immuno_table = Immuno_table.withColumn(\"lastdose_date\",last(col(\"immunizationdate\")).over(w))\n",
    "\n",
    "### Remove the patients who got vaccinated within 14 days of Today's date\n",
    "Immuno_table = Immuno_table.filter(datediff(current_date(),Immuno_table.lastdose_date)>=14)\n",
    "\n",
    "Immuno_table = Immuno_table.dropDuplicates(['pat_id','instance'])"
   ]
  },
  {
   "cell_type": "code",
   "execution_count": 0,
   "metadata": {
    "application/vnd.databricks.v1+cell": {
     "cellMetadata": {},
     "inputWidgets": {},
     "nuid": "b527755c-547e-4355-ba1b-73f98609c3f1",
     "showTitle": false,
     "title": ""
    }
   },
   "outputs": [],
   "source": [
    "from pyspark.sql.window import Window\n",
    "from pyspark.sql.functions import rank, col\n",
    "\n",
    "###Check if fully vaccinated at time positive covid test or not\n",
    "Immuno_table = Immuno_table.withColumn(\"Vaccination_status\",\n",
    "                                       when((col('cvxcode')==\"212\") & (col('Administered_dose_count')==1) , \"Fully\").\n",
    "                                       when((col('cvxcode')==\"207\") & (col('Administered_dose_count')==2) , \"Fully\").\n",
    "                                       when((col('cvxcode')==\"208\") & (col('Administered_dose_count')==2) , \"Fully\").\n",
    "                                       when((col('cvxcode')==\"217\") & (col('Administered_dose_count')==2) , \"Fully\").\n",
    "                                       when((col('cvxcode')==\"212\") & (col('Administered_dose_count')>1) , \"Booster\").\n",
    "                                       when((col('cvxcode')==\"207\") & (col('Administered_dose_count')>2) , \"Booster\").\n",
    "                                       when((col('cvxcode')==\"208\") & (col('Administered_dose_count')>2) , \"Booster\").\n",
    "                                       when((col('cvxcode')==\"217\") & (col('Administered_dose_count')>2) , \"Booster\").\n",
    "                                       otherwise(\"Half\"))\n",
    "\n",
    "###Name the vaccines\n",
    "Immuno_table = Immuno_table.withColumn(\"CVX_name\",when(col('cvxcode')==\"212\", \"Janssen COVID-19 Vaccine\").\n",
    "                                 when(col('cvxcode')==\"207\", \"Moderna COVID-19 Vaccine\").\n",
    "                                 when(col('cvxcode')==\"208\", \"Pfizer-BioNTech COVID-19 Vaccine\").\n",
    "                                 when(col('cvxcode')==\"217\", \"Pfizer-BioNTech COVID-19 Vaccine\").\n",
    "                                 otherwise(\"Unknown\"))\n",
    "\n",
    "\n",
    "\n",
    "\n",
    "Immuno_table = Immuno_table.dropDuplicates()"
   ]
  },
  {
   "cell_type": "code",
   "execution_count": 0,
   "metadata": {
    "application/vnd.databricks.v1+cell": {
     "cellMetadata": {},
     "inputWidgets": {},
     "nuid": "4079e31c-9041-4c30-9b45-068cea51f57a",
     "showTitle": false,
     "title": ""
    }
   },
   "outputs": [],
   "source": [
    "final_df = df.join(Immuno_table,['pat_id','instance','pat_enc_csn_id','onehourbase'],'left')"
   ]
  },
  {
   "cell_type": "code",
   "execution_count": 0,
   "metadata": {
    "application/vnd.databricks.v1+cell": {
     "cellMetadata": {},
     "inputWidgets": {},
     "nuid": "43ef3974-7e43-4e41-b6c8-7635a25dbf79",
     "showTitle": false,
     "title": ""
    }
   },
   "outputs": [],
   "source": [
    "final_df = final_df.withColumn(\"Vaccination_status\",when(final_df.cvxcode.isNull(),\"NotVaccinated\").otherwise(col(\"Vaccination_status\")))\n",
    "final_df = final_df.withColumn(\"CVX_name\",when(final_df.cvxcode.isNull(),\"NotVaccinated\").otherwise(col(\"CVX_name\")))"
   ]
  },
  {
   "cell_type": "code",
   "execution_count": 0,
   "metadata": {
    "application/vnd.databricks.v1+cell": {
     "cellMetadata": {},
     "inputWidgets": {},
     "nuid": "000aa36a-5775-4795-98c9-d3138a0e73fc",
     "showTitle": false,
     "title": ""
    }
   },
   "outputs": [],
   "source": [
    "final_df1 = final_df.join(Vasso_table,['pat_id','instance','pat_enc_csn_id','onehourbase'],'left')"
   ]
  },
  {
   "cell_type": "code",
   "execution_count": 0,
   "metadata": {
    "application/vnd.databricks.v1+cell": {
     "cellMetadata": {},
     "inputWidgets": {},
     "nuid": "849b963b-bb67-45f1-a6ee-10faaa6c55a8",
     "showTitle": false,
     "title": ""
    }
   },
   "outputs": [],
   "source": [
    "final_df1 = final_df1.withColumn('Vasso_use', when((col('Vasso').isNull()), \"no\").otherwise(\"yes\"))\n",
    "final_df1 = final_df1.withColumn('Administered_dose_count', when((col('Administered_dose_count').isNull()), 0).otherwise(col('Administered_dose_count')))"
   ]
  },
  {
   "cell_type": "code",
   "execution_count": 0,
   "metadata": {
    "application/vnd.databricks.v1+cell": {
     "cellMetadata": {},
     "inputWidgets": {},
     "nuid": "3b9a61d6-01e4-4abd-9197-ca0e176a8323",
     "showTitle": false,
     "title": ""
    }
   },
   "outputs": [],
   "source": [
    "%sql\n",
    "DROP TABLE rdp_phi_sandbox.sm_patt_delta_vasso_Immuno_feb;"
   ]
  },
  {
   "cell_type": "code",
   "execution_count": 0,
   "metadata": {
    "application/vnd.databricks.v1+cell": {
     "cellMetadata": {},
     "inputWidgets": {},
     "nuid": "0b8b7c69-1cec-4cab-9f60-2fcfee516ce6",
     "showTitle": false,
     "title": ""
    }
   },
   "outputs": [],
   "source": [
    "table_name = 'rdp_phi_sandbox.sm_patt_delta_vasso_Immuno_feb'\n",
    "final_df1.write.saveAsTable(table_name)"
   ]
  },
  {
   "cell_type": "code",
   "execution_count": 0,
   "metadata": {
    "application/vnd.databricks.v1+cell": {
     "cellMetadata": {},
     "inputWidgets": {},
     "nuid": "79493461-be77-478a-9f63-b535b7857f17",
     "showTitle": false,
     "title": ""
    }
   },
   "outputs": [],
   "source": [
    "%sql\n",
    "REFRESH table_name;\n",
    "SELECT * FROM rdp_phi_sandbox.sm_patt_delta_vasso_Immuno_feb;"
   ]
  }
 ],
 "metadata": {
  "application/vnd.databricks.v1+notebook": {
   "dashboards": [],
   "environmentMetadata": null,
   "language": "python",
   "notebookMetadata": {
    "pythonIndentUnit": 2
   },
   "notebookName": "PATT_Cohort_Medication",
   "widgets": {}
  }
 },
 "nbformat": 4,
 "nbformat_minor": 0
}
